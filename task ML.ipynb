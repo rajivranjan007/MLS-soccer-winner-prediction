{
 "cells": [
  {
   "cell_type": "code",
   "execution_count": 1,
   "id": "6aabd3bc",
   "metadata": {},
   "outputs": [],
   "source": [
    "import numpy as np\n",
    "import pandas as pd"
   ]
  },
  {
   "cell_type": "markdown",
   "id": "3b805492",
   "metadata": {},
   "source": [
    "# data aquization"
   ]
  },
  {
   "cell_type": "code",
   "execution_count": 137,
   "id": "91119039",
   "metadata": {},
   "outputs": [],
   "source": [
    "df = pd.read_csv('soccer.csv')"
   ]
  },
  {
   "cell_type": "code",
   "execution_count": 53,
   "id": "7b123f4f",
   "metadata": {},
   "outputs": [
    {
     "data": {
      "text/html": [
       "<div>\n",
       "<style scoped>\n",
       "    .dataframe tbody tr th:only-of-type {\n",
       "        vertical-align: middle;\n",
       "    }\n",
       "\n",
       "    .dataframe tbody tr th {\n",
       "        vertical-align: top;\n",
       "    }\n",
       "\n",
       "    .dataframe thead th {\n",
       "        text-align: right;\n",
       "    }\n",
       "</style>\n",
       "<table border=\"1\" class=\"dataframe\">\n",
       "  <thead>\n",
       "    <tr style=\"text-align: right;\">\n",
       "      <th></th>\n",
       "      <th>Column1</th>\n",
       "      <th>Column2</th>\n",
       "      <th>Column3</th>\n",
       "      <th>Column4</th>\n",
       "      <th>Column5</th>\n",
       "      <th>Column6</th>\n",
       "      <th>Column7</th>\n",
       "      <th>Column8</th>\n",
       "      <th>Column9</th>\n",
       "    </tr>\n",
       "  </thead>\n",
       "  <tbody>\n",
       "    <tr>\n",
       "      <th>0</th>\n",
       "      <td>Sa 26 Feb</td>\n",
       "      <td>Philadelphia</td>\n",
       "      <td>1 - 1</td>\n",
       "      <td>Minnesota Utd</td>\n",
       "      <td>stats</td>\n",
       "      <td>(1-1)</td>\n",
       "      <td>-</td>\n",
       "      <td>2</td>\n",
       "      <td>+</td>\n",
       "    </tr>\n",
       "    <tr>\n",
       "      <th>1</th>\n",
       "      <td>Su 27 Feb</td>\n",
       "      <td>Columbus Crew</td>\n",
       "      <td>4 - 0</td>\n",
       "      <td>Vancouver</td>\n",
       "      <td>stats</td>\n",
       "      <td>(2-0)</td>\n",
       "      <td>+</td>\n",
       "      <td>4</td>\n",
       "      <td>-</td>\n",
       "    </tr>\n",
       "    <tr>\n",
       "      <th>2</th>\n",
       "      <td>Su 27 Feb</td>\n",
       "      <td>Los Angeles FC</td>\n",
       "      <td>3 - 0</td>\n",
       "      <td>Colorado Rapids</td>\n",
       "      <td>stats</td>\n",
       "      <td>(2-0)</td>\n",
       "      <td>+</td>\n",
       "      <td>3</td>\n",
       "      <td>-</td>\n",
       "    </tr>\n",
       "    <tr>\n",
       "      <th>3</th>\n",
       "      <td>Su 27 Feb</td>\n",
       "      <td>Dallas</td>\n",
       "      <td>1 - 1</td>\n",
       "      <td>Toronto</td>\n",
       "      <td>stats</td>\n",
       "      <td>(1-1)</td>\n",
       "      <td>-</td>\n",
       "      <td>2</td>\n",
       "      <td>+</td>\n",
       "    </tr>\n",
       "    <tr>\n",
       "      <th>4</th>\n",
       "      <td>Su 27 Feb</td>\n",
       "      <td>Austin</td>\n",
       "      <td>5 - 0</td>\n",
       "      <td>Cincinnati</td>\n",
       "      <td>stats</td>\n",
       "      <td>(3-0)</td>\n",
       "      <td>+</td>\n",
       "      <td>5</td>\n",
       "      <td>-</td>\n",
       "    </tr>\n",
       "  </tbody>\n",
       "</table>\n",
       "</div>"
      ],
      "text/plain": [
       "     Column1         Column2 Column3          Column4 Column5 Column6 Column7  \\\n",
       "0  Sa 26 Feb    Philadelphia   1 - 1    Minnesota Utd   stats   (1-1)       -   \n",
       "1  Su 27 Feb   Columbus Crew   4 - 0        Vancouver   stats   (2-0)       +   \n",
       "2  Su 27 Feb  Los Angeles FC   3 - 0  Colorado Rapids   stats   (2-0)       +   \n",
       "3  Su 27 Feb          Dallas   1 - 1          Toronto   stats   (1-1)       -   \n",
       "4  Su 27 Feb          Austin   5 - 0       Cincinnati   stats   (3-0)       +   \n",
       "\n",
       "   Column8 Column9  \n",
       "0        2       +  \n",
       "1        4       -  \n",
       "2        3       -  \n",
       "3        2       +  \n",
       "4        5       -  "
      ]
     },
     "execution_count": 53,
     "metadata": {},
     "output_type": "execute_result"
    }
   ],
   "source": [
    "df.head()"
   ]
  },
  {
   "cell_type": "code",
   "execution_count": 54,
   "id": "8640a1bb",
   "metadata": {},
   "outputs": [
    {
     "data": {
      "text/plain": [
       "(935, 9)"
      ]
     },
     "execution_count": 54,
     "metadata": {},
     "output_type": "execute_result"
    }
   ],
   "source": [
    "df.shape"
   ]
  },
  {
   "cell_type": "code",
   "execution_count": 55,
   "id": "79417968",
   "metadata": {},
   "outputs": [
    {
     "name": "stdout",
     "output_type": "stream",
     "text": [
      "<class 'pandas.core.frame.DataFrame'>\n",
      "RangeIndex: 935 entries, 0 to 934\n",
      "Data columns (total 9 columns):\n",
      " #   Column   Non-Null Count  Dtype \n",
      "---  ------   --------------  ----- \n",
      " 0   Column1  935 non-null    object\n",
      " 1   Column2  935 non-null    object\n",
      " 2   Column3  935 non-null    object\n",
      " 3   Column4  935 non-null    object\n",
      " 4   Column5  935 non-null    object\n",
      " 5   Column6  935 non-null    object\n",
      " 6   Column7  935 non-null    object\n",
      " 7   Column8  935 non-null    int64 \n",
      " 8   Column9  935 non-null    object\n",
      "dtypes: int64(1), object(8)\n",
      "memory usage: 65.9+ KB\n"
     ]
    }
   ],
   "source": [
    "df.info()"
   ]
  },
  {
   "cell_type": "code",
   "execution_count": 56,
   "id": "8d77aa60",
   "metadata": {},
   "outputs": [
    {
     "data": {
      "text/plain": [
       "Index(['Column1', 'Column2', 'Column3', 'Column4', 'Column5', 'Column6',\n",
       "       'Column7', 'Column8', 'Column9'],\n",
       "      dtype='object')"
      ]
     },
     "execution_count": 56,
     "metadata": {},
     "output_type": "execute_result"
    }
   ],
   "source": [
    "df.columns"
   ]
  },
  {
   "cell_type": "code",
   "execution_count": 57,
   "id": "f6507b39",
   "metadata": {},
   "outputs": [],
   "source": [
    "data_new = df.drop(columns=['Column1', 'Column5', 'Column6', 'Column7', 'Column8', 'Column9'])"
   ]
  },
  {
   "cell_type": "code",
   "execution_count": 58,
   "id": "0c5226ef",
   "metadata": {},
   "outputs": [
    {
     "data": {
      "text/html": [
       "<div>\n",
       "<style scoped>\n",
       "    .dataframe tbody tr th:only-of-type {\n",
       "        vertical-align: middle;\n",
       "    }\n",
       "\n",
       "    .dataframe tbody tr th {\n",
       "        vertical-align: top;\n",
       "    }\n",
       "\n",
       "    .dataframe thead th {\n",
       "        text-align: right;\n",
       "    }\n",
       "</style>\n",
       "<table border=\"1\" class=\"dataframe\">\n",
       "  <thead>\n",
       "    <tr style=\"text-align: right;\">\n",
       "      <th></th>\n",
       "      <th>Column2</th>\n",
       "      <th>Column3</th>\n",
       "      <th>Column4</th>\n",
       "    </tr>\n",
       "  </thead>\n",
       "  <tbody>\n",
       "    <tr>\n",
       "      <th>0</th>\n",
       "      <td>Philadelphia</td>\n",
       "      <td>1 - 1</td>\n",
       "      <td>Minnesota Utd</td>\n",
       "    </tr>\n",
       "    <tr>\n",
       "      <th>1</th>\n",
       "      <td>Columbus Crew</td>\n",
       "      <td>4 - 0</td>\n",
       "      <td>Vancouver</td>\n",
       "    </tr>\n",
       "    <tr>\n",
       "      <th>2</th>\n",
       "      <td>Los Angeles FC</td>\n",
       "      <td>3 - 0</td>\n",
       "      <td>Colorado Rapids</td>\n",
       "    </tr>\n",
       "    <tr>\n",
       "      <th>3</th>\n",
       "      <td>Dallas</td>\n",
       "      <td>1 - 1</td>\n",
       "      <td>Toronto</td>\n",
       "    </tr>\n",
       "    <tr>\n",
       "      <th>4</th>\n",
       "      <td>Austin</td>\n",
       "      <td>5 - 0</td>\n",
       "      <td>Cincinnati</td>\n",
       "    </tr>\n",
       "  </tbody>\n",
       "</table>\n",
       "</div>"
      ],
      "text/plain": [
       "          Column2 Column3          Column4\n",
       "0    Philadelphia   1 - 1    Minnesota Utd\n",
       "1   Columbus Crew   4 - 0        Vancouver\n",
       "2  Los Angeles FC   3 - 0  Colorado Rapids\n",
       "3          Dallas   1 - 1          Toronto\n",
       "4          Austin   5 - 0       Cincinnati"
      ]
     },
     "execution_count": 58,
     "metadata": {},
     "output_type": "execute_result"
    }
   ],
   "source": [
    "data_new.head()"
   ]
  },
  {
   "cell_type": "code",
   "execution_count": 59,
   "id": "7f26e5a9",
   "metadata": {},
   "outputs": [],
   "source": [
    "#renaming column name"
   ]
  },
  {
   "cell_type": "code",
   "execution_count": 60,
   "id": "4d6594bf",
   "metadata": {},
   "outputs": [],
   "source": [
    "data_new = data_new.rename(columns={'Column2': 'Home_team', 'Column3': 'score', 'Column4': 'Away_team'})"
   ]
  },
  {
   "cell_type": "code",
   "execution_count": 61,
   "id": "73f0b8c8",
   "metadata": {},
   "outputs": [
    {
     "data": {
      "text/html": [
       "<div>\n",
       "<style scoped>\n",
       "    .dataframe tbody tr th:only-of-type {\n",
       "        vertical-align: middle;\n",
       "    }\n",
       "\n",
       "    .dataframe tbody tr th {\n",
       "        vertical-align: top;\n",
       "    }\n",
       "\n",
       "    .dataframe thead th {\n",
       "        text-align: right;\n",
       "    }\n",
       "</style>\n",
       "<table border=\"1\" class=\"dataframe\">\n",
       "  <thead>\n",
       "    <tr style=\"text-align: right;\">\n",
       "      <th></th>\n",
       "      <th>Home_team</th>\n",
       "      <th>score</th>\n",
       "      <th>Away_team</th>\n",
       "    </tr>\n",
       "  </thead>\n",
       "  <tbody>\n",
       "    <tr>\n",
       "      <th>0</th>\n",
       "      <td>Philadelphia</td>\n",
       "      <td>1 - 1</td>\n",
       "      <td>Minnesota Utd</td>\n",
       "    </tr>\n",
       "    <tr>\n",
       "      <th>1</th>\n",
       "      <td>Columbus Crew</td>\n",
       "      <td>4 - 0</td>\n",
       "      <td>Vancouver</td>\n",
       "    </tr>\n",
       "    <tr>\n",
       "      <th>2</th>\n",
       "      <td>Los Angeles FC</td>\n",
       "      <td>3 - 0</td>\n",
       "      <td>Colorado Rapids</td>\n",
       "    </tr>\n",
       "    <tr>\n",
       "      <th>3</th>\n",
       "      <td>Dallas</td>\n",
       "      <td>1 - 1</td>\n",
       "      <td>Toronto</td>\n",
       "    </tr>\n",
       "    <tr>\n",
       "      <th>4</th>\n",
       "      <td>Austin</td>\n",
       "      <td>5 - 0</td>\n",
       "      <td>Cincinnati</td>\n",
       "    </tr>\n",
       "  </tbody>\n",
       "</table>\n",
       "</div>"
      ],
      "text/plain": [
       "        Home_team  score        Away_team\n",
       "0    Philadelphia  1 - 1    Minnesota Utd\n",
       "1   Columbus Crew  4 - 0        Vancouver\n",
       "2  Los Angeles FC  3 - 0  Colorado Rapids\n",
       "3          Dallas  1 - 1          Toronto\n",
       "4          Austin  5 - 0       Cincinnati"
      ]
     },
     "execution_count": 61,
     "metadata": {},
     "output_type": "execute_result"
    }
   ],
   "source": [
    "data_new.head()"
   ]
  },
  {
   "cell_type": "code",
   "execution_count": 62,
   "id": "ef8f9838",
   "metadata": {},
   "outputs": [
    {
     "name": "stdout",
     "output_type": "stream",
     "text": [
      "<class 'pandas.core.frame.DataFrame'>\n",
      "RangeIndex: 935 entries, 0 to 934\n",
      "Data columns (total 3 columns):\n",
      " #   Column     Non-Null Count  Dtype \n",
      "---  ------     --------------  ----- \n",
      " 0   Home_team  935 non-null    object\n",
      " 1   score      935 non-null    object\n",
      " 2   Away_team  935 non-null    object\n",
      "dtypes: object(3)\n",
      "memory usage: 22.0+ KB\n"
     ]
    }
   ],
   "source": [
    "data_new.info()"
   ]
  },
  {
   "cell_type": "code",
   "execution_count": 63,
   "id": "e0379a5c",
   "metadata": {},
   "outputs": [
    {
     "data": {
      "text/html": [
       "<div>\n",
       "<style scoped>\n",
       "    .dataframe tbody tr th:only-of-type {\n",
       "        vertical-align: middle;\n",
       "    }\n",
       "\n",
       "    .dataframe tbody tr th {\n",
       "        vertical-align: top;\n",
       "    }\n",
       "\n",
       "    .dataframe thead th {\n",
       "        text-align: right;\n",
       "    }\n",
       "</style>\n",
       "<table border=\"1\" class=\"dataframe\">\n",
       "  <thead>\n",
       "    <tr style=\"text-align: right;\">\n",
       "      <th></th>\n",
       "      <th>Home_team</th>\n",
       "      <th>score</th>\n",
       "      <th>Away_team</th>\n",
       "    </tr>\n",
       "  </thead>\n",
       "  <tbody>\n",
       "    <tr>\n",
       "      <th>count</th>\n",
       "      <td>935</td>\n",
       "      <td>935</td>\n",
       "      <td>935</td>\n",
       "    </tr>\n",
       "    <tr>\n",
       "      <th>unique</th>\n",
       "      <td>28</td>\n",
       "      <td>42</td>\n",
       "      <td>28</td>\n",
       "    </tr>\n",
       "    <tr>\n",
       "      <th>top</th>\n",
       "      <td>Philadelphia</td>\n",
       "      <td>2 - 1</td>\n",
       "      <td>Minnesota Utd</td>\n",
       "    </tr>\n",
       "    <tr>\n",
       "      <th>freq</th>\n",
       "      <td>34</td>\n",
       "      <td>112</td>\n",
       "      <td>34</td>\n",
       "    </tr>\n",
       "  </tbody>\n",
       "</table>\n",
       "</div>"
      ],
      "text/plain": [
       "           Home_team  score      Away_team\n",
       "count            935    935            935\n",
       "unique            28     42             28\n",
       "top     Philadelphia  2 - 1  Minnesota Utd\n",
       "freq              34    112             34"
      ]
     },
     "execution_count": 63,
     "metadata": {},
     "output_type": "execute_result"
    }
   ],
   "source": [
    "data_new.describe()"
   ]
  },
  {
   "cell_type": "code",
   "execution_count": 64,
   "id": "a1104132",
   "metadata": {},
   "outputs": [],
   "source": [
    "#making two new column from the score column"
   ]
  },
  {
   "cell_type": "code",
   "execution_count": 65,
   "id": "1b2b77c8",
   "metadata": {},
   "outputs": [],
   "source": [
    "data_new[['HomeTeamGoal', 'AwayTeamGoal']] = data_new['score'].str.split(' - ', expand=True)"
   ]
  },
  {
   "cell_type": "code",
   "execution_count": 66,
   "id": "d78982ee",
   "metadata": {},
   "outputs": [
    {
     "data": {
      "text/html": [
       "<div>\n",
       "<style scoped>\n",
       "    .dataframe tbody tr th:only-of-type {\n",
       "        vertical-align: middle;\n",
       "    }\n",
       "\n",
       "    .dataframe tbody tr th {\n",
       "        vertical-align: top;\n",
       "    }\n",
       "\n",
       "    .dataframe thead th {\n",
       "        text-align: right;\n",
       "    }\n",
       "</style>\n",
       "<table border=\"1\" class=\"dataframe\">\n",
       "  <thead>\n",
       "    <tr style=\"text-align: right;\">\n",
       "      <th></th>\n",
       "      <th>Home_team</th>\n",
       "      <th>score</th>\n",
       "      <th>Away_team</th>\n",
       "      <th>HomeTeamGoal</th>\n",
       "      <th>AwayTeamGoal</th>\n",
       "    </tr>\n",
       "  </thead>\n",
       "  <tbody>\n",
       "    <tr>\n",
       "      <th>0</th>\n",
       "      <td>Philadelphia</td>\n",
       "      <td>1 - 1</td>\n",
       "      <td>Minnesota Utd</td>\n",
       "      <td>1</td>\n",
       "      <td>1</td>\n",
       "    </tr>\n",
       "    <tr>\n",
       "      <th>1</th>\n",
       "      <td>Columbus Crew</td>\n",
       "      <td>4 - 0</td>\n",
       "      <td>Vancouver</td>\n",
       "      <td>4</td>\n",
       "      <td>0</td>\n",
       "    </tr>\n",
       "    <tr>\n",
       "      <th>2</th>\n",
       "      <td>Los Angeles FC</td>\n",
       "      <td>3 - 0</td>\n",
       "      <td>Colorado Rapids</td>\n",
       "      <td>3</td>\n",
       "      <td>0</td>\n",
       "    </tr>\n",
       "    <tr>\n",
       "      <th>3</th>\n",
       "      <td>Dallas</td>\n",
       "      <td>1 - 1</td>\n",
       "      <td>Toronto</td>\n",
       "      <td>1</td>\n",
       "      <td>1</td>\n",
       "    </tr>\n",
       "    <tr>\n",
       "      <th>4</th>\n",
       "      <td>Austin</td>\n",
       "      <td>5 - 0</td>\n",
       "      <td>Cincinnati</td>\n",
       "      <td>5</td>\n",
       "      <td>0</td>\n",
       "    </tr>\n",
       "  </tbody>\n",
       "</table>\n",
       "</div>"
      ],
      "text/plain": [
       "        Home_team  score        Away_team HomeTeamGoal AwayTeamGoal\n",
       "0    Philadelphia  1 - 1    Minnesota Utd            1            1\n",
       "1   Columbus Crew  4 - 0        Vancouver            4            0\n",
       "2  Los Angeles FC  3 - 0  Colorado Rapids            3            0\n",
       "3          Dallas  1 - 1          Toronto            1            1\n",
       "4          Austin  5 - 0       Cincinnati            5            0"
      ]
     },
     "execution_count": 66,
     "metadata": {},
     "output_type": "execute_result"
    }
   ],
   "source": [
    "data_new.head()"
   ]
  },
  {
   "cell_type": "code",
   "execution_count": 67,
   "id": "c564f6e3",
   "metadata": {},
   "outputs": [
    {
     "data": {
      "text/html": [
       "<div>\n",
       "<style scoped>\n",
       "    .dataframe tbody tr th:only-of-type {\n",
       "        vertical-align: middle;\n",
       "    }\n",
       "\n",
       "    .dataframe tbody tr th {\n",
       "        vertical-align: top;\n",
       "    }\n",
       "\n",
       "    .dataframe thead th {\n",
       "        text-align: right;\n",
       "    }\n",
       "</style>\n",
       "<table border=\"1\" class=\"dataframe\">\n",
       "  <thead>\n",
       "    <tr style=\"text-align: right;\">\n",
       "      <th></th>\n",
       "      <th>Home_team</th>\n",
       "      <th>score</th>\n",
       "      <th>Away_team</th>\n",
       "      <th>HomeTeamGoal</th>\n",
       "      <th>AwayTeamGoal</th>\n",
       "    </tr>\n",
       "  </thead>\n",
       "  <tbody>\n",
       "    <tr>\n",
       "      <th>count</th>\n",
       "      <td>935</td>\n",
       "      <td>935</td>\n",
       "      <td>935</td>\n",
       "      <td>935</td>\n",
       "      <td>935</td>\n",
       "    </tr>\n",
       "    <tr>\n",
       "      <th>unique</th>\n",
       "      <td>28</td>\n",
       "      <td>42</td>\n",
       "      <td>28</td>\n",
       "      <td>8</td>\n",
       "      <td>7</td>\n",
       "    </tr>\n",
       "    <tr>\n",
       "      <th>top</th>\n",
       "      <td>Philadelphia</td>\n",
       "      <td>2 - 1</td>\n",
       "      <td>Minnesota Utd</td>\n",
       "      <td>1</td>\n",
       "      <td>1</td>\n",
       "    </tr>\n",
       "    <tr>\n",
       "      <th>freq</th>\n",
       "      <td>34</td>\n",
       "      <td>112</td>\n",
       "      <td>34</td>\n",
       "      <td>289</td>\n",
       "      <td>351</td>\n",
       "    </tr>\n",
       "  </tbody>\n",
       "</table>\n",
       "</div>"
      ],
      "text/plain": [
       "           Home_team  score      Away_team HomeTeamGoal AwayTeamGoal\n",
       "count            935    935            935          935          935\n",
       "unique            28     42             28            8            7\n",
       "top     Philadelphia  2 - 1  Minnesota Utd            1            1\n",
       "freq              34    112             34          289          351"
      ]
     },
     "execution_count": 67,
     "metadata": {},
     "output_type": "execute_result"
    }
   ],
   "source": [
    "data_new.describe()"
   ]
  },
  {
   "cell_type": "code",
   "execution_count": 68,
   "id": "3d01a174",
   "metadata": {},
   "outputs": [
    {
     "name": "stderr",
     "output_type": "stream",
     "text": [
      "C:\\Users\\rajiv\\AppData\\Local\\Temp\\ipykernel_17908\\1823973713.py:1: FutureWarning: The pandas.np module is deprecated and will be removed from pandas in a future version. Import numpy directly instead.\n",
      "  data_new['Result'] = pd.np.where(data_new['HomeTeamGoal'] > data_new['AwayTeamGoal'], 'Win', pd.np.where(data_new['HomeTeamGoal'] < data_new['AwayTeamGoal'], 'Loss', 'Tie'))\n"
     ]
    }
   ],
   "source": [
    "data_new['Result'] = pd.np.where(data_new['HomeTeamGoal'] > data_new['AwayTeamGoal'], 'Win', pd.np.where(data_new['HomeTeamGoal'] < data_new['AwayTeamGoal'], 'Loss', 'Tie'))\n"
   ]
  },
  {
   "cell_type": "code",
   "execution_count": 69,
   "id": "81cc993d",
   "metadata": {},
   "outputs": [
    {
     "data": {
      "text/html": [
       "<div>\n",
       "<style scoped>\n",
       "    .dataframe tbody tr th:only-of-type {\n",
       "        vertical-align: middle;\n",
       "    }\n",
       "\n",
       "    .dataframe tbody tr th {\n",
       "        vertical-align: top;\n",
       "    }\n",
       "\n",
       "    .dataframe thead th {\n",
       "        text-align: right;\n",
       "    }\n",
       "</style>\n",
       "<table border=\"1\" class=\"dataframe\">\n",
       "  <thead>\n",
       "    <tr style=\"text-align: right;\">\n",
       "      <th></th>\n",
       "      <th>Home_team</th>\n",
       "      <th>score</th>\n",
       "      <th>Away_team</th>\n",
       "      <th>HomeTeamGoal</th>\n",
       "      <th>AwayTeamGoal</th>\n",
       "      <th>Result</th>\n",
       "    </tr>\n",
       "  </thead>\n",
       "  <tbody>\n",
       "    <tr>\n",
       "      <th>0</th>\n",
       "      <td>Philadelphia</td>\n",
       "      <td>1 - 1</td>\n",
       "      <td>Minnesota Utd</td>\n",
       "      <td>1</td>\n",
       "      <td>1</td>\n",
       "      <td>Tie</td>\n",
       "    </tr>\n",
       "    <tr>\n",
       "      <th>1</th>\n",
       "      <td>Columbus Crew</td>\n",
       "      <td>4 - 0</td>\n",
       "      <td>Vancouver</td>\n",
       "      <td>4</td>\n",
       "      <td>0</td>\n",
       "      <td>Win</td>\n",
       "    </tr>\n",
       "    <tr>\n",
       "      <th>2</th>\n",
       "      <td>Los Angeles FC</td>\n",
       "      <td>3 - 0</td>\n",
       "      <td>Colorado Rapids</td>\n",
       "      <td>3</td>\n",
       "      <td>0</td>\n",
       "      <td>Win</td>\n",
       "    </tr>\n",
       "    <tr>\n",
       "      <th>3</th>\n",
       "      <td>Dallas</td>\n",
       "      <td>1 - 1</td>\n",
       "      <td>Toronto</td>\n",
       "      <td>1</td>\n",
       "      <td>1</td>\n",
       "      <td>Tie</td>\n",
       "    </tr>\n",
       "    <tr>\n",
       "      <th>4</th>\n",
       "      <td>Austin</td>\n",
       "      <td>5 - 0</td>\n",
       "      <td>Cincinnati</td>\n",
       "      <td>5</td>\n",
       "      <td>0</td>\n",
       "      <td>Win</td>\n",
       "    </tr>\n",
       "  </tbody>\n",
       "</table>\n",
       "</div>"
      ],
      "text/plain": [
       "        Home_team  score        Away_team HomeTeamGoal AwayTeamGoal Result\n",
       "0    Philadelphia  1 - 1    Minnesota Utd            1            1    Tie\n",
       "1   Columbus Crew  4 - 0        Vancouver            4            0    Win\n",
       "2  Los Angeles FC  3 - 0  Colorado Rapids            3            0    Win\n",
       "3          Dallas  1 - 1          Toronto            1            1    Tie\n",
       "4          Austin  5 - 0       Cincinnati            5            0    Win"
      ]
     },
     "execution_count": 69,
     "metadata": {},
     "output_type": "execute_result"
    }
   ],
   "source": [
    "data_new.head()"
   ]
  },
  {
   "cell_type": "code",
   "execution_count": 70,
   "id": "14e31b98",
   "metadata": {},
   "outputs": [
    {
     "data": {
      "text/plain": [
       "array(['Tie', 'Win', 'Loss'], dtype=object)"
      ]
     },
     "execution_count": 70,
     "metadata": {},
     "output_type": "execute_result"
    }
   ],
   "source": [
    "data_new['Result'].unique()"
   ]
  },
  {
   "cell_type": "code",
   "execution_count": 71,
   "id": "565e41a6",
   "metadata": {},
   "outputs": [],
   "source": [
    "data_new=data_new.drop(columns=['score'])"
   ]
  },
  {
   "cell_type": "code",
   "execution_count": null,
   "id": "58c218c4",
   "metadata": {},
   "outputs": [],
   "source": []
  },
  {
   "cell_type": "code",
   "execution_count": null,
   "id": "d4afc81c",
   "metadata": {},
   "outputs": [],
   "source": []
  },
  {
   "cell_type": "code",
   "execution_count": 72,
   "id": "f4eaa9bc",
   "metadata": {},
   "outputs": [],
   "source": [
    "import matplotlib.pyplot as plt"
   ]
  },
  {
   "cell_type": "code",
   "execution_count": 73,
   "id": "ccfa88d8",
   "metadata": {},
   "outputs": [],
   "source": [
    "result_counts = data_new['Result'].value_counts()"
   ]
  },
  {
   "cell_type": "code",
   "execution_count": 74,
   "id": "c21d1c77",
   "metadata": {},
   "outputs": [
    {
     "data": {
      "text/plain": [
       "Text(0, 0.5, 'Count')"
      ]
     },
     "execution_count": 74,
     "metadata": {},
     "output_type": "execute_result"
    },
    {
     "data": {
      "image/png": "[encoded data removed]",
      "text/plain": [
       "<Figure size 640x480 with 1 Axes>"
      ]
     },
     "metadata": {},
     "output_type": "display_data"
    }
   ],
   "source": [
    "# Create a bar plot\n",
    "result_counts.plot(kind='bar')\n",
    "\n",
    "# Set the title and labels for the plot\n",
    "plt.title('home team Results')\n",
    "plt.xlabel('Result')\n",
    "plt.ylabel('Count')"
   ]
  },
  {
   "cell_type": "code",
   "execution_count": 75,
   "id": "01ab1ac1",
   "metadata": {},
   "outputs": [],
   "source": [
    "result_counts = data_new['HomeTeamGoal'].value_counts()"
   ]
  },
  {
   "cell_type": "code",
   "execution_count": 76,
   "id": "1f1f71d5",
   "metadata": {},
   "outputs": [
    {
     "data": {
      "text/plain": [
       "Text(0, 0.5, 'Count')"
      ]
     },
     "execution_count": 76,
     "metadata": {},
     "output_type": "execute_result"
    },
    {
     "data": {
      "image/png": "[encoded data removed]",
      "text/plain": [
       "<Figure size 640x480 with 1 Axes>"
      ]
     },
     "metadata": {},
     "output_type": "display_data"
    }
   ],
   "source": [
    "# Create a bar plot for home team goal frequency\n",
    "result_counts.plot(kind='bar')\n",
    "plt.title('home team goal frequency')\n",
    "plt.xlabel('number of goal')\n",
    "plt.ylabel('Count')"
   ]
  },
  {
   "cell_type": "code",
   "execution_count": 77,
   "id": "ceb1ab05",
   "metadata": {},
   "outputs": [
    {
     "data": {
      "text/plain": [
       "Text(0, 0.5, 'Count')"
      ]
     },
     "execution_count": 77,
     "metadata": {},
     "output_type": "execute_result"
    },
    {
     "data": {
      "image/png": "[encoded data removed]",
      "text/plain": [
       "<Figure size 640x480 with 1 Axes>"
      ]
     },
     "metadata": {},
     "output_type": "display_data"
    }
   ],
   "source": [
    "# Create a bar plot for away team goal frequency\n",
    "result_counts = data_new['AwayTeamGoal'].value_counts()\n",
    "# Create a bar plot\n",
    "result_counts.plot(kind='bar')\n",
    "\n",
    "# Set the title and labels for the plot\n",
    "plt.title('Away team goal frequency')\n",
    "plt.xlabel('number of goal')\n",
    "plt.ylabel('Count')"
   ]
  },
  {
   "cell_type": "code",
   "execution_count": 78,
   "id": "7994d458",
   "metadata": {},
   "outputs": [
    {
     "data": {
      "text/plain": [
       "list[array(['Philadelphia', 'Columbus Crew', 'Los Angeles FC', 'Dallas',\n",
       "       'Austin', 'DC United', 'Inter Miami', 'SJ Earthquakes', 'Portland',\n",
       "       'Orlando City', 'Atlanta Utd', 'LA Galaxy', 'Houston Dynamo',\n",
       "       'Seattle', 'New England', 'Toronto', 'Sporting KC', 'CF Montreal',\n",
       "       'Chicago Fire', 'Cincinnati', 'Colorado Rapids', 'Minnesota Utd',\n",
       "       'Real Salt Lake', 'Vancouver', 'Charlotte', 'New York City',\n",
       "       'New York RB', 'Nashville SC'], dtype=object)]"
      ]
     },
     "execution_count": 78,
     "metadata": {},
     "output_type": "execute_result"
    }
   ],
   "source": [
    "list[data_new['Home_team'].unique()]"
   ]
  },
  {
   "cell_type": "code",
   "execution_count": 79,
   "id": "513b7f82",
   "metadata": {},
   "outputs": [
    {
     "data": {
      "text/plain": [
       "28"
      ]
     },
     "execution_count": 79,
     "metadata": {},
     "output_type": "execute_result"
    }
   ],
   "source": [
    "data_new['Home_team'].nunique()"
   ]
  },
  {
   "cell_type": "code",
   "execution_count": 80,
   "id": "d412a9e4",
   "metadata": {},
   "outputs": [
    {
     "data": {
      "text/plain": [
       "array(['Minnesota Utd', 'Vancouver', 'Colorado Rapids', 'Toronto',\n",
       "       'Cincinnati', 'Charlotte', 'Chicago Fire', 'New York RB',\n",
       "       'New England', 'CF Montreal', 'Sporting KC', 'New York City',\n",
       "       'Real Salt Lake', 'Nashville SC', 'Dallas', 'Houston Dynamo',\n",
       "       'Philadelphia', 'Columbus Crew', 'Orlando City', 'DC United',\n",
       "       'Atlanta Utd', 'Seattle', 'LA Galaxy', 'Inter Miami', 'Portland',\n",
       "       'Los Angeles FC', 'SJ Earthquakes', 'Austin'], dtype=object)"
      ]
     },
     "execution_count": 80,
     "metadata": {},
     "output_type": "execute_result"
    }
   ],
   "source": [
    "data_new['Away_team'].unique()"
   ]
  },
  {
   "cell_type": "code",
   "execution_count": 81,
   "id": "940a18cb",
   "metadata": {},
   "outputs": [
    {
     "data": {
      "text/plain": [
       "28"
      ]
     },
     "execution_count": 81,
     "metadata": {},
     "output_type": "execute_result"
    }
   ],
   "source": [
    "data_new['Away_team'].nunique()"
   ]
  },
  {
   "cell_type": "code",
   "execution_count": 82,
   "id": "5f83faa3",
   "metadata": {},
   "outputs": [],
   "source": [
    "# Create a list of all unique values in 'Home_team' and 'Away_team' columns\n",
    "unique_teams = pd.concat([data_new['Home_team'], data_new['Away_team']]).unique()\n",
    "\n",
    "# Map each unique value to a unique integer\n",
    "team_mapping = pd.Series(pd.factorize(unique_teams)[0], index=unique_teams)\n",
    "\n",
    "# Replace the values in 'Home_team' and 'Away_team' columns with the mapped integers\n",
    "data_new['Home_team'] = data_new['Home_team'].map(team_mapping)\n",
    "data_new['Away_team'] = data_new['Away_team'].map(team_mapping)\n"
   ]
  },
  {
   "cell_type": "code",
   "execution_count": 83,
   "id": "de728027",
   "metadata": {},
   "outputs": [
    {
     "data": {
      "text/html": [
       "<div>\n",
       "<style scoped>\n",
       "    .dataframe tbody tr th:only-of-type {\n",
       "        vertical-align: middle;\n",
       "    }\n",
       "\n",
       "    .dataframe tbody tr th {\n",
       "        vertical-align: top;\n",
       "    }\n",
       "\n",
       "    .dataframe thead th {\n",
       "        text-align: right;\n",
       "    }\n",
       "</style>\n",
       "<table border=\"1\" class=\"dataframe\">\n",
       "  <thead>\n",
       "    <tr style=\"text-align: right;\">\n",
       "      <th></th>\n",
       "      <th>Home_team</th>\n",
       "      <th>Away_team</th>\n",
       "      <th>HomeTeamGoal</th>\n",
       "      <th>AwayTeamGoal</th>\n",
       "      <th>Result</th>\n",
       "    </tr>\n",
       "  </thead>\n",
       "  <tbody>\n",
       "    <tr>\n",
       "      <th>0</th>\n",
       "      <td>0</td>\n",
       "      <td>21</td>\n",
       "      <td>1</td>\n",
       "      <td>1</td>\n",
       "      <td>Tie</td>\n",
       "    </tr>\n",
       "    <tr>\n",
       "      <th>1</th>\n",
       "      <td>1</td>\n",
       "      <td>23</td>\n",
       "      <td>4</td>\n",
       "      <td>0</td>\n",
       "      <td>Win</td>\n",
       "    </tr>\n",
       "    <tr>\n",
       "      <th>2</th>\n",
       "      <td>2</td>\n",
       "      <td>20</td>\n",
       "      <td>3</td>\n",
       "      <td>0</td>\n",
       "      <td>Win</td>\n",
       "    </tr>\n",
       "    <tr>\n",
       "      <th>3</th>\n",
       "      <td>3</td>\n",
       "      <td>15</td>\n",
       "      <td>1</td>\n",
       "      <td>1</td>\n",
       "      <td>Tie</td>\n",
       "    </tr>\n",
       "    <tr>\n",
       "      <th>4</th>\n",
       "      <td>4</td>\n",
       "      <td>19</td>\n",
       "      <td>5</td>\n",
       "      <td>0</td>\n",
       "      <td>Win</td>\n",
       "    </tr>\n",
       "  </tbody>\n",
       "</table>\n",
       "</div>"
      ],
      "text/plain": [
       "   Home_team  Away_team HomeTeamGoal AwayTeamGoal Result\n",
       "0          0         21            1            1    Tie\n",
       "1          1         23            4            0    Win\n",
       "2          2         20            3            0    Win\n",
       "3          3         15            1            1    Tie\n",
       "4          4         19            5            0    Win"
      ]
     },
     "execution_count": 83,
     "metadata": {},
     "output_type": "execute_result"
    }
   ],
   "source": [
    "data_new.head()"
   ]
  },
  {
   "cell_type": "code",
   "execution_count": 87,
   "id": "c80094f6",
   "metadata": {},
   "outputs": [],
   "source": [
    "#converting Result column win as 1, loss as -1 and tie as 0"
   ]
  },
  {
   "cell_type": "code",
   "execution_count": 84,
   "id": "7eee88a4",
   "metadata": {},
   "outputs": [],
   "source": [
    "def convert_result(result):\n",
    "    if result == 'Win':\n",
    "        return 1\n",
    "    elif result == 'Tie':\n",
    "        return 0\n",
    "    else:\n",
    "        return -1"
   ]
  },
  {
   "cell_type": "code",
   "execution_count": 85,
   "id": "8c29972d",
   "metadata": {},
   "outputs": [],
   "source": [
    "data_new['Result'] = data_new['Result'].apply(convert_result)"
   ]
  },
  {
   "cell_type": "code",
   "execution_count": 86,
   "id": "365782b4",
   "metadata": {},
   "outputs": [
    {
     "data": {
      "text/html": [
       "<div>\n",
       "<style scoped>\n",
       "    .dataframe tbody tr th:only-of-type {\n",
       "        vertical-align: middle;\n",
       "    }\n",
       "\n",
       "    .dataframe tbody tr th {\n",
       "        vertical-align: top;\n",
       "    }\n",
       "\n",
       "    .dataframe thead th {\n",
       "        text-align: right;\n",
       "    }\n",
       "</style>\n",
       "<table border=\"1\" class=\"dataframe\">\n",
       "  <thead>\n",
       "    <tr style=\"text-align: right;\">\n",
       "      <th></th>\n",
       "      <th>Home_team</th>\n",
       "      <th>Away_team</th>\n",
       "      <th>HomeTeamGoal</th>\n",
       "      <th>AwayTeamGoal</th>\n",
       "      <th>Result</th>\n",
       "    </tr>\n",
       "  </thead>\n",
       "  <tbody>\n",
       "    <tr>\n",
       "      <th>0</th>\n",
       "      <td>0</td>\n",
       "      <td>21</td>\n",
       "      <td>1</td>\n",
       "      <td>1</td>\n",
       "      <td>0</td>\n",
       "    </tr>\n",
       "    <tr>\n",
       "      <th>1</th>\n",
       "      <td>1</td>\n",
       "      <td>23</td>\n",
       "      <td>4</td>\n",
       "      <td>0</td>\n",
       "      <td>1</td>\n",
       "    </tr>\n",
       "    <tr>\n",
       "      <th>2</th>\n",
       "      <td>2</td>\n",
       "      <td>20</td>\n",
       "      <td>3</td>\n",
       "      <td>0</td>\n",
       "      <td>1</td>\n",
       "    </tr>\n",
       "    <tr>\n",
       "      <th>3</th>\n",
       "      <td>3</td>\n",
       "      <td>15</td>\n",
       "      <td>1</td>\n",
       "      <td>1</td>\n",
       "      <td>0</td>\n",
       "    </tr>\n",
       "    <tr>\n",
       "      <th>4</th>\n",
       "      <td>4</td>\n",
       "      <td>19</td>\n",
       "      <td>5</td>\n",
       "      <td>0</td>\n",
       "      <td>1</td>\n",
       "    </tr>\n",
       "  </tbody>\n",
       "</table>\n",
       "</div>"
      ],
      "text/plain": [
       "   Home_team  Away_team HomeTeamGoal AwayTeamGoal  Result\n",
       "0          0         21            1            1       0\n",
       "1          1         23            4            0       1\n",
       "2          2         20            3            0       1\n",
       "3          3         15            1            1       0\n",
       "4          4         19            5            0       1"
      ]
     },
     "execution_count": 86,
     "metadata": {},
     "output_type": "execute_result"
    }
   ],
   "source": [
    "data_new.head()"
   ]
  },
  {
   "cell_type": "code",
   "execution_count": 97,
   "id": "82a1c39d",
   "metadata": {},
   "outputs": [],
   "source": [
    "from sklearn.ensemble import RandomForestClassifier\n",
    "from sklearn.model_selection import train_test_split\n",
    "from sklearn.metrics import accuracy_score"
   ]
  },
  {
   "cell_type": "code",
   "execution_count": 117,
   "id": "a7ade7a9",
   "metadata": {},
   "outputs": [],
   "source": [
    "# Split the data into training and testing sets\n",
    "X_train, X_test, y_train, y_test = train_test_split(data_new[['Home_team', 'Away_team']], data_new['Result'], test_size=0.2, random_state=42)\n"
   ]
  },
  {
   "cell_type": "code",
   "execution_count": 118,
   "id": "75ba997e",
   "metadata": {},
   "outputs": [],
   "source": [
    "# Create a random forest classifier with 100 trees\n",
    "rf = RandomForestClassifier(n_estimators=100, random_state=42)\n"
   ]
  },
  {
   "cell_type": "code",
   "execution_count": 119,
   "id": "650d6ddf",
   "metadata": {},
   "outputs": [
    {
     "data": {
      "text/html": [
       "<style>#sk-container-id-7 {color: black;background-color: white;}#sk-container-id-7 pre{padding: 0;}#sk-container-id-7 div.sk-toggleable {background-color: white;}#sk-container-id-7 label.sk-toggleable__label {cursor: pointer;display: block;width: 100%;margin-bottom: 0;padding: 0.3em;box-sizing: border-box;text-align: center;}#sk-container-id-7 label.sk-toggleable__label-arrow:before {content: \"▸\";float: left;margin-right: 0.25em;color: #696969;}#sk-container-id-7 label.sk-toggleable__label-arrow:hover:before {color: black;}#sk-container-id-7 div.sk-estimator:hover label.sk-toggleable__label-arrow:before {color: black;}#sk-container-id-7 div.sk-toggleable__content {max-height: 0;max-width: 0;overflow: hidden;text-align: left;background-color: #f0f8ff;}#sk-container-id-7 div.sk-toggleable__content pre {margin: 0.2em;color: black;border-radius: 0.25em;background-color: #f0f8ff;}#sk-container-id-7 input.sk-toggleable__control:checked~div.sk-toggleable__content {max-height: 200px;max-width: 100%;overflow: auto;}#sk-container-id-7 input.sk-toggleable__control:checked~label.sk-toggleable__label-arrow:before {content: \"▾\";}#sk-container-id-7 div.sk-estimator input.sk-toggleable__control:checked~label.sk-toggleable__label {background-color: #d4ebff;}#sk-container-id-7 div.sk-label input.sk-toggleable__control:checked~label.sk-toggleable__label {background-color: #d4ebff;}#sk-container-id-7 input.sk-hidden--visually {border: 0;clip: rect(1px 1px 1px 1px);clip: rect(1px, 1px, 1px, 1px);height: 1px;margin: -1px;overflow: hidden;padding: 0;position: absolute;width: 1px;}#sk-container-id-7 div.sk-estimator {font-family: monospace;background-color: #f0f8ff;border: 1px dotted black;border-radius: 0.25em;box-sizing: border-box;margin-bottom: 0.5em;}#sk-container-id-7 div.sk-estimator:hover {background-color: #d4ebff;}#sk-container-id-7 div.sk-parallel-item::after {content: \"\";width: 100%;border-bottom: 1px solid gray;flex-grow: 1;}#sk-container-id-7 div.sk-label:hover label.sk-toggleable__label {background-color: #d4ebff;}#sk-container-id-7 div.sk-serial::before {content: \"\";position: absolute;border-left: 1px solid gray;box-sizing: border-box;top: 0;bottom: 0;left: 50%;z-index: 0;}#sk-container-id-7 div.sk-serial {display: flex;flex-direction: column;align-items: center;background-color: white;padding-right: 0.2em;padding-left: 0.2em;position: relative;}#sk-container-id-7 div.sk-item {position: relative;z-index: 1;}#sk-container-id-7 div.sk-parallel {display: flex;align-items: stretch;justify-content: center;background-color: white;position: relative;}#sk-container-id-7 div.sk-item::before, #sk-container-id-7 div.sk-parallel-item::before {content: \"\";position: absolute;border-left: 1px solid gray;box-sizing: border-box;top: 0;bottom: 0;left: 50%;z-index: -1;}#sk-container-id-7 div.sk-parallel-item {display: flex;flex-direction: column;z-index: 1;position: relative;background-color: white;}#sk-container-id-7 div.sk-parallel-item:first-child::after {align-self: flex-end;width: 50%;}#sk-container-id-7 div.sk-parallel-item:last-child::after {align-self: flex-start;width: 50%;}#sk-container-id-7 div.sk-parallel-item:only-child::after {width: 0;}#sk-container-id-7 div.sk-dashed-wrapped {border: 1px dashed gray;margin: 0 0.4em 0.5em 0.4em;box-sizing: border-box;padding-bottom: 0.4em;background-color: white;}#sk-container-id-7 div.sk-label label {font-family: monospace;font-weight: bold;display: inline-block;line-height: 1.2em;}#sk-container-id-7 div.sk-label-container {text-align: center;}#sk-container-id-7 div.sk-container {/* jupyter's `normalize.less` sets `[hidden] { display: none; }` but bootstrap.min.css set `[hidden] { display: none !important; }` so we also need the `!important` here to be able to override the default hidden behavior on the sphinx rendered scikit-learn.org. See: https://github.com/scikit-learn/scikit-learn/issues/21755 */display: inline-block !important;position: relative;}#sk-container-id-7 div.sk-text-repr-fallback {display: none;}</style><div id=\"sk-container-id-7\" class=\"sk-top-container\"><div class=\"sk-text-repr-fallback\"><pre>RandomForestClassifier(random_state=42)</pre><b>In a Jupyter environment, please rerun this cell to show the HTML representation or trust the notebook. <br />On GitHub, the HTML representation is unable to render, please try loading this page with nbviewer.org.</b></div><div class=\"sk-container\" hidden><div class=\"sk-item\"><div class=\"sk-estimator sk-toggleable\"><input class=\"sk-toggleable__control sk-hidden--visually\" id=\"sk-estimator-id-7\" type=\"checkbox\" checked><label for=\"sk-estimator-id-7\" class=\"sk-toggleable__label sk-toggleable__label-arrow\">RandomForestClassifier</label><div class=\"sk-toggleable__content\"><pre>RandomForestClassifier(random_state=42)</pre></div></div></div></div></div>"
      ],
      "text/plain": [
       "RandomForestClassifier(random_state=42)"
      ]
     },
     "execution_count": 119,
     "metadata": {},
     "output_type": "execute_result"
    }
   ],
   "source": [
    "# Train the model on the training data\n",
    "rf.fit(X_train, y_train)\n"
   ]
  },
  {
   "cell_type": "code",
   "execution_count": 120,
   "id": "cbad8489",
   "metadata": {},
   "outputs": [
    {
     "name": "stdout",
     "output_type": "stream",
     "text": [
      "Accuracy: 0.34759358288770054\n"
     ]
    }
   ],
   "source": [
    "# Make predictions on the testing data\n",
    "y_pred = rf.predict(X_test)\n",
    "\n",
    "# Evaluate the accuracy of the model\n",
    "accuracy = accuracy_score(y_test, y_pred)\n",
    "print('Accuracy:', accuracy)"
   ]
  },
  {
   "cell_type": "code",
   "execution_count": null,
   "id": "98f8adf2",
   "metadata": {},
   "outputs": [],
   "source": [
    "#Accuracy is poor and there are many reason for that\n",
    "#small detaset(we cannont use very old data because team standings and there player changes very frequently)\n",
    "#less feature column(we will try to add each team 2022 point per game and and team ranking via team point table)\n",
    "#Non binary classification(instead of predicting hometeam- win, loss and tie we can predict only win or no win for the home team)\n",
    "#we will try to do some hyper-parameter tunning"
   ]
  },
  {
   "cell_type": "code",
   "execution_count": null,
   "id": "bdaf2d64",
   "metadata": {},
   "outputs": [],
   "source": []
  },
  {
   "cell_type": "code",
   "execution_count": null,
   "id": "93855548",
   "metadata": {},
   "outputs": [],
   "source": []
  },
  {
   "cell_type": "code",
   "execution_count": null,
   "id": "a29a96f7",
   "metadata": {},
   "outputs": [],
   "source": [
    "#"
   ]
  },
  {
   "cell_type": "code",
   "execution_count": 166,
   "id": "d0b1fdff",
   "metadata": {},
   "outputs": [
    {
     "name": "stderr",
     "output_type": "stream",
     "text": [
      "C:\\Users\\rajiv\\AppData\\Local\\Temp\\ipykernel_17908\\3074796882.py:1: FutureWarning: The error_bad_lines argument has been deprecated and will be removed in a future version. Use on_bad_lines in the future.\n",
      "\n",
      "\n",
      "  team= pd.read_csv('team.csv',encoding='latin-1', error_bad_lines=False)\n"
     ]
    }
   ],
   "source": [
    "team= pd.read_csv('team.csv',encoding='latin-1', error_bad_lines=False)"
   ]
  },
  {
   "cell_type": "code",
   "execution_count": 167,
   "id": "cdd2ed24",
   "metadata": {},
   "outputs": [
    {
     "data": {
      "text/html": [
       "<div>\n",
       "<style scoped>\n",
       "    .dataframe tbody tr th:only-of-type {\n",
       "        vertical-align: middle;\n",
       "    }\n",
       "\n",
       "    .dataframe tbody tr th {\n",
       "        vertical-align: top;\n",
       "    }\n",
       "\n",
       "    .dataframe thead th {\n",
       "        text-align: right;\n",
       "    }\n",
       "</style>\n",
       "<table border=\"1\" class=\"dataframe\">\n",
       "  <thead>\n",
       "    <tr style=\"text-align: right;\">\n",
       "      <th></th>\n",
       "      <th>Unnamed: 0</th>\n",
       "      <th>GP</th>\n",
       "      <th>W</th>\n",
       "      <th>D</th>\n",
       "      <th>L</th>\n",
       "      <th>GF</th>\n",
       "      <th>GA</th>\n",
       "      <th>GD</th>\n",
       "      <th>Pts</th>\n",
       "      <th>ÊÊÊÊÊForm</th>\n",
       "      <th>PPG</th>\n",
       "      <th>last 8</th>\n",
       "      <th>CS</th>\n",
       "      <th>FTS</th>\n",
       "    </tr>\n",
       "  </thead>\n",
       "  <tbody>\n",
       "    <tr>\n",
       "      <th>0</th>\n",
       "      <td>ÊPhiladelphia</td>\n",
       "      <td>34</td>\n",
       "      <td>19</td>\n",
       "      <td>10</td>\n",
       "      <td>5</td>\n",
       "      <td>72</td>\n",
       "      <td>26</td>\n",
       "      <td>46</td>\n",
       "      <td>67</td>\n",
       "      <td>NaN</td>\n",
       "      <td>1.97</td>\n",
       "      <td>2.38</td>\n",
       "      <td>44%</td>\n",
       "      <td>18%</td>\n",
       "    </tr>\n",
       "    <tr>\n",
       "      <th>1</th>\n",
       "      <td>ÊLos Angeles FC</td>\n",
       "      <td>34</td>\n",
       "      <td>21</td>\n",
       "      <td>4</td>\n",
       "      <td>9</td>\n",
       "      <td>66</td>\n",
       "      <td>38</td>\n",
       "      <td>28</td>\n",
       "      <td>67</td>\n",
       "      <td>NaN</td>\n",
       "      <td>1.97</td>\n",
       "      <td>1.25</td>\n",
       "      <td>26%</td>\n",
       "      <td>9%</td>\n",
       "    </tr>\n",
       "    <tr>\n",
       "      <th>2</th>\n",
       "      <td>ÊCF Montreal</td>\n",
       "      <td>34</td>\n",
       "      <td>20</td>\n",
       "      <td>5</td>\n",
       "      <td>9</td>\n",
       "      <td>63</td>\n",
       "      <td>50</td>\n",
       "      <td>13</td>\n",
       "      <td>65</td>\n",
       "      <td>NaN</td>\n",
       "      <td>1.91</td>\n",
       "      <td>2.38</td>\n",
       "      <td>21%</td>\n",
       "      <td>15%</td>\n",
       "    </tr>\n",
       "    <tr>\n",
       "      <th>3</th>\n",
       "      <td>ÊAustin</td>\n",
       "      <td>34</td>\n",
       "      <td>16</td>\n",
       "      <td>8</td>\n",
       "      <td>10</td>\n",
       "      <td>65</td>\n",
       "      <td>49</td>\n",
       "      <td>16</td>\n",
       "      <td>56</td>\n",
       "      <td>NaN</td>\n",
       "      <td>1.65</td>\n",
       "      <td>1.00</td>\n",
       "      <td>24%</td>\n",
       "      <td>15%</td>\n",
       "    </tr>\n",
       "    <tr>\n",
       "      <th>4</th>\n",
       "      <td>ÊNew York City</td>\n",
       "      <td>34</td>\n",
       "      <td>16</td>\n",
       "      <td>7</td>\n",
       "      <td>11</td>\n",
       "      <td>57</td>\n",
       "      <td>41</td>\n",
       "      <td>16</td>\n",
       "      <td>55</td>\n",
       "      <td>NaN</td>\n",
       "      <td>1.62</td>\n",
       "      <td>1.25</td>\n",
       "      <td>41%</td>\n",
       "      <td>21%</td>\n",
       "    </tr>\n",
       "  </tbody>\n",
       "</table>\n",
       "</div>"
      ],
      "text/plain": [
       "        Unnamed: 0  GP   W   D   L  GF  GA  GD  Pts  ÊÊÊÊÊForm   PPG  last 8  \\\n",
       "0    ÊPhiladelphia  34  19  10   5  72  26  46   67        NaN  1.97    2.38   \n",
       "1  ÊLos Angeles FC  34  21   4   9  66  38  28   67        NaN  1.97    1.25   \n",
       "2     ÊCF Montreal  34  20   5   9  63  50  13   65        NaN  1.91    2.38   \n",
       "3          ÊAustin  34  16   8  10  65  49  16   56        NaN  1.65    1.00   \n",
       "4   ÊNew York City  34  16   7  11  57  41  16   55        NaN  1.62    1.25   \n",
       "\n",
       "    CS  FTS  \n",
       "0  44%  18%  \n",
       "1  26%   9%  \n",
       "2  21%  15%  \n",
       "3  24%  15%  \n",
       "4  41%  21%  "
      ]
     },
     "execution_count": 167,
     "metadata": {},
     "output_type": "execute_result"
    }
   ],
   "source": [
    "team.head()"
   ]
  },
  {
   "cell_type": "code",
   "execution_count": null,
   "id": "0155882e",
   "metadata": {},
   "outputs": [],
   "source": [
    "#last 8 column can be very efficient feature while testing on totally new data but since im testing on old data it will not help"
   ]
  },
  {
   "cell_type": "code",
   "execution_count": 168,
   "id": "660cf348",
   "metadata": {},
   "outputs": [
    {
     "name": "stdout",
     "output_type": "stream",
     "text": [
      "          Unnamed: 0  GP   W   D   L  GF  GA  GD  Pts  ÊÊÊÊÊForm   PPG  \\\n",
      "0      ÊPhiladelphia  34  19  10   5  72  26  46   67        NaN  1.97   \n",
      "1    ÊLos Angeles FC  34  21   4   9  66  38  28   67        NaN  1.97   \n",
      "2       ÊCF Montreal  34  20   5   9  63  50  13   65        NaN  1.91   \n",
      "3            ÊAustin  34  16   8  10  65  49  16   56        NaN  1.65   \n",
      "4     ÊNew York City  34  16   7  11  57  41  16   55        NaN  1.62   \n",
      "5            ÊDallas  34  14  11   9  48  37  11   53        NaN  1.56   \n",
      "6       ÊNew York RB  34  15   8  11  50  41   9   53        NaN  1.56   \n",
      "7      ÊNashville SC  34  13  11  10  52  41  11   50        NaN  1.47   \n",
      "8         ÊLA Galaxy  34  14   8  12  58  51   7   50        NaN  1.47   \n",
      "9        ÊCincinnati  34  12  13   9  64  56   8   49        NaN  1.44   \n",
      "10    ÊMinnesota Utd  34  14   6  14  48  51  -3   48        NaN  1.41   \n",
      "11      ÊInter Miami  34  14   6  14  47  56  -9   48        NaN  1.41   \n",
      "12     ÊOrlando City  34  14   6  14  44  53  -9   48        NaN  1.41   \n",
      "13   ÊReal Salt Lake  34  12  11  11  43  45  -2   47        NaN  1.38   \n",
      "14    ÊColumbus Crew  34  10  16   8  46  41   5   46        NaN  1.35   \n",
      "15         ÊPortland  34  11  13  10  53  53   0   46        NaN  1.35   \n",
      "16  ÊColorado Rapids  34  11  10  13  46  57 -11   43        NaN  1.26   \n",
      "17        ÊVancouver  34  12   7  15  40  57 -17   43        NaN  1.26   \n",
      "18      ÊNew England  34  10  12  12  47  50  -3   42        NaN  1.24   \n",
      "19        ÊCharlotte  34  13   3  18  44  52  -8   42        NaN  1.24   \n",
      "20          ÊSeattle  34  12   5  17  47  46   1   41        NaN  1.21   \n",
      "21      ÊAtlanta Utd  34  10  10  14  48  54  -6   40        NaN  1.18   \n",
      "22      ÊSporting KC  34  11   7  16  42  54 -12   40        NaN  1.18   \n",
      "23     ÊChicago Fire  34  10   9  15  39  48  -9   39        NaN  1.15   \n",
      "24   ÊHouston Dynamo  34  10   6  18  43  56 -13   36        NaN  1.06   \n",
      "25   ÊSJ Earthquakes  34   8  11  15  52  69 -17   35        NaN  1.03   \n",
      "26          ÊToronto  34   9   7  18  49  66 -17   34        NaN  1.00   \n",
      "27        ÊDC United  34   7   6  21  36  71 -35   27        NaN  0.79   \n",
      "\n",
      "    last 8   CS  FTS  \n",
      "0     2.38  44%  18%  \n",
      "1     1.25  26%   9%  \n",
      "2     2.38  21%  15%  \n",
      "3     1.00  24%  15%  \n",
      "4     1.25  41%  21%  \n",
      "5     1.75  24%  24%  \n",
      "6     1.63  24%  29%  \n",
      "7     2.13  26%  12%  \n",
      "8     1.63  21%  21%  \n",
      "9     1.88  18%  15%  \n",
      "10    0.88  15%  24%  \n",
      "11    1.50  18%  26%  \n",
      "12    1.50  26%  18%  \n",
      "13    1.13  29%  29%  \n",
      "14    1.25  26%  29%  \n",
      "15    1.63  18%  12%  \n",
      "16    1.38  26%  18%  \n",
      "17    1.25  26%  24%  \n",
      "18    1.00  26%  21%  \n",
      "19    1.25  24%  32%  \n",
      "20    1.00  18%  26%  \n",
      "21    1.25  18%  21%  \n",
      "22    2.13  24%  32%  \n",
      "23    1.13  35%  38%  \n",
      "24    1.25  18%  24%  \n",
      "25    1.00  12%  24%  \n",
      "26    0.50   9%  32%  \n",
      "27    0.63  18%  47%  \n"
     ]
    }
   ],
   "source": [
    "print(team)"
   ]
  },
  {
   "cell_type": "code",
   "execution_count": 169,
   "id": "fba986ae",
   "metadata": {},
   "outputs": [],
   "source": [
    "team = team.rename(columns={'Unnamed: 0': 'team'})"
   ]
  },
  {
   "cell_type": "code",
   "execution_count": 170,
   "id": "58fca861",
   "metadata": {},
   "outputs": [
    {
     "data": {
      "text/html": [
       "<div>\n",
       "<style scoped>\n",
       "    .dataframe tbody tr th:only-of-type {\n",
       "        vertical-align: middle;\n",
       "    }\n",
       "\n",
       "    .dataframe tbody tr th {\n",
       "        vertical-align: top;\n",
       "    }\n",
       "\n",
       "    .dataframe thead th {\n",
       "        text-align: right;\n",
       "    }\n",
       "</style>\n",
       "<table border=\"1\" class=\"dataframe\">\n",
       "  <thead>\n",
       "    <tr style=\"text-align: right;\">\n",
       "      <th></th>\n",
       "      <th>team</th>\n",
       "      <th>GP</th>\n",
       "      <th>W</th>\n",
       "      <th>D</th>\n",
       "      <th>L</th>\n",
       "      <th>GF</th>\n",
       "      <th>GA</th>\n",
       "      <th>GD</th>\n",
       "      <th>Pts</th>\n",
       "      <th>ÊÊÊÊÊForm</th>\n",
       "      <th>PPG</th>\n",
       "      <th>last 8</th>\n",
       "      <th>CS</th>\n",
       "      <th>FTS</th>\n",
       "    </tr>\n",
       "  </thead>\n",
       "  <tbody>\n",
       "    <tr>\n",
       "      <th>0</th>\n",
       "      <td>ÊPhiladelphia</td>\n",
       "      <td>34</td>\n",
       "      <td>19</td>\n",
       "      <td>10</td>\n",
       "      <td>5</td>\n",
       "      <td>72</td>\n",
       "      <td>26</td>\n",
       "      <td>46</td>\n",
       "      <td>67</td>\n",
       "      <td>NaN</td>\n",
       "      <td>1.97</td>\n",
       "      <td>2.38</td>\n",
       "      <td>44%</td>\n",
       "      <td>18%</td>\n",
       "    </tr>\n",
       "    <tr>\n",
       "      <th>1</th>\n",
       "      <td>ÊLos Angeles FC</td>\n",
       "      <td>34</td>\n",
       "      <td>21</td>\n",
       "      <td>4</td>\n",
       "      <td>9</td>\n",
       "      <td>66</td>\n",
       "      <td>38</td>\n",
       "      <td>28</td>\n",
       "      <td>67</td>\n",
       "      <td>NaN</td>\n",
       "      <td>1.97</td>\n",
       "      <td>1.25</td>\n",
       "      <td>26%</td>\n",
       "      <td>9%</td>\n",
       "    </tr>\n",
       "  </tbody>\n",
       "</table>\n",
       "</div>"
      ],
      "text/plain": [
       "              team  GP   W   D  L  GF  GA  GD  Pts  ÊÊÊÊÊForm   PPG  last 8  \\\n",
       "0    ÊPhiladelphia  34  19  10  5  72  26  46   67        NaN  1.97    2.38   \n",
       "1  ÊLos Angeles FC  34  21   4  9  66  38  28   67        NaN  1.97    1.25   \n",
       "\n",
       "    CS  FTS  \n",
       "0  44%  18%  \n",
       "1  26%   9%  "
      ]
     },
     "execution_count": 170,
     "metadata": {},
     "output_type": "execute_result"
    }
   ],
   "source": [
    "team.head(2)"
   ]
  },
  {
   "cell_type": "code",
   "execution_count": 171,
   "id": "76dd8dd8",
   "metadata": {},
   "outputs": [],
   "source": [
    "team_new = team.loc[:, ['team','Pts', 'PPG']]"
   ]
  },
  {
   "cell_type": "code",
   "execution_count": 172,
   "id": "ec755c33",
   "metadata": {},
   "outputs": [
    {
     "data": {
      "text/html": [
       "<div>\n",
       "<style scoped>\n",
       "    .dataframe tbody tr th:only-of-type {\n",
       "        vertical-align: middle;\n",
       "    }\n",
       "\n",
       "    .dataframe tbody tr th {\n",
       "        vertical-align: top;\n",
       "    }\n",
       "\n",
       "    .dataframe thead th {\n",
       "        text-align: right;\n",
       "    }\n",
       "</style>\n",
       "<table border=\"1\" class=\"dataframe\">\n",
       "  <thead>\n",
       "    <tr style=\"text-align: right;\">\n",
       "      <th></th>\n",
       "      <th>team</th>\n",
       "      <th>Pts</th>\n",
       "      <th>PPG</th>\n",
       "    </tr>\n",
       "  </thead>\n",
       "  <tbody>\n",
       "    <tr>\n",
       "      <th>0</th>\n",
       "      <td>ÊPhiladelphia</td>\n",
       "      <td>67</td>\n",
       "      <td>1.97</td>\n",
       "    </tr>\n",
       "    <tr>\n",
       "      <th>1</th>\n",
       "      <td>ÊLos Angeles FC</td>\n",
       "      <td>67</td>\n",
       "      <td>1.97</td>\n",
       "    </tr>\n",
       "  </tbody>\n",
       "</table>\n",
       "</div>"
      ],
      "text/plain": [
       "              team  Pts   PPG\n",
       "0    ÊPhiladelphia   67  1.97\n",
       "1  ÊLos Angeles FC   67  1.97"
      ]
     },
     "execution_count": 172,
     "metadata": {},
     "output_type": "execute_result"
    }
   ],
   "source": [
    "team_new.head(2)"
   ]
  },
  {
   "cell_type": "code",
   "execution_count": 173,
   "id": "936cde41",
   "metadata": {},
   "outputs": [],
   "source": [
    "#correcting name issue of each name has a wrong character in first place"
   ]
  },
  {
   "cell_type": "code",
   "execution_count": 174,
   "id": "2d3823cb",
   "metadata": {},
   "outputs": [],
   "source": [
    "team_new['team'] = team_new['team'].str.slice(start=1)"
   ]
  },
  {
   "cell_type": "code",
   "execution_count": 175,
   "id": "d08506b8",
   "metadata": {},
   "outputs": [
    {
     "data": {
      "text/html": [
       "<div>\n",
       "<style scoped>\n",
       "    .dataframe tbody tr th:only-of-type {\n",
       "        vertical-align: middle;\n",
       "    }\n",
       "\n",
       "    .dataframe tbody tr th {\n",
       "        vertical-align: top;\n",
       "    }\n",
       "\n",
       "    .dataframe thead th {\n",
       "        text-align: right;\n",
       "    }\n",
       "</style>\n",
       "<table border=\"1\" class=\"dataframe\">\n",
       "  <thead>\n",
       "    <tr style=\"text-align: right;\">\n",
       "      <th></th>\n",
       "      <th>team</th>\n",
       "      <th>Pts</th>\n",
       "      <th>PPG</th>\n",
       "    </tr>\n",
       "  </thead>\n",
       "  <tbody>\n",
       "    <tr>\n",
       "      <th>0</th>\n",
       "      <td>Philadelphia</td>\n",
       "      <td>67</td>\n",
       "      <td>1.97</td>\n",
       "    </tr>\n",
       "    <tr>\n",
       "      <th>1</th>\n",
       "      <td>Los Angeles FC</td>\n",
       "      <td>67</td>\n",
       "      <td>1.97</td>\n",
       "    </tr>\n",
       "  </tbody>\n",
       "</table>\n",
       "</div>"
      ],
      "text/plain": [
       "             team  Pts   PPG\n",
       "0    Philadelphia   67  1.97\n",
       "1  Los Angeles FC   67  1.97"
      ]
     },
     "execution_count": 175,
     "metadata": {},
     "output_type": "execute_result"
    }
   ],
   "source": [
    "team_new.head(2)"
   ]
  },
  {
   "cell_type": "code",
   "execution_count": 176,
   "id": "4c862c31",
   "metadata": {},
   "outputs": [],
   "source": [
    "df = pd.read_csv('soccer.csv')"
   ]
  },
  {
   "cell_type": "code",
   "execution_count": 177,
   "id": "4b75093c",
   "metadata": {},
   "outputs": [],
   "source": [
    "data_new = df.drop(columns=['Column1', 'Column5', 'Column6', 'Column7', 'Column8', 'Column9'])"
   ]
  },
  {
   "cell_type": "code",
   "execution_count": 178,
   "id": "c42c2ddc",
   "metadata": {},
   "outputs": [],
   "source": [
    "data_new = data_new.rename(columns={'Column2': 'Home_team', 'Column3': 'score', 'Column4': 'Away_team'})"
   ]
  },
  {
   "cell_type": "code",
   "execution_count": 179,
   "id": "44b0a171",
   "metadata": {},
   "outputs": [],
   "source": [
    "data_new[['HomeTeamGoal', 'AwayTeamGoal']] = data_new['score'].str.split(' - ', expand=True)"
   ]
  },
  {
   "cell_type": "code",
   "execution_count": 180,
   "id": "fbe91a7e",
   "metadata": {},
   "outputs": [
    {
     "name": "stderr",
     "output_type": "stream",
     "text": [
      "C:\\Users\\rajiv\\AppData\\Local\\Temp\\ipykernel_17908\\3268686699.py:1: FutureWarning: The pandas.np module is deprecated and will be removed from pandas in a future version. Import numpy directly instead.\n",
      "  data_new['Result'] = pd.np.where(data_new['HomeTeamGoal'] > data_new['AwayTeamGoal'], 'Win', pd.np.where(data_new['HomeTeamGoal'] < data_new['AwayTeamGoal'], 'Loss', 'Tie'))\n"
     ]
    }
   ],
   "source": [
    "data_new['Result'] = pd.np.where(data_new['HomeTeamGoal'] > data_new['AwayTeamGoal'], 'Win', pd.np.where(data_new['HomeTeamGoal'] < data_new['AwayTeamGoal'], 'Loss', 'Tie'))"
   ]
  },
  {
   "cell_type": "code",
   "execution_count": 181,
   "id": "7aef9f35",
   "metadata": {},
   "outputs": [],
   "source": [
    "data_new=data_new.drop(columns=['score'])"
   ]
  },
  {
   "cell_type": "code",
   "execution_count": 182,
   "id": "14ceb3c1",
   "metadata": {
    "scrolled": true
   },
   "outputs": [
    {
     "data": {
      "text/html": [
       "<div>\n",
       "<style scoped>\n",
       "    .dataframe tbody tr th:only-of-type {\n",
       "        vertical-align: middle;\n",
       "    }\n",
       "\n",
       "    .dataframe tbody tr th {\n",
       "        vertical-align: top;\n",
       "    }\n",
       "\n",
       "    .dataframe thead th {\n",
       "        text-align: right;\n",
       "    }\n",
       "</style>\n",
       "<table border=\"1\" class=\"dataframe\">\n",
       "  <thead>\n",
       "    <tr style=\"text-align: right;\">\n",
       "      <th></th>\n",
       "      <th>Home_team</th>\n",
       "      <th>Away_team</th>\n",
       "      <th>HomeTeamGoal</th>\n",
       "      <th>AwayTeamGoal</th>\n",
       "      <th>Result</th>\n",
       "    </tr>\n",
       "  </thead>\n",
       "  <tbody>\n",
       "    <tr>\n",
       "      <th>0</th>\n",
       "      <td>Philadelphia</td>\n",
       "      <td>Minnesota Utd</td>\n",
       "      <td>1</td>\n",
       "      <td>1</td>\n",
       "      <td>Tie</td>\n",
       "    </tr>\n",
       "    <tr>\n",
       "      <th>1</th>\n",
       "      <td>Columbus Crew</td>\n",
       "      <td>Vancouver</td>\n",
       "      <td>4</td>\n",
       "      <td>0</td>\n",
       "      <td>Win</td>\n",
       "    </tr>\n",
       "    <tr>\n",
       "      <th>2</th>\n",
       "      <td>Los Angeles FC</td>\n",
       "      <td>Colorado Rapids</td>\n",
       "      <td>3</td>\n",
       "      <td>0</td>\n",
       "      <td>Win</td>\n",
       "    </tr>\n",
       "    <tr>\n",
       "      <th>3</th>\n",
       "      <td>Dallas</td>\n",
       "      <td>Toronto</td>\n",
       "      <td>1</td>\n",
       "      <td>1</td>\n",
       "      <td>Tie</td>\n",
       "    </tr>\n",
       "    <tr>\n",
       "      <th>4</th>\n",
       "      <td>Austin</td>\n",
       "      <td>Cincinnati</td>\n",
       "      <td>5</td>\n",
       "      <td>0</td>\n",
       "      <td>Win</td>\n",
       "    </tr>\n",
       "    <tr>\n",
       "      <th>5</th>\n",
       "      <td>DC United</td>\n",
       "      <td>Charlotte</td>\n",
       "      <td>3</td>\n",
       "      <td>0</td>\n",
       "      <td>Win</td>\n",
       "    </tr>\n",
       "    <tr>\n",
       "      <th>6</th>\n",
       "      <td>Inter Miami</td>\n",
       "      <td>Chicago Fire</td>\n",
       "      <td>0</td>\n",
       "      <td>0</td>\n",
       "      <td>Tie</td>\n",
       "    </tr>\n",
       "    <tr>\n",
       "      <th>7</th>\n",
       "      <td>SJ Earthquakes</td>\n",
       "      <td>New York RB</td>\n",
       "      <td>1</td>\n",
       "      <td>3</td>\n",
       "      <td>Loss</td>\n",
       "    </tr>\n",
       "    <tr>\n",
       "      <th>8</th>\n",
       "      <td>Portland</td>\n",
       "      <td>New England</td>\n",
       "      <td>2</td>\n",
       "      <td>2</td>\n",
       "      <td>Tie</td>\n",
       "    </tr>\n",
       "    <tr>\n",
       "      <th>9</th>\n",
       "      <td>Orlando City</td>\n",
       "      <td>CF Montreal</td>\n",
       "      <td>2</td>\n",
       "      <td>0</td>\n",
       "      <td>Win</td>\n",
       "    </tr>\n",
       "  </tbody>\n",
       "</table>\n",
       "</div>"
      ],
      "text/plain": [
       "        Home_team        Away_team HomeTeamGoal AwayTeamGoal Result\n",
       "0    Philadelphia    Minnesota Utd            1            1    Tie\n",
       "1   Columbus Crew        Vancouver            4            0    Win\n",
       "2  Los Angeles FC  Colorado Rapids            3            0    Win\n",
       "3          Dallas          Toronto            1            1    Tie\n",
       "4          Austin       Cincinnati            5            0    Win\n",
       "5       DC United        Charlotte            3            0    Win\n",
       "6     Inter Miami     Chicago Fire            0            0    Tie\n",
       "7  SJ Earthquakes      New York RB            1            3   Loss\n",
       "8        Portland      New England            2            2    Tie\n",
       "9    Orlando City      CF Montreal            2            0    Win"
      ]
     },
     "execution_count": 182,
     "metadata": {},
     "output_type": "execute_result"
    }
   ],
   "source": [
    "data_new.head(10)"
   ]
  },
  {
   "cell_type": "code",
   "execution_count": 183,
   "id": "16159770",
   "metadata": {},
   "outputs": [],
   "source": [
    "data_new['index'] = range(len(data_new))"
   ]
  },
  {
   "cell_type": "code",
   "execution_count": 184,
   "id": "079d2846",
   "metadata": {},
   "outputs": [],
   "source": [
    "data_new.rename(columns={'Home_team': 'team'}, inplace=True)"
   ]
  },
  {
   "cell_type": "code",
   "execution_count": 185,
   "id": "b1e76eb1",
   "metadata": {},
   "outputs": [
    {
     "data": {
      "text/plain": [
       "Index(['team', 'Away_team', 'HomeTeamGoal', 'AwayTeamGoal', 'Result', 'index'], dtype='object')"
      ]
     },
     "execution_count": 185,
     "metadata": {},
     "output_type": "execute_result"
    }
   ],
   "source": [
    "data_new.columns"
   ]
  },
  {
   "cell_type": "code",
   "execution_count": 313,
   "id": "a8645cb0",
   "metadata": {},
   "outputs": [],
   "source": [
    "merged_df = pd.merge(data_new, team_new, on='team')"
   ]
  },
  {
   "cell_type": "code",
   "execution_count": 314,
   "id": "114de961",
   "metadata": {},
   "outputs": [
    {
     "data": {
      "text/html": [
       "<div>\n",
       "<style scoped>\n",
       "    .dataframe tbody tr th:only-of-type {\n",
       "        vertical-align: middle;\n",
       "    }\n",
       "\n",
       "    .dataframe tbody tr th {\n",
       "        vertical-align: top;\n",
       "    }\n",
       "\n",
       "    .dataframe thead th {\n",
       "        text-align: right;\n",
       "    }\n",
       "</style>\n",
       "<table border=\"1\" class=\"dataframe\">\n",
       "  <thead>\n",
       "    <tr style=\"text-align: right;\">\n",
       "      <th></th>\n",
       "      <th>team</th>\n",
       "      <th>Away_team</th>\n",
       "      <th>HomeTeamGoal</th>\n",
       "      <th>AwayTeamGoal</th>\n",
       "      <th>Result</th>\n",
       "      <th>index</th>\n",
       "      <th>Pts</th>\n",
       "      <th>PPG</th>\n",
       "    </tr>\n",
       "  </thead>\n",
       "  <tbody>\n",
       "    <tr>\n",
       "      <th>0</th>\n",
       "      <td>Philadelphia</td>\n",
       "      <td>Minnesota Utd</td>\n",
       "      <td>1</td>\n",
       "      <td>1</td>\n",
       "      <td>Tie</td>\n",
       "      <td>0</td>\n",
       "      <td>67</td>\n",
       "      <td>1.97</td>\n",
       "    </tr>\n",
       "    <tr>\n",
       "      <th>1</th>\n",
       "      <td>Philadelphia</td>\n",
       "      <td>SJ Earthquakes</td>\n",
       "      <td>2</td>\n",
       "      <td>0</td>\n",
       "      <td>Win</td>\n",
       "      <td>36</td>\n",
       "      <td>67</td>\n",
       "      <td>1.97</td>\n",
       "    </tr>\n",
       "    <tr>\n",
       "      <th>2</th>\n",
       "      <td>Philadelphia</td>\n",
       "      <td>Charlotte</td>\n",
       "      <td>2</td>\n",
       "      <td>0</td>\n",
       "      <td>Win</td>\n",
       "      <td>66</td>\n",
       "      <td>67</td>\n",
       "      <td>1.97</td>\n",
       "    </tr>\n",
       "    <tr>\n",
       "      <th>3</th>\n",
       "      <td>Philadelphia</td>\n",
       "      <td>Columbus Crew</td>\n",
       "      <td>1</td>\n",
       "      <td>0</td>\n",
       "      <td>Win</td>\n",
       "      <td>76</td>\n",
       "      <td>67</td>\n",
       "      <td>1.97</td>\n",
       "    </tr>\n",
       "    <tr>\n",
       "      <th>4</th>\n",
       "      <td>Philadelphia</td>\n",
       "      <td>CF Montreal</td>\n",
       "      <td>1</td>\n",
       "      <td>1</td>\n",
       "      <td>Tie</td>\n",
       "      <td>100</td>\n",
       "      <td>67</td>\n",
       "      <td>1.97</td>\n",
       "    </tr>\n",
       "  </tbody>\n",
       "</table>\n",
       "</div>"
      ],
      "text/plain": [
       "           team       Away_team HomeTeamGoal AwayTeamGoal Result  index  Pts  \\\n",
       "0  Philadelphia   Minnesota Utd            1            1    Tie      0   67   \n",
       "1  Philadelphia  SJ Earthquakes            2            0    Win     36   67   \n",
       "2  Philadelphia       Charlotte            2            0    Win     66   67   \n",
       "3  Philadelphia   Columbus Crew            1            0    Win     76   67   \n",
       "4  Philadelphia     CF Montreal            1            1    Tie    100   67   \n",
       "\n",
       "    PPG  \n",
       "0  1.97  \n",
       "1  1.97  \n",
       "2  1.97  \n",
       "3  1.97  \n",
       "4  1.97  "
      ]
     },
     "execution_count": 314,
     "metadata": {},
     "output_type": "execute_result"
    }
   ],
   "source": [
    "merged_df.head()"
   ]
  },
  {
   "cell_type": "code",
   "execution_count": 315,
   "id": "b63932a6",
   "metadata": {},
   "outputs": [],
   "source": [
    "merged_df = merged_df.rename(columns={'team': 'Home_team', 'Away_team': 'team', 'Pts': 'hometeam_pts', 'PPG': 'hometeam_ppg'})"
   ]
  },
  {
   "cell_type": "code",
   "execution_count": 316,
   "id": "79be1242",
   "metadata": {},
   "outputs": [
    {
     "data": {
      "text/html": [
       "<div>\n",
       "<style scoped>\n",
       "    .dataframe tbody tr th:only-of-type {\n",
       "        vertical-align: middle;\n",
       "    }\n",
       "\n",
       "    .dataframe tbody tr th {\n",
       "        vertical-align: top;\n",
       "    }\n",
       "\n",
       "    .dataframe thead th {\n",
       "        text-align: right;\n",
       "    }\n",
       "</style>\n",
       "<table border=\"1\" class=\"dataframe\">\n",
       "  <thead>\n",
       "    <tr style=\"text-align: right;\">\n",
       "      <th></th>\n",
       "      <th>Home_team</th>\n",
       "      <th>team</th>\n",
       "      <th>HomeTeamGoal</th>\n",
       "      <th>AwayTeamGoal</th>\n",
       "      <th>Result</th>\n",
       "      <th>index</th>\n",
       "      <th>hometeam_pts</th>\n",
       "      <th>hometeam_ppg</th>\n",
       "    </tr>\n",
       "  </thead>\n",
       "  <tbody>\n",
       "    <tr>\n",
       "      <th>0</th>\n",
       "      <td>Philadelphia</td>\n",
       "      <td>Minnesota Utd</td>\n",
       "      <td>1</td>\n",
       "      <td>1</td>\n",
       "      <td>Tie</td>\n",
       "      <td>0</td>\n",
       "      <td>67</td>\n",
       "      <td>1.97</td>\n",
       "    </tr>\n",
       "    <tr>\n",
       "      <th>1</th>\n",
       "      <td>Philadelphia</td>\n",
       "      <td>SJ Earthquakes</td>\n",
       "      <td>2</td>\n",
       "      <td>0</td>\n",
       "      <td>Win</td>\n",
       "      <td>36</td>\n",
       "      <td>67</td>\n",
       "      <td>1.97</td>\n",
       "    </tr>\n",
       "    <tr>\n",
       "      <th>2</th>\n",
       "      <td>Philadelphia</td>\n",
       "      <td>Charlotte</td>\n",
       "      <td>2</td>\n",
       "      <td>0</td>\n",
       "      <td>Win</td>\n",
       "      <td>66</td>\n",
       "      <td>67</td>\n",
       "      <td>1.97</td>\n",
       "    </tr>\n",
       "    <tr>\n",
       "      <th>3</th>\n",
       "      <td>Philadelphia</td>\n",
       "      <td>Columbus Crew</td>\n",
       "      <td>1</td>\n",
       "      <td>0</td>\n",
       "      <td>Win</td>\n",
       "      <td>76</td>\n",
       "      <td>67</td>\n",
       "      <td>1.97</td>\n",
       "    </tr>\n",
       "    <tr>\n",
       "      <th>4</th>\n",
       "      <td>Philadelphia</td>\n",
       "      <td>CF Montreal</td>\n",
       "      <td>1</td>\n",
       "      <td>1</td>\n",
       "      <td>Tie</td>\n",
       "      <td>100</td>\n",
       "      <td>67</td>\n",
       "      <td>1.97</td>\n",
       "    </tr>\n",
       "  </tbody>\n",
       "</table>\n",
       "</div>"
      ],
      "text/plain": [
       "      Home_team            team HomeTeamGoal AwayTeamGoal Result  index  \\\n",
       "0  Philadelphia   Minnesota Utd            1            1    Tie      0   \n",
       "1  Philadelphia  SJ Earthquakes            2            0    Win     36   \n",
       "2  Philadelphia       Charlotte            2            0    Win     66   \n",
       "3  Philadelphia   Columbus Crew            1            0    Win     76   \n",
       "4  Philadelphia     CF Montreal            1            1    Tie    100   \n",
       "\n",
       "   hometeam_pts  hometeam_ppg  \n",
       "0            67          1.97  \n",
       "1            67          1.97  \n",
       "2            67          1.97  \n",
       "3            67          1.97  \n",
       "4            67          1.97  "
      ]
     },
     "execution_count": 316,
     "metadata": {},
     "output_type": "execute_result"
    }
   ],
   "source": [
    "merged_df.head()"
   ]
  },
  {
   "cell_type": "code",
   "execution_count": 317,
   "id": "17c3b903",
   "metadata": {},
   "outputs": [],
   "source": [
    "merged_df_new = pd.merge(merged_df, team_new, on='team')"
   ]
  },
  {
   "cell_type": "code",
   "execution_count": 318,
   "id": "b369c66d",
   "metadata": {},
   "outputs": [
    {
     "data": {
      "text/html": [
       "<div>\n",
       "<style scoped>\n",
       "    .dataframe tbody tr th:only-of-type {\n",
       "        vertical-align: middle;\n",
       "    }\n",
       "\n",
       "    .dataframe tbody tr th {\n",
       "        vertical-align: top;\n",
       "    }\n",
       "\n",
       "    .dataframe thead th {\n",
       "        text-align: right;\n",
       "    }\n",
       "</style>\n",
       "<table border=\"1\" class=\"dataframe\">\n",
       "  <thead>\n",
       "    <tr style=\"text-align: right;\">\n",
       "      <th></th>\n",
       "      <th>Home_team</th>\n",
       "      <th>team</th>\n",
       "      <th>HomeTeamGoal</th>\n",
       "      <th>AwayTeamGoal</th>\n",
       "      <th>Result</th>\n",
       "      <th>index</th>\n",
       "      <th>hometeam_pts</th>\n",
       "      <th>hometeam_ppg</th>\n",
       "      <th>Pts</th>\n",
       "      <th>PPG</th>\n",
       "    </tr>\n",
       "  </thead>\n",
       "  <tbody>\n",
       "    <tr>\n",
       "      <th>0</th>\n",
       "      <td>Philadelphia</td>\n",
       "      <td>Minnesota Utd</td>\n",
       "      <td>1</td>\n",
       "      <td>1</td>\n",
       "      <td>Tie</td>\n",
       "      <td>0</td>\n",
       "      <td>67</td>\n",
       "      <td>1.97</td>\n",
       "      <td>48</td>\n",
       "      <td>1.41</td>\n",
       "    </tr>\n",
       "    <tr>\n",
       "      <th>1</th>\n",
       "      <td>Los Angeles FC</td>\n",
       "      <td>Minnesota Utd</td>\n",
       "      <td>2</td>\n",
       "      <td>0</td>\n",
       "      <td>Win</td>\n",
       "      <td>125</td>\n",
       "      <td>67</td>\n",
       "      <td>1.97</td>\n",
       "      <td>48</td>\n",
       "      <td>1.41</td>\n",
       "    </tr>\n",
       "    <tr>\n",
       "      <th>2</th>\n",
       "      <td>Los Angeles FC</td>\n",
       "      <td>Minnesota Utd</td>\n",
       "      <td>2</td>\n",
       "      <td>2</td>\n",
       "      <td>Tie</td>\n",
       "      <td>675</td>\n",
       "      <td>67</td>\n",
       "      <td>1.97</td>\n",
       "      <td>48</td>\n",
       "      <td>1.41</td>\n",
       "    </tr>\n",
       "    <tr>\n",
       "      <th>3</th>\n",
       "      <td>Dallas</td>\n",
       "      <td>Minnesota Utd</td>\n",
       "      <td>1</td>\n",
       "      <td>2</td>\n",
       "      <td>Loss</td>\n",
       "      <td>173</td>\n",
       "      <td>53</td>\n",
       "      <td>1.56</td>\n",
       "      <td>48</td>\n",
       "      <td>1.41</td>\n",
       "    </tr>\n",
       "    <tr>\n",
       "      <th>4</th>\n",
       "      <td>Dallas</td>\n",
       "      <td>Minnesota Utd</td>\n",
       "      <td>1</td>\n",
       "      <td>1</td>\n",
       "      <td>Tie</td>\n",
       "      <td>582</td>\n",
       "      <td>53</td>\n",
       "      <td>1.56</td>\n",
       "      <td>48</td>\n",
       "      <td>1.41</td>\n",
       "    </tr>\n",
       "    <tr>\n",
       "      <th>...</th>\n",
       "      <td>...</td>\n",
       "      <td>...</td>\n",
       "      <td>...</td>\n",
       "      <td>...</td>\n",
       "      <td>...</td>\n",
       "      <td>...</td>\n",
       "      <td>...</td>\n",
       "      <td>...</td>\n",
       "      <td>...</td>\n",
       "      <td>...</td>\n",
       "    </tr>\n",
       "    <tr>\n",
       "      <th>930</th>\n",
       "      <td>Vancouver</td>\n",
       "      <td>Real Salt Lake</td>\n",
       "      <td>2</td>\n",
       "      <td>1</td>\n",
       "      <td>Win</td>\n",
       "      <td>193</td>\n",
       "      <td>43</td>\n",
       "      <td>1.26</td>\n",
       "      <td>47</td>\n",
       "      <td>1.38</td>\n",
       "    </tr>\n",
       "    <tr>\n",
       "      <th>931</th>\n",
       "      <td>Vancouver</td>\n",
       "      <td>Real Salt Lake</td>\n",
       "      <td>0</td>\n",
       "      <td>4</td>\n",
       "      <td>Loss</td>\n",
       "      <td>633</td>\n",
       "      <td>43</td>\n",
       "      <td>1.26</td>\n",
       "      <td>47</td>\n",
       "      <td>1.38</td>\n",
       "    </tr>\n",
       "    <tr>\n",
       "      <th>932</th>\n",
       "      <td>Vancouver</td>\n",
       "      <td>Real Salt Lake</td>\n",
       "      <td>4</td>\n",
       "      <td>1</td>\n",
       "      <td>Win</td>\n",
       "      <td>762</td>\n",
       "      <td>43</td>\n",
       "      <td>1.26</td>\n",
       "      <td>47</td>\n",
       "      <td>1.38</td>\n",
       "    </tr>\n",
       "    <tr>\n",
       "      <th>933</th>\n",
       "      <td>New York City</td>\n",
       "      <td>Real Salt Lake</td>\n",
       "      <td>6</td>\n",
       "      <td>0</td>\n",
       "      <td>Win</td>\n",
       "      <td>97</td>\n",
       "      <td>55</td>\n",
       "      <td>1.62</td>\n",
       "      <td>47</td>\n",
       "      <td>1.38</td>\n",
       "    </tr>\n",
       "    <tr>\n",
       "      <th>934</th>\n",
       "      <td>Nashville SC</td>\n",
       "      <td>Real Salt Lake</td>\n",
       "      <td>2</td>\n",
       "      <td>0</td>\n",
       "      <td>Win</td>\n",
       "      <td>139</td>\n",
       "      <td>50</td>\n",
       "      <td>1.47</td>\n",
       "      <td>47</td>\n",
       "      <td>1.38</td>\n",
       "    </tr>\n",
       "  </tbody>\n",
       "</table>\n",
       "<p>935 rows × 10 columns</p>\n",
       "</div>"
      ],
      "text/plain": [
       "          Home_team            team HomeTeamGoal AwayTeamGoal Result  index  \\\n",
       "0      Philadelphia   Minnesota Utd            1            1    Tie      0   \n",
       "1    Los Angeles FC   Minnesota Utd            2            0    Win    125   \n",
       "2    Los Angeles FC   Minnesota Utd            2            2    Tie    675   \n",
       "3            Dallas   Minnesota Utd            1            2   Loss    173   \n",
       "4            Dallas   Minnesota Utd            1            1    Tie    582   \n",
       "..              ...             ...          ...          ...    ...    ...   \n",
       "930       Vancouver  Real Salt Lake            2            1    Win    193   \n",
       "931       Vancouver  Real Salt Lake            0            4   Loss    633   \n",
       "932       Vancouver  Real Salt Lake            4            1    Win    762   \n",
       "933   New York City  Real Salt Lake            6            0    Win     97   \n",
       "934    Nashville SC  Real Salt Lake            2            0    Win    139   \n",
       "\n",
       "     hometeam_pts  hometeam_ppg  Pts   PPG  \n",
       "0              67          1.97   48  1.41  \n",
       "1              67          1.97   48  1.41  \n",
       "2              67          1.97   48  1.41  \n",
       "3              53          1.56   48  1.41  \n",
       "4              53          1.56   48  1.41  \n",
       "..            ...           ...  ...   ...  \n",
       "930            43          1.26   47  1.38  \n",
       "931            43          1.26   47  1.38  \n",
       "932            43          1.26   47  1.38  \n",
       "933            55          1.62   47  1.38  \n",
       "934            50          1.47   47  1.38  \n",
       "\n",
       "[935 rows x 10 columns]"
      ]
     },
     "execution_count": 318,
     "metadata": {},
     "output_type": "execute_result"
    }
   ],
   "source": [
    "merged_df_new"
   ]
  },
  {
   "cell_type": "code",
   "execution_count": null,
   "id": "69ebea26",
   "metadata": {},
   "outputs": [],
   "source": []
  },
  {
   "cell_type": "code",
   "execution_count": 319,
   "id": "061859a4",
   "metadata": {},
   "outputs": [],
   "source": [
    "merged_df_new.sort_values(by='index', inplace=True)"
   ]
  },
  {
   "cell_type": "code",
   "execution_count": 320,
   "id": "23fb62d9",
   "metadata": {},
   "outputs": [
    {
     "data": {
      "text/html": [
       "<div>\n",
       "<style scoped>\n",
       "    .dataframe tbody tr th:only-of-type {\n",
       "        vertical-align: middle;\n",
       "    }\n",
       "\n",
       "    .dataframe tbody tr th {\n",
       "        vertical-align: top;\n",
       "    }\n",
       "\n",
       "    .dataframe thead th {\n",
       "        text-align: right;\n",
       "    }\n",
       "</style>\n",
       "<table border=\"1\" class=\"dataframe\">\n",
       "  <thead>\n",
       "    <tr style=\"text-align: right;\">\n",
       "      <th></th>\n",
       "      <th>Home_team</th>\n",
       "      <th>team</th>\n",
       "      <th>HomeTeamGoal</th>\n",
       "      <th>AwayTeamGoal</th>\n",
       "      <th>Result</th>\n",
       "      <th>index</th>\n",
       "      <th>hometeam_pts</th>\n",
       "      <th>hometeam_ppg</th>\n",
       "      <th>Pts</th>\n",
       "      <th>PPG</th>\n",
       "    </tr>\n",
       "  </thead>\n",
       "  <tbody>\n",
       "    <tr>\n",
       "      <th>0</th>\n",
       "      <td>Philadelphia</td>\n",
       "      <td>Minnesota Utd</td>\n",
       "      <td>1</td>\n",
       "      <td>1</td>\n",
       "      <td>Tie</td>\n",
       "      <td>0</td>\n",
       "      <td>67</td>\n",
       "      <td>1.97</td>\n",
       "      <td>48</td>\n",
       "      <td>1.41</td>\n",
       "    </tr>\n",
       "    <tr>\n",
       "      <th>629</th>\n",
       "      <td>Columbus Crew</td>\n",
       "      <td>Vancouver</td>\n",
       "      <td>4</td>\n",
       "      <td>0</td>\n",
       "      <td>Win</td>\n",
       "      <td>1</td>\n",
       "      <td>46</td>\n",
       "      <td>1.35</td>\n",
       "      <td>43</td>\n",
       "      <td>1.26</td>\n",
       "    </tr>\n",
       "    <tr>\n",
       "      <th>426</th>\n",
       "      <td>Los Angeles FC</td>\n",
       "      <td>Colorado Rapids</td>\n",
       "      <td>3</td>\n",
       "      <td>0</td>\n",
       "      <td>Win</td>\n",
       "      <td>2</td>\n",
       "      <td>67</td>\n",
       "      <td>1.97</td>\n",
       "      <td>43</td>\n",
       "      <td>1.26</td>\n",
       "    </tr>\n",
       "    <tr>\n",
       "      <th>531</th>\n",
       "      <td>Dallas</td>\n",
       "      <td>Toronto</td>\n",
       "      <td>1</td>\n",
       "      <td>1</td>\n",
       "      <td>Tie</td>\n",
       "      <td>3</td>\n",
       "      <td>53</td>\n",
       "      <td>1.56</td>\n",
       "      <td>34</td>\n",
       "      <td>1.00</td>\n",
       "    </tr>\n",
       "    <tr>\n",
       "      <th>225</th>\n",
       "      <td>Austin</td>\n",
       "      <td>Cincinnati</td>\n",
       "      <td>5</td>\n",
       "      <td>0</td>\n",
       "      <td>Win</td>\n",
       "      <td>4</td>\n",
       "      <td>56</td>\n",
       "      <td>1.65</td>\n",
       "      <td>49</td>\n",
       "      <td>1.44</td>\n",
       "    </tr>\n",
       "  </tbody>\n",
       "</table>\n",
       "</div>"
      ],
      "text/plain": [
       "          Home_team             team HomeTeamGoal AwayTeamGoal Result  index  \\\n",
       "0      Philadelphia    Minnesota Utd            1            1    Tie      0   \n",
       "629   Columbus Crew        Vancouver            4            0    Win      1   \n",
       "426  Los Angeles FC  Colorado Rapids            3            0    Win      2   \n",
       "531          Dallas          Toronto            1            1    Tie      3   \n",
       "225          Austin       Cincinnati            5            0    Win      4   \n",
       "\n",
       "     hometeam_pts  hometeam_ppg  Pts   PPG  \n",
       "0              67          1.97   48  1.41  \n",
       "629            46          1.35   43  1.26  \n",
       "426            67          1.97   43  1.26  \n",
       "531            53          1.56   34  1.00  \n",
       "225            56          1.65   49  1.44  "
      ]
     },
     "execution_count": 320,
     "metadata": {},
     "output_type": "execute_result"
    }
   ],
   "source": [
    "merged_df_new.head()"
   ]
  },
  {
   "cell_type": "code",
   "execution_count": 321,
   "id": "2a356634",
   "metadata": {},
   "outputs": [],
   "source": [
    "merged_df_new.sort_values(by='index', inplace=True)"
   ]
  },
  {
   "cell_type": "code",
   "execution_count": 322,
   "id": "bc5521f5",
   "metadata": {},
   "outputs": [
    {
     "data": {
      "text/html": [
       "<div>\n",
       "<style scoped>\n",
       "    .dataframe tbody tr th:only-of-type {\n",
       "        vertical-align: middle;\n",
       "    }\n",
       "\n",
       "    .dataframe tbody tr th {\n",
       "        vertical-align: top;\n",
       "    }\n",
       "\n",
       "    .dataframe thead th {\n",
       "        text-align: right;\n",
       "    }\n",
       "</style>\n",
       "<table border=\"1\" class=\"dataframe\">\n",
       "  <thead>\n",
       "    <tr style=\"text-align: right;\">\n",
       "      <th></th>\n",
       "      <th>Home_team</th>\n",
       "      <th>team</th>\n",
       "      <th>HomeTeamGoal</th>\n",
       "      <th>AwayTeamGoal</th>\n",
       "      <th>Result</th>\n",
       "      <th>index</th>\n",
       "      <th>hometeam_pts</th>\n",
       "      <th>hometeam_ppg</th>\n",
       "      <th>Pts</th>\n",
       "      <th>PPG</th>\n",
       "    </tr>\n",
       "  </thead>\n",
       "  <tbody>\n",
       "    <tr>\n",
       "      <th>0</th>\n",
       "      <td>Philadelphia</td>\n",
       "      <td>Minnesota Utd</td>\n",
       "      <td>1</td>\n",
       "      <td>1</td>\n",
       "      <td>Tie</td>\n",
       "      <td>0</td>\n",
       "      <td>67</td>\n",
       "      <td>1.97</td>\n",
       "      <td>48</td>\n",
       "      <td>1.41</td>\n",
       "    </tr>\n",
       "    <tr>\n",
       "      <th>629</th>\n",
       "      <td>Columbus Crew</td>\n",
       "      <td>Vancouver</td>\n",
       "      <td>4</td>\n",
       "      <td>0</td>\n",
       "      <td>Win</td>\n",
       "      <td>1</td>\n",
       "      <td>46</td>\n",
       "      <td>1.35</td>\n",
       "      <td>43</td>\n",
       "      <td>1.26</td>\n",
       "    </tr>\n",
       "    <tr>\n",
       "      <th>426</th>\n",
       "      <td>Los Angeles FC</td>\n",
       "      <td>Colorado Rapids</td>\n",
       "      <td>3</td>\n",
       "      <td>0</td>\n",
       "      <td>Win</td>\n",
       "      <td>2</td>\n",
       "      <td>67</td>\n",
       "      <td>1.97</td>\n",
       "      <td>43</td>\n",
       "      <td>1.26</td>\n",
       "    </tr>\n",
       "    <tr>\n",
       "      <th>531</th>\n",
       "      <td>Dallas</td>\n",
       "      <td>Toronto</td>\n",
       "      <td>1</td>\n",
       "      <td>1</td>\n",
       "      <td>Tie</td>\n",
       "      <td>3</td>\n",
       "      <td>53</td>\n",
       "      <td>1.56</td>\n",
       "      <td>34</td>\n",
       "      <td>1.00</td>\n",
       "    </tr>\n",
       "    <tr>\n",
       "      <th>225</th>\n",
       "      <td>Austin</td>\n",
       "      <td>Cincinnati</td>\n",
       "      <td>5</td>\n",
       "      <td>0</td>\n",
       "      <td>Win</td>\n",
       "      <td>4</td>\n",
       "      <td>56</td>\n",
       "      <td>1.65</td>\n",
       "      <td>49</td>\n",
       "      <td>1.44</td>\n",
       "    </tr>\n",
       "  </tbody>\n",
       "</table>\n",
       "</div>"
      ],
      "text/plain": [
       "          Home_team             team HomeTeamGoal AwayTeamGoal Result  index  \\\n",
       "0      Philadelphia    Minnesota Utd            1            1    Tie      0   \n",
       "629   Columbus Crew        Vancouver            4            0    Win      1   \n",
       "426  Los Angeles FC  Colorado Rapids            3            0    Win      2   \n",
       "531          Dallas          Toronto            1            1    Tie      3   \n",
       "225          Austin       Cincinnati            5            0    Win      4   \n",
       "\n",
       "     hometeam_pts  hometeam_ppg  Pts   PPG  \n",
       "0              67          1.97   48  1.41  \n",
       "629            46          1.35   43  1.26  \n",
       "426            67          1.97   43  1.26  \n",
       "531            53          1.56   34  1.00  \n",
       "225            56          1.65   49  1.44  "
      ]
     },
     "execution_count": 322,
     "metadata": {},
     "output_type": "execute_result"
    }
   ],
   "source": [
    "merged_df_new.head()"
   ]
  },
  {
   "cell_type": "code",
   "execution_count": 323,
   "id": "36d5c466",
   "metadata": {},
   "outputs": [],
   "source": [
    "merged_df_new = merged_df_new.reset_index()"
   ]
  },
  {
   "cell_type": "code",
   "execution_count": 324,
   "id": "e6eaca47",
   "metadata": {},
   "outputs": [],
   "source": [
    "merged_df_new.sort_values(by='index', inplace=True)"
   ]
  },
  {
   "cell_type": "code",
   "execution_count": 325,
   "id": "c06a3548",
   "metadata": {},
   "outputs": [
    {
     "data": {
      "text/html": [
       "<div>\n",
       "<style scoped>\n",
       "    .dataframe tbody tr th:only-of-type {\n",
       "        vertical-align: middle;\n",
       "    }\n",
       "\n",
       "    .dataframe tbody tr th {\n",
       "        vertical-align: top;\n",
       "    }\n",
       "\n",
       "    .dataframe thead th {\n",
       "        text-align: right;\n",
       "    }\n",
       "</style>\n",
       "<table border=\"1\" class=\"dataframe\">\n",
       "  <thead>\n",
       "    <tr style=\"text-align: right;\">\n",
       "      <th></th>\n",
       "      <th>level_0</th>\n",
       "      <th>Home_team</th>\n",
       "      <th>team</th>\n",
       "      <th>HomeTeamGoal</th>\n",
       "      <th>AwayTeamGoal</th>\n",
       "      <th>Result</th>\n",
       "      <th>index</th>\n",
       "      <th>hometeam_pts</th>\n",
       "      <th>hometeam_ppg</th>\n",
       "      <th>Pts</th>\n",
       "      <th>PPG</th>\n",
       "    </tr>\n",
       "  </thead>\n",
       "  <tbody>\n",
       "    <tr>\n",
       "      <th>0</th>\n",
       "      <td>0</td>\n",
       "      <td>Philadelphia</td>\n",
       "      <td>Minnesota Utd</td>\n",
       "      <td>1</td>\n",
       "      <td>1</td>\n",
       "      <td>Tie</td>\n",
       "      <td>0</td>\n",
       "      <td>67</td>\n",
       "      <td>1.97</td>\n",
       "      <td>48</td>\n",
       "      <td>1.41</td>\n",
       "    </tr>\n",
       "    <tr>\n",
       "      <th>1</th>\n",
       "      <td>629</td>\n",
       "      <td>Columbus Crew</td>\n",
       "      <td>Vancouver</td>\n",
       "      <td>4</td>\n",
       "      <td>0</td>\n",
       "      <td>Win</td>\n",
       "      <td>1</td>\n",
       "      <td>46</td>\n",
       "      <td>1.35</td>\n",
       "      <td>43</td>\n",
       "      <td>1.26</td>\n",
       "    </tr>\n",
       "    <tr>\n",
       "      <th>2</th>\n",
       "      <td>426</td>\n",
       "      <td>Los Angeles FC</td>\n",
       "      <td>Colorado Rapids</td>\n",
       "      <td>3</td>\n",
       "      <td>0</td>\n",
       "      <td>Win</td>\n",
       "      <td>2</td>\n",
       "      <td>67</td>\n",
       "      <td>1.97</td>\n",
       "      <td>43</td>\n",
       "      <td>1.26</td>\n",
       "    </tr>\n",
       "    <tr>\n",
       "      <th>3</th>\n",
       "      <td>531</td>\n",
       "      <td>Dallas</td>\n",
       "      <td>Toronto</td>\n",
       "      <td>1</td>\n",
       "      <td>1</td>\n",
       "      <td>Tie</td>\n",
       "      <td>3</td>\n",
       "      <td>53</td>\n",
       "      <td>1.56</td>\n",
       "      <td>34</td>\n",
       "      <td>1.00</td>\n",
       "    </tr>\n",
       "    <tr>\n",
       "      <th>4</th>\n",
       "      <td>225</td>\n",
       "      <td>Austin</td>\n",
       "      <td>Cincinnati</td>\n",
       "      <td>5</td>\n",
       "      <td>0</td>\n",
       "      <td>Win</td>\n",
       "      <td>4</td>\n",
       "      <td>56</td>\n",
       "      <td>1.65</td>\n",
       "      <td>49</td>\n",
       "      <td>1.44</td>\n",
       "    </tr>\n",
       "  </tbody>\n",
       "</table>\n",
       "</div>"
      ],
      "text/plain": [
       "   level_0       Home_team             team HomeTeamGoal AwayTeamGoal Result  \\\n",
       "0        0    Philadelphia    Minnesota Utd            1            1    Tie   \n",
       "1      629   Columbus Crew        Vancouver            4            0    Win   \n",
       "2      426  Los Angeles FC  Colorado Rapids            3            0    Win   \n",
       "3      531          Dallas          Toronto            1            1    Tie   \n",
       "4      225          Austin       Cincinnati            5            0    Win   \n",
       "\n",
       "   index  hometeam_pts  hometeam_ppg  Pts   PPG  \n",
       "0      0            67          1.97   48  1.41  \n",
       "1      1            46          1.35   43  1.26  \n",
       "2      2            67          1.97   43  1.26  \n",
       "3      3            53          1.56   34  1.00  \n",
       "4      4            56          1.65   49  1.44  "
      ]
     },
     "execution_count": 325,
     "metadata": {},
     "output_type": "execute_result"
    }
   ],
   "source": [
    "merged_df_new.head()"
   ]
  },
  {
   "cell_type": "code",
   "execution_count": 326,
   "id": "a4d73cdf",
   "metadata": {},
   "outputs": [],
   "source": [
    "merged_df_new = merged_df_new.drop(columns=['level_0', 'index'])"
   ]
  },
  {
   "cell_type": "code",
   "execution_count": 327,
   "id": "301d7890",
   "metadata": {},
   "outputs": [],
   "source": [
    "final_data=merged_df_new.copy()#creating copy so we can use it laters"
   ]
  },
  {
   "cell_type": "code",
   "execution_count": 256,
   "id": "5b0b0992",
   "metadata": {},
   "outputs": [
    {
     "data": {
      "text/html": [
       "<div>\n",
       "<style scoped>\n",
       "    .dataframe tbody tr th:only-of-type {\n",
       "        vertical-align: middle;\n",
       "    }\n",
       "\n",
       "    .dataframe tbody tr th {\n",
       "        vertical-align: top;\n",
       "    }\n",
       "\n",
       "    .dataframe thead th {\n",
       "        text-align: right;\n",
       "    }\n",
       "</style>\n",
       "<table border=\"1\" class=\"dataframe\">\n",
       "  <thead>\n",
       "    <tr style=\"text-align: right;\">\n",
       "      <th></th>\n",
       "      <th>Home_team</th>\n",
       "      <th>team</th>\n",
       "      <th>HomeTeamGoal</th>\n",
       "      <th>AwayTeamGoal</th>\n",
       "      <th>Result</th>\n",
       "      <th>hometeam_pts</th>\n",
       "      <th>hometeam_ppg</th>\n",
       "      <th>Pts</th>\n",
       "      <th>PPG</th>\n",
       "    </tr>\n",
       "  </thead>\n",
       "  <tbody>\n",
       "    <tr>\n",
       "      <th>0</th>\n",
       "      <td>Philadelphia</td>\n",
       "      <td>Minnesota Utd</td>\n",
       "      <td>1</td>\n",
       "      <td>1</td>\n",
       "      <td>Tie</td>\n",
       "      <td>67</td>\n",
       "      <td>1.97</td>\n",
       "      <td>48</td>\n",
       "      <td>1.41</td>\n",
       "    </tr>\n",
       "    <tr>\n",
       "      <th>1</th>\n",
       "      <td>Columbus Crew</td>\n",
       "      <td>Vancouver</td>\n",
       "      <td>4</td>\n",
       "      <td>0</td>\n",
       "      <td>Win</td>\n",
       "      <td>46</td>\n",
       "      <td>1.35</td>\n",
       "      <td>43</td>\n",
       "      <td>1.26</td>\n",
       "    </tr>\n",
       "  </tbody>\n",
       "</table>\n",
       "</div>"
      ],
      "text/plain": [
       "       Home_team           team HomeTeamGoal AwayTeamGoal Result  \\\n",
       "0   Philadelphia  Minnesota Utd            1            1    Tie   \n",
       "1  Columbus Crew      Vancouver            4            0    Win   \n",
       "\n",
       "   hometeam_pts  hometeam_ppg  Pts   PPG  \n",
       "0            67          1.97   48  1.41  \n",
       "1            46          1.35   43  1.26  "
      ]
     },
     "execution_count": 256,
     "metadata": {},
     "output_type": "execute_result"
    }
   ],
   "source": [
    "merged_df_new.head(2)"
   ]
  },
  {
   "cell_type": "code",
   "execution_count": 257,
   "id": "60065ded",
   "metadata": {},
   "outputs": [],
   "source": [
    "merged_df_new = merged_df_new.rename(columns={\n",
    "    'team': 'Away_team',\n",
    "    'Pts': 'awayteam_pts',\n",
    "    'PPG': 'awayteam_ppg'\n",
    "})"
   ]
  },
  {
   "cell_type": "code",
   "execution_count": 259,
   "id": "4fbe6da6",
   "metadata": {},
   "outputs": [],
   "source": [
    "# Creating a list of all unique values in 'Home_team' and 'Away_team' columns\n",
    "unique_teams = pd.concat([merged_df_new['Home_team'], merged_df_new['Away_team']]).unique()\n",
    "\n",
    "# Mapping each unique value to a unique integer\n",
    "team_mapping = pd.Series(pd.factorize(unique_teams)[0], index=unique_teams)\n",
    "\n",
    "# Replacing the values in 'Home_team' and 'Away_team' columns with the mapped integers\n",
    "merged_df_new['Home_team'] = merged_df_new['Home_team'].map(team_mapping)\n",
    "merged_df_new['Away_team'] = merged_df_new['Away_team'].map(team_mapping)\n"
   ]
  },
  {
   "cell_type": "code",
   "execution_count": 260,
   "id": "4311649e",
   "metadata": {},
   "outputs": [],
   "source": [
    "def convert_result(result):\n",
    "    if result == 'Win':\n",
    "        return 1\n",
    "    elif result == 'Tie':\n",
    "        return 0\n",
    "    else:\n",
    "        return -1"
   ]
  },
  {
   "cell_type": "code",
   "execution_count": 262,
   "id": "b01b66be",
   "metadata": {},
   "outputs": [],
   "source": [
    "merged_df_new['Result'] =merged_df_new['Result'].apply(convert_result)"
   ]
  },
  {
   "cell_type": "code",
   "execution_count": 263,
   "id": "c1e543d3",
   "metadata": {},
   "outputs": [
    {
     "data": {
      "text/html": [
       "<div>\n",
       "<style scoped>\n",
       "    .dataframe tbody tr th:only-of-type {\n",
       "        vertical-align: middle;\n",
       "    }\n",
       "\n",
       "    .dataframe tbody tr th {\n",
       "        vertical-align: top;\n",
       "    }\n",
       "\n",
       "    .dataframe thead th {\n",
       "        text-align: right;\n",
       "    }\n",
       "</style>\n",
       "<table border=\"1\" class=\"dataframe\">\n",
       "  <thead>\n",
       "    <tr style=\"text-align: right;\">\n",
       "      <th></th>\n",
       "      <th>Home_team</th>\n",
       "      <th>Away_team</th>\n",
       "      <th>HomeTeamGoal</th>\n",
       "      <th>AwayTeamGoal</th>\n",
       "      <th>Result</th>\n",
       "      <th>hometeam_pts</th>\n",
       "      <th>hometeam_ppg</th>\n",
       "      <th>awayteam_pts</th>\n",
       "      <th>awayteam_ppg</th>\n",
       "    </tr>\n",
       "  </thead>\n",
       "  <tbody>\n",
       "    <tr>\n",
       "      <th>0</th>\n",
       "      <td>0</td>\n",
       "      <td>21</td>\n",
       "      <td>1</td>\n",
       "      <td>1</td>\n",
       "      <td>0</td>\n",
       "      <td>67</td>\n",
       "      <td>1.97</td>\n",
       "      <td>48</td>\n",
       "      <td>1.41</td>\n",
       "    </tr>\n",
       "    <tr>\n",
       "      <th>1</th>\n",
       "      <td>1</td>\n",
       "      <td>23</td>\n",
       "      <td>4</td>\n",
       "      <td>0</td>\n",
       "      <td>1</td>\n",
       "      <td>46</td>\n",
       "      <td>1.35</td>\n",
       "      <td>43</td>\n",
       "      <td>1.26</td>\n",
       "    </tr>\n",
       "  </tbody>\n",
       "</table>\n",
       "</div>"
      ],
      "text/plain": [
       "   Home_team  Away_team HomeTeamGoal AwayTeamGoal  Result  hometeam_pts  \\\n",
       "0          0         21            1            1       0            67   \n",
       "1          1         23            4            0       1            46   \n",
       "\n",
       "   hometeam_ppg  awayteam_pts  awayteam_ppg  \n",
       "0          1.97            48          1.41  \n",
       "1          1.35            43          1.26  "
      ]
     },
     "execution_count": 263,
     "metadata": {},
     "output_type": "execute_result"
    }
   ],
   "source": [
    "merged_df_new.head(2)"
   ]
  },
  {
   "cell_type": "code",
   "execution_count": 264,
   "id": "85406f2d",
   "metadata": {},
   "outputs": [],
   "source": [
    "from sklearn.ensemble import RandomForestClassifier\n",
    "from sklearn.model_selection import train_test_split\n",
    "from sklearn.metrics import accuracy_score"
   ]
  },
  {
   "cell_type": "code",
   "execution_count": 265,
   "id": "8589a494",
   "metadata": {},
   "outputs": [],
   "source": [
    "X_train, X_test, y_train, y_test = train_test_split(merged_df_new[['Home_team', 'Away_team','hometeam_pts','hometeam_ppg','awayteam_pts','awayteam_ppg']],merged_df_new['Result'], test_size=0.2, random_state=42)"
   ]
  },
  {
   "cell_type": "code",
   "execution_count": 269,
   "id": "03c3b6e4",
   "metadata": {},
   "outputs": [
    {
     "data": {
      "text/html": [
       "<div>\n",
       "<style scoped>\n",
       "    .dataframe tbody tr th:only-of-type {\n",
       "        vertical-align: middle;\n",
       "    }\n",
       "\n",
       "    .dataframe tbody tr th {\n",
       "        vertical-align: top;\n",
       "    }\n",
       "\n",
       "    .dataframe thead th {\n",
       "        text-align: right;\n",
       "    }\n",
       "</style>\n",
       "<table border=\"1\" class=\"dataframe\">\n",
       "  <thead>\n",
       "    <tr style=\"text-align: right;\">\n",
       "      <th></th>\n",
       "      <th>Home_team</th>\n",
       "      <th>Away_team</th>\n",
       "      <th>hometeam_pts</th>\n",
       "      <th>hometeam_ppg</th>\n",
       "      <th>awayteam_pts</th>\n",
       "      <th>awayteam_ppg</th>\n",
       "    </tr>\n",
       "  </thead>\n",
       "  <tbody>\n",
       "    <tr>\n",
       "      <th>321</th>\n",
       "      <td>10</td>\n",
       "      <td>13</td>\n",
       "      <td>40</td>\n",
       "      <td>1.18</td>\n",
       "      <td>41</td>\n",
       "      <td>1.21</td>\n",
       "    </tr>\n",
       "    <tr>\n",
       "      <th>70</th>\n",
       "      <td>20</td>\n",
       "      <td>22</td>\n",
       "      <td>43</td>\n",
       "      <td>1.26</td>\n",
       "      <td>47</td>\n",
       "      <td>1.38</td>\n",
       "    </tr>\n",
       "  </tbody>\n",
       "</table>\n",
       "</div>"
      ],
      "text/plain": [
       "     Home_team  Away_team  hometeam_pts  hometeam_ppg  awayteam_pts  \\\n",
       "321         10         13            40          1.18            41   \n",
       "70          20         22            43          1.26            47   \n",
       "\n",
       "     awayteam_ppg  \n",
       "321          1.21  \n",
       "70           1.38  "
      ]
     },
     "execution_count": 269,
     "metadata": {},
     "output_type": "execute_result"
    }
   ],
   "source": [
    "X_test.head(2)"
   ]
  },
  {
   "cell_type": "code",
   "execution_count": 273,
   "id": "c27deae4",
   "metadata": {},
   "outputs": [],
   "source": [
    "# Creating a random forest classifier with 100 trees\n",
    "rf = RandomForestClassifier(n_estimators=100, random_state=42)"
   ]
  },
  {
   "cell_type": "code",
   "execution_count": 274,
   "id": "69ff1a5e",
   "metadata": {},
   "outputs": [
    {
     "data": {
      "text/html": [
       "<style>#sk-container-id-10 {color: black;background-color: white;}#sk-container-id-10 pre{padding: 0;}#sk-container-id-10 div.sk-toggleable {background-color: white;}#sk-container-id-10 label.sk-toggleable__label {cursor: pointer;display: block;width: 100%;margin-bottom: 0;padding: 0.3em;box-sizing: border-box;text-align: center;}#sk-container-id-10 label.sk-toggleable__label-arrow:before {content: \"▸\";float: left;margin-right: 0.25em;color: #696969;}#sk-container-id-10 label.sk-toggleable__label-arrow:hover:before {color: black;}#sk-container-id-10 div.sk-estimator:hover label.sk-toggleable__label-arrow:before {color: black;}#sk-container-id-10 div.sk-toggleable__content {max-height: 0;max-width: 0;overflow: hidden;text-align: left;background-color: #f0f8ff;}#sk-container-id-10 div.sk-toggleable__content pre {margin: 0.2em;color: black;border-radius: 0.25em;background-color: #f0f8ff;}#sk-container-id-10 input.sk-toggleable__control:checked~div.sk-toggleable__content {max-height: 200px;max-width: 100%;overflow: auto;}#sk-container-id-10 input.sk-toggleable__control:checked~label.sk-toggleable__label-arrow:before {content: \"▾\";}#sk-container-id-10 div.sk-estimator input.sk-toggleable__control:checked~label.sk-toggleable__label {background-color: #d4ebff;}#sk-container-id-10 div.sk-label input.sk-toggleable__control:checked~label.sk-toggleable__label {background-color: #d4ebff;}#sk-container-id-10 input.sk-hidden--visually {border: 0;clip: rect(1px 1px 1px 1px);clip: rect(1px, 1px, 1px, 1px);height: 1px;margin: -1px;overflow: hidden;padding: 0;position: absolute;width: 1px;}#sk-container-id-10 div.sk-estimator {font-family: monospace;background-color: #f0f8ff;border: 1px dotted black;border-radius: 0.25em;box-sizing: border-box;margin-bottom: 0.5em;}#sk-container-id-10 div.sk-estimator:hover {background-color: #d4ebff;}#sk-container-id-10 div.sk-parallel-item::after {content: \"\";width: 100%;border-bottom: 1px solid gray;flex-grow: 1;}#sk-container-id-10 div.sk-label:hover label.sk-toggleable__label {background-color: #d4ebff;}#sk-container-id-10 div.sk-serial::before {content: \"\";position: absolute;border-left: 1px solid gray;box-sizing: border-box;top: 0;bottom: 0;left: 50%;z-index: 0;}#sk-container-id-10 div.sk-serial {display: flex;flex-direction: column;align-items: center;background-color: white;padding-right: 0.2em;padding-left: 0.2em;position: relative;}#sk-container-id-10 div.sk-item {position: relative;z-index: 1;}#sk-container-id-10 div.sk-parallel {display: flex;align-items: stretch;justify-content: center;background-color: white;position: relative;}#sk-container-id-10 div.sk-item::before, #sk-container-id-10 div.sk-parallel-item::before {content: \"\";position: absolute;border-left: 1px solid gray;box-sizing: border-box;top: 0;bottom: 0;left: 50%;z-index: -1;}#sk-container-id-10 div.sk-parallel-item {display: flex;flex-direction: column;z-index: 1;position: relative;background-color: white;}#sk-container-id-10 div.sk-parallel-item:first-child::after {align-self: flex-end;width: 50%;}#sk-container-id-10 div.sk-parallel-item:last-child::after {align-self: flex-start;width: 50%;}#sk-container-id-10 div.sk-parallel-item:only-child::after {width: 0;}#sk-container-id-10 div.sk-dashed-wrapped {border: 1px dashed gray;margin: 0 0.4em 0.5em 0.4em;box-sizing: border-box;padding-bottom: 0.4em;background-color: white;}#sk-container-id-10 div.sk-label label {font-family: monospace;font-weight: bold;display: inline-block;line-height: 1.2em;}#sk-container-id-10 div.sk-label-container {text-align: center;}#sk-container-id-10 div.sk-container {/* jupyter's `normalize.less` sets `[hidden] { display: none; }` but bootstrap.min.css set `[hidden] { display: none !important; }` so we also need the `!important` here to be able to override the default hidden behavior on the sphinx rendered scikit-learn.org. See: https://github.com/scikit-learn/scikit-learn/issues/21755 */display: inline-block !important;position: relative;}#sk-container-id-10 div.sk-text-repr-fallback {display: none;}</style><div id=\"sk-container-id-10\" class=\"sk-top-container\"><div class=\"sk-text-repr-fallback\"><pre>RandomForestClassifier(random_state=42)</pre><b>In a Jupyter environment, please rerun this cell to show the HTML representation or trust the notebook. <br />On GitHub, the HTML representation is unable to render, please try loading this page with nbviewer.org.</b></div><div class=\"sk-container\" hidden><div class=\"sk-item\"><div class=\"sk-estimator sk-toggleable\"><input class=\"sk-toggleable__control sk-hidden--visually\" id=\"sk-estimator-id-10\" type=\"checkbox\" checked><label for=\"sk-estimator-id-10\" class=\"sk-toggleable__label sk-toggleable__label-arrow\">RandomForestClassifier</label><div class=\"sk-toggleable__content\"><pre>RandomForestClassifier(random_state=42)</pre></div></div></div></div></div>"
      ],
      "text/plain": [
       "RandomForestClassifier(random_state=42)"
      ]
     },
     "execution_count": 274,
     "metadata": {},
     "output_type": "execute_result"
    }
   ],
   "source": [
    "# Training the model on the training data\n",
    "rf.fit(X_train, y_train)"
   ]
  },
  {
   "cell_type": "code",
   "execution_count": 275,
   "id": "d567035e",
   "metadata": {},
   "outputs": [
    {
     "name": "stdout",
     "output_type": "stream",
     "text": [
      "Accuracy: 0.3850267379679144\n"
     ]
    }
   ],
   "source": [
    "# Make predictions on the testing data\n",
    "y_pred = rf.predict(X_test)\n",
    "\n",
    "# Evaluate the accuracy of the model\n",
    "accuracy = accuracy_score(y_test, y_pred)\n",
    "print('Accuracy:', accuracy)"
   ]
  },
  {
   "cell_type": "code",
   "execution_count": 277,
   "id": "7ee52703",
   "metadata": {},
   "outputs": [],
   "source": [
    "#Hyper parameyer tunning"
   ]
  },
  {
   "cell_type": "code",
   "execution_count": 281,
   "id": "3b23f5a2",
   "metadata": {},
   "outputs": [],
   "source": [
    "from sklearn.model_selection import GridSearchCV"
   ]
  },
  {
   "cell_type": "code",
   "execution_count": 278,
   "id": "3d1cddb3",
   "metadata": {},
   "outputs": [],
   "source": [
    "# Defining the range of hyperparameters to test\n",
    "param_grid = {\n",
    "    'n_estimators': [50, 100, 150],\n",
    "    'max_depth': [2, 4, 6, 8],\n",
    "    'min_samples_split': [2, 4, 6, 8],\n",
    "    'min_samples_leaf': [1, 2, 3, 4]\n",
    "}"
   ]
  },
  {
   "cell_type": "code",
   "execution_count": 279,
   "id": "1c310b33",
   "metadata": {},
   "outputs": [],
   "source": [
    "# Create a Random Forest model\n",
    "rf = RandomForestClassifier(random_state=42)"
   ]
  },
  {
   "cell_type": "code",
   "execution_count": 282,
   "id": "0420f6d5",
   "metadata": {},
   "outputs": [
    {
     "data": {
      "text/html": [
       "<style>#sk-container-id-11 {color: black;background-color: white;}#sk-container-id-11 pre{padding: 0;}#sk-container-id-11 div.sk-toggleable {background-color: white;}#sk-container-id-11 label.sk-toggleable__label {cursor: pointer;display: block;width: 100%;margin-bottom: 0;padding: 0.3em;box-sizing: border-box;text-align: center;}#sk-container-id-11 label.sk-toggleable__label-arrow:before {content: \"▸\";float: left;margin-right: 0.25em;color: #696969;}#sk-container-id-11 label.sk-toggleable__label-arrow:hover:before {color: black;}#sk-container-id-11 div.sk-estimator:hover label.sk-toggleable__label-arrow:before {color: black;}#sk-container-id-11 div.sk-toggleable__content {max-height: 0;max-width: 0;overflow: hidden;text-align: left;background-color: #f0f8ff;}#sk-container-id-11 div.sk-toggleable__content pre {margin: 0.2em;color: black;border-radius: 0.25em;background-color: #f0f8ff;}#sk-container-id-11 input.sk-toggleable__control:checked~div.sk-toggleable__content {max-height: 200px;max-width: 100%;overflow: auto;}#sk-container-id-11 input.sk-toggleable__control:checked~label.sk-toggleable__label-arrow:before {content: \"▾\";}#sk-container-id-11 div.sk-estimator input.sk-toggleable__control:checked~label.sk-toggleable__label {background-color: #d4ebff;}#sk-container-id-11 div.sk-label input.sk-toggleable__control:checked~label.sk-toggleable__label {background-color: #d4ebff;}#sk-container-id-11 input.sk-hidden--visually {border: 0;clip: rect(1px 1px 1px 1px);clip: rect(1px, 1px, 1px, 1px);height: 1px;margin: -1px;overflow: hidden;padding: 0;position: absolute;width: 1px;}#sk-container-id-11 div.sk-estimator {font-family: monospace;background-color: #f0f8ff;border: 1px dotted black;border-radius: 0.25em;box-sizing: border-box;margin-bottom: 0.5em;}#sk-container-id-11 div.sk-estimator:hover {background-color: #d4ebff;}#sk-container-id-11 div.sk-parallel-item::after {content: \"\";width: 100%;border-bottom: 1px solid gray;flex-grow: 1;}#sk-container-id-11 div.sk-label:hover label.sk-toggleable__label {background-color: #d4ebff;}#sk-container-id-11 div.sk-serial::before {content: \"\";position: absolute;border-left: 1px solid gray;box-sizing: border-box;top: 0;bottom: 0;left: 50%;z-index: 0;}#sk-container-id-11 div.sk-serial {display: flex;flex-direction: column;align-items: center;background-color: white;padding-right: 0.2em;padding-left: 0.2em;position: relative;}#sk-container-id-11 div.sk-item {position: relative;z-index: 1;}#sk-container-id-11 div.sk-parallel {display: flex;align-items: stretch;justify-content: center;background-color: white;position: relative;}#sk-container-id-11 div.sk-item::before, #sk-container-id-11 div.sk-parallel-item::before {content: \"\";position: absolute;border-left: 1px solid gray;box-sizing: border-box;top: 0;bottom: 0;left: 50%;z-index: -1;}#sk-container-id-11 div.sk-parallel-item {display: flex;flex-direction: column;z-index: 1;position: relative;background-color: white;}#sk-container-id-11 div.sk-parallel-item:first-child::after {align-self: flex-end;width: 50%;}#sk-container-id-11 div.sk-parallel-item:last-child::after {align-self: flex-start;width: 50%;}#sk-container-id-11 div.sk-parallel-item:only-child::after {width: 0;}#sk-container-id-11 div.sk-dashed-wrapped {border: 1px dashed gray;margin: 0 0.4em 0.5em 0.4em;box-sizing: border-box;padding-bottom: 0.4em;background-color: white;}#sk-container-id-11 div.sk-label label {font-family: monospace;font-weight: bold;display: inline-block;line-height: 1.2em;}#sk-container-id-11 div.sk-label-container {text-align: center;}#sk-container-id-11 div.sk-container {/* jupyter's `normalize.less` sets `[hidden] { display: none; }` but bootstrap.min.css set `[hidden] { display: none !important; }` so we also need the `!important` here to be able to override the default hidden behavior on the sphinx rendered scikit-learn.org. See: https://github.com/scikit-learn/scikit-learn/issues/21755 */display: inline-block !important;position: relative;}#sk-container-id-11 div.sk-text-repr-fallback {display: none;}</style><div id=\"sk-container-id-11\" class=\"sk-top-container\"><div class=\"sk-text-repr-fallback\"><pre>GridSearchCV(cv=5, estimator=RandomForestClassifier(random_state=42),\n",
       "             param_grid={&#x27;max_depth&#x27;: [2, 4, 6, 8],\n",
       "                         &#x27;min_samples_leaf&#x27;: [1, 2, 3, 4],\n",
       "                         &#x27;min_samples_split&#x27;: [2, 4, 6, 8],\n",
       "                         &#x27;n_estimators&#x27;: [50, 100, 150]})</pre><b>In a Jupyter environment, please rerun this cell to show the HTML representation or trust the notebook. <br />On GitHub, the HTML representation is unable to render, please try loading this page with nbviewer.org.</b></div><div class=\"sk-container\" hidden><div class=\"sk-item sk-dashed-wrapped\"><div class=\"sk-label-container\"><div class=\"sk-label sk-toggleable\"><input class=\"sk-toggleable__control sk-hidden--visually\" id=\"sk-estimator-id-11\" type=\"checkbox\" ><label for=\"sk-estimator-id-11\" class=\"sk-toggleable__label sk-toggleable__label-arrow\">GridSearchCV</label><div class=\"sk-toggleable__content\"><pre>GridSearchCV(cv=5, estimator=RandomForestClassifier(random_state=42),\n",
       "             param_grid={&#x27;max_depth&#x27;: [2, 4, 6, 8],\n",
       "                         &#x27;min_samples_leaf&#x27;: [1, 2, 3, 4],\n",
       "                         &#x27;min_samples_split&#x27;: [2, 4, 6, 8],\n",
       "                         &#x27;n_estimators&#x27;: [50, 100, 150]})</pre></div></div></div><div class=\"sk-parallel\"><div class=\"sk-parallel-item\"><div class=\"sk-item\"><div class=\"sk-label-container\"><div class=\"sk-label sk-toggleable\"><input class=\"sk-toggleable__control sk-hidden--visually\" id=\"sk-estimator-id-12\" type=\"checkbox\" ><label for=\"sk-estimator-id-12\" class=\"sk-toggleable__label sk-toggleable__label-arrow\">estimator: RandomForestClassifier</label><div class=\"sk-toggleable__content\"><pre>RandomForestClassifier(random_state=42)</pre></div></div></div><div class=\"sk-serial\"><div class=\"sk-item\"><div class=\"sk-estimator sk-toggleable\"><input class=\"sk-toggleable__control sk-hidden--visually\" id=\"sk-estimator-id-13\" type=\"checkbox\" ><label for=\"sk-estimator-id-13\" class=\"sk-toggleable__label sk-toggleable__label-arrow\">RandomForestClassifier</label><div class=\"sk-toggleable__content\"><pre>RandomForestClassifier(random_state=42)</pre></div></div></div></div></div></div></div></div></div></div>"
      ],
      "text/plain": [
       "GridSearchCV(cv=5, estimator=RandomForestClassifier(random_state=42),\n",
       "             param_grid={'max_depth': [2, 4, 6, 8],\n",
       "                         'min_samples_leaf': [1, 2, 3, 4],\n",
       "                         'min_samples_split': [2, 4, 6, 8],\n",
       "                         'n_estimators': [50, 100, 150]})"
      ]
     },
     "execution_count": 282,
     "metadata": {},
     "output_type": "execute_result"
    }
   ],
   "source": [
    "# Use GridSearchCV to test different combinations of hyperparameters\n",
    "grid_search = GridSearchCV(rf, param_grid, cv=5)\n",
    "grid_search.fit(X_train, y_train)"
   ]
  },
  {
   "cell_type": "code",
   "execution_count": 283,
   "id": "2c4724f0",
   "metadata": {},
   "outputs": [
    {
     "name": "stdout",
     "output_type": "stream",
     "text": [
      "Best Hyperparameters: {'max_depth': 4, 'min_samples_leaf': 2, 'min_samples_split': 6, 'n_estimators': 100}\n"
     ]
    }
   ],
   "source": [
    "# Print the best set of hyperparameters\n",
    "print(\"Best Hyperparameters:\", grid_search.best_params_)"
   ]
  },
  {
   "cell_type": "code",
   "execution_count": 284,
   "id": "ceaa95ab",
   "metadata": {},
   "outputs": [
    {
     "data": {
      "text/html": [
       "<style>#sk-container-id-12 {color: black;background-color: white;}#sk-container-id-12 pre{padding: 0;}#sk-container-id-12 div.sk-toggleable {background-color: white;}#sk-container-id-12 label.sk-toggleable__label {cursor: pointer;display: block;width: 100%;margin-bottom: 0;padding: 0.3em;box-sizing: border-box;text-align: center;}#sk-container-id-12 label.sk-toggleable__label-arrow:before {content: \"▸\";float: left;margin-right: 0.25em;color: #696969;}#sk-container-id-12 label.sk-toggleable__label-arrow:hover:before {color: black;}#sk-container-id-12 div.sk-estimator:hover label.sk-toggleable__label-arrow:before {color: black;}#sk-container-id-12 div.sk-toggleable__content {max-height: 0;max-width: 0;overflow: hidden;text-align: left;background-color: #f0f8ff;}#sk-container-id-12 div.sk-toggleable__content pre {margin: 0.2em;color: black;border-radius: 0.25em;background-color: #f0f8ff;}#sk-container-id-12 input.sk-toggleable__control:checked~div.sk-toggleable__content {max-height: 200px;max-width: 100%;overflow: auto;}#sk-container-id-12 input.sk-toggleable__control:checked~label.sk-toggleable__label-arrow:before {content: \"▾\";}#sk-container-id-12 div.sk-estimator input.sk-toggleable__control:checked~label.sk-toggleable__label {background-color: #d4ebff;}#sk-container-id-12 div.sk-label input.sk-toggleable__control:checked~label.sk-toggleable__label {background-color: #d4ebff;}#sk-container-id-12 input.sk-hidden--visually {border: 0;clip: rect(1px 1px 1px 1px);clip: rect(1px, 1px, 1px, 1px);height: 1px;margin: -1px;overflow: hidden;padding: 0;position: absolute;width: 1px;}#sk-container-id-12 div.sk-estimator {font-family: monospace;background-color: #f0f8ff;border: 1px dotted black;border-radius: 0.25em;box-sizing: border-box;margin-bottom: 0.5em;}#sk-container-id-12 div.sk-estimator:hover {background-color: #d4ebff;}#sk-container-id-12 div.sk-parallel-item::after {content: \"\";width: 100%;border-bottom: 1px solid gray;flex-grow: 1;}#sk-container-id-12 div.sk-label:hover label.sk-toggleable__label {background-color: #d4ebff;}#sk-container-id-12 div.sk-serial::before {content: \"\";position: absolute;border-left: 1px solid gray;box-sizing: border-box;top: 0;bottom: 0;left: 50%;z-index: 0;}#sk-container-id-12 div.sk-serial {display: flex;flex-direction: column;align-items: center;background-color: white;padding-right: 0.2em;padding-left: 0.2em;position: relative;}#sk-container-id-12 div.sk-item {position: relative;z-index: 1;}#sk-container-id-12 div.sk-parallel {display: flex;align-items: stretch;justify-content: center;background-color: white;position: relative;}#sk-container-id-12 div.sk-item::before, #sk-container-id-12 div.sk-parallel-item::before {content: \"\";position: absolute;border-left: 1px solid gray;box-sizing: border-box;top: 0;bottom: 0;left: 50%;z-index: -1;}#sk-container-id-12 div.sk-parallel-item {display: flex;flex-direction: column;z-index: 1;position: relative;background-color: white;}#sk-container-id-12 div.sk-parallel-item:first-child::after {align-self: flex-end;width: 50%;}#sk-container-id-12 div.sk-parallel-item:last-child::after {align-self: flex-start;width: 50%;}#sk-container-id-12 div.sk-parallel-item:only-child::after {width: 0;}#sk-container-id-12 div.sk-dashed-wrapped {border: 1px dashed gray;margin: 0 0.4em 0.5em 0.4em;box-sizing: border-box;padding-bottom: 0.4em;background-color: white;}#sk-container-id-12 div.sk-label label {font-family: monospace;font-weight: bold;display: inline-block;line-height: 1.2em;}#sk-container-id-12 div.sk-label-container {text-align: center;}#sk-container-id-12 div.sk-container {/* jupyter's `normalize.less` sets `[hidden] { display: none; }` but bootstrap.min.css set `[hidden] { display: none !important; }` so we also need the `!important` here to be able to override the default hidden behavior on the sphinx rendered scikit-learn.org. See: https://github.com/scikit-learn/scikit-learn/issues/21755 */display: inline-block !important;position: relative;}#sk-container-id-12 div.sk-text-repr-fallback {display: none;}</style><div id=\"sk-container-id-12\" class=\"sk-top-container\"><div class=\"sk-text-repr-fallback\"><pre>RandomForestClassifier(max_depth=4, min_samples_leaf=2, min_samples_split=6,\n",
       "                       random_state=42)</pre><b>In a Jupyter environment, please rerun this cell to show the HTML representation or trust the notebook. <br />On GitHub, the HTML representation is unable to render, please try loading this page with nbviewer.org.</b></div><div class=\"sk-container\" hidden><div class=\"sk-item\"><div class=\"sk-estimator sk-toggleable\"><input class=\"sk-toggleable__control sk-hidden--visually\" id=\"sk-estimator-id-14\" type=\"checkbox\" checked><label for=\"sk-estimator-id-14\" class=\"sk-toggleable__label sk-toggleable__label-arrow\">RandomForestClassifier</label><div class=\"sk-toggleable__content\"><pre>RandomForestClassifier(max_depth=4, min_samples_leaf=2, min_samples_split=6,\n",
       "                       random_state=42)</pre></div></div></div></div></div>"
      ],
      "text/plain": [
       "RandomForestClassifier(max_depth=4, min_samples_leaf=2, min_samples_split=6,\n",
       "                       random_state=42)"
      ]
     },
     "execution_count": 284,
     "metadata": {},
     "output_type": "execute_result"
    }
   ],
   "source": [
    "# Train a model on the full training set using the best hyperparameters\n",
    "best_rf = RandomForestClassifier(**grid_search.best_params_, random_state=42)\n",
    "best_rf.fit(X_train, y_train)"
   ]
  },
  {
   "cell_type": "code",
   "execution_count": 286,
   "id": "997758fc",
   "metadata": {},
   "outputs": [
    {
     "name": "stdout",
     "output_type": "stream",
     "text": [
      "Validation Accuracy: 0.44385026737967914\n"
     ]
    }
   ],
   "source": [
    "# Evaluate the performance of the model on the validation set\n",
    "val_acc = best_rf.score(X_test, y_test)\n",
    "print(\"Validation Accuracy:\", val_acc)"
   ]
  },
  {
   "cell_type": "code",
   "execution_count": null,
   "id": "4dabadbf",
   "metadata": {},
   "outputs": [],
   "source": []
  },
  {
   "cell_type": "code",
   "execution_count": null,
   "id": "9ec73181",
   "metadata": {},
   "outputs": [],
   "source": []
  },
  {
   "cell_type": "code",
   "execution_count": null,
   "id": "f6c96d0f",
   "metadata": {},
   "outputs": [],
   "source": []
  },
  {
   "cell_type": "code",
   "execution_count": null,
   "id": "e7a00711",
   "metadata": {},
   "outputs": [],
   "source": []
  },
  {
   "cell_type": "code",
   "execution_count": 288,
   "id": "ca9aef68",
   "metadata": {},
   "outputs": [],
   "source": [
    "from sklearn.ensemble import GradientBoostingClassifier\n",
    "from sklearn.metrics import accuracy_score"
   ]
  },
  {
   "cell_type": "code",
   "execution_count": 299,
   "id": "ceafb49d",
   "metadata": {},
   "outputs": [],
   "source": [
    "# Initializing the Gradient Boosting Classifier\n",
    "clf = GradientBoostingClassifier(n_estimators=100, learning_rate=0.1, max_depth=3, random_state=42)"
   ]
  },
  {
   "cell_type": "code",
   "execution_count": 300,
   "id": "f12ed400",
   "metadata": {},
   "outputs": [
    {
     "data": {
      "text/html": [
       "<style>#sk-container-id-15 {color: black;background-color: white;}#sk-container-id-15 pre{padding: 0;}#sk-container-id-15 div.sk-toggleable {background-color: white;}#sk-container-id-15 label.sk-toggleable__label {cursor: pointer;display: block;width: 100%;margin-bottom: 0;padding: 0.3em;box-sizing: border-box;text-align: center;}#sk-container-id-15 label.sk-toggleable__label-arrow:before {content: \"▸\";float: left;margin-right: 0.25em;color: #696969;}#sk-container-id-15 label.sk-toggleable__label-arrow:hover:before {color: black;}#sk-container-id-15 div.sk-estimator:hover label.sk-toggleable__label-arrow:before {color: black;}#sk-container-id-15 div.sk-toggleable__content {max-height: 0;max-width: 0;overflow: hidden;text-align: left;background-color: #f0f8ff;}#sk-container-id-15 div.sk-toggleable__content pre {margin: 0.2em;color: black;border-radius: 0.25em;background-color: #f0f8ff;}#sk-container-id-15 input.sk-toggleable__control:checked~div.sk-toggleable__content {max-height: 200px;max-width: 100%;overflow: auto;}#sk-container-id-15 input.sk-toggleable__control:checked~label.sk-toggleable__label-arrow:before {content: \"▾\";}#sk-container-id-15 div.sk-estimator input.sk-toggleable__control:checked~label.sk-toggleable__label {background-color: #d4ebff;}#sk-container-id-15 div.sk-label input.sk-toggleable__control:checked~label.sk-toggleable__label {background-color: #d4ebff;}#sk-container-id-15 input.sk-hidden--visually {border: 0;clip: rect(1px 1px 1px 1px);clip: rect(1px, 1px, 1px, 1px);height: 1px;margin: -1px;overflow: hidden;padding: 0;position: absolute;width: 1px;}#sk-container-id-15 div.sk-estimator {font-family: monospace;background-color: #f0f8ff;border: 1px dotted black;border-radius: 0.25em;box-sizing: border-box;margin-bottom: 0.5em;}#sk-container-id-15 div.sk-estimator:hover {background-color: #d4ebff;}#sk-container-id-15 div.sk-parallel-item::after {content: \"\";width: 100%;border-bottom: 1px solid gray;flex-grow: 1;}#sk-container-id-15 div.sk-label:hover label.sk-toggleable__label {background-color: #d4ebff;}#sk-container-id-15 div.sk-serial::before {content: \"\";position: absolute;border-left: 1px solid gray;box-sizing: border-box;top: 0;bottom: 0;left: 50%;z-index: 0;}#sk-container-id-15 div.sk-serial {display: flex;flex-direction: column;align-items: center;background-color: white;padding-right: 0.2em;padding-left: 0.2em;position: relative;}#sk-container-id-15 div.sk-item {position: relative;z-index: 1;}#sk-container-id-15 div.sk-parallel {display: flex;align-items: stretch;justify-content: center;background-color: white;position: relative;}#sk-container-id-15 div.sk-item::before, #sk-container-id-15 div.sk-parallel-item::before {content: \"\";position: absolute;border-left: 1px solid gray;box-sizing: border-box;top: 0;bottom: 0;left: 50%;z-index: -1;}#sk-container-id-15 div.sk-parallel-item {display: flex;flex-direction: column;z-index: 1;position: relative;background-color: white;}#sk-container-id-15 div.sk-parallel-item:first-child::after {align-self: flex-end;width: 50%;}#sk-container-id-15 div.sk-parallel-item:last-child::after {align-self: flex-start;width: 50%;}#sk-container-id-15 div.sk-parallel-item:only-child::after {width: 0;}#sk-container-id-15 div.sk-dashed-wrapped {border: 1px dashed gray;margin: 0 0.4em 0.5em 0.4em;box-sizing: border-box;padding-bottom: 0.4em;background-color: white;}#sk-container-id-15 div.sk-label label {font-family: monospace;font-weight: bold;display: inline-block;line-height: 1.2em;}#sk-container-id-15 div.sk-label-container {text-align: center;}#sk-container-id-15 div.sk-container {/* jupyter's `normalize.less` sets `[hidden] { display: none; }` but bootstrap.min.css set `[hidden] { display: none !important; }` so we also need the `!important` here to be able to override the default hidden behavior on the sphinx rendered scikit-learn.org. See: https://github.com/scikit-learn/scikit-learn/issues/21755 */display: inline-block !important;position: relative;}#sk-container-id-15 div.sk-text-repr-fallback {display: none;}</style><div id=\"sk-container-id-15\" class=\"sk-top-container\"><div class=\"sk-text-repr-fallback\"><pre>GradientBoostingClassifier(random_state=42)</pre><b>In a Jupyter environment, please rerun this cell to show the HTML representation or trust the notebook. <br />On GitHub, the HTML representation is unable to render, please try loading this page with nbviewer.org.</b></div><div class=\"sk-container\" hidden><div class=\"sk-item\"><div class=\"sk-estimator sk-toggleable\"><input class=\"sk-toggleable__control sk-hidden--visually\" id=\"sk-estimator-id-17\" type=\"checkbox\" checked><label for=\"sk-estimator-id-17\" class=\"sk-toggleable__label sk-toggleable__label-arrow\">GradientBoostingClassifier</label><div class=\"sk-toggleable__content\"><pre>GradientBoostingClassifier(random_state=42)</pre></div></div></div></div></div>"
      ],
      "text/plain": [
       "GradientBoostingClassifier(random_state=42)"
      ]
     },
     "execution_count": 300,
     "metadata": {},
     "output_type": "execute_result"
    }
   ],
   "source": [
    "# Fitting the classifier to the training data\n",
    "clf.fit(X_train, y_train)"
   ]
  },
  {
   "cell_type": "code",
   "execution_count": 301,
   "id": "26f1c564",
   "metadata": {},
   "outputs": [],
   "source": [
    "# Predict the results on the testing data\n",
    "y_pred = clf.predict(X_test)"
   ]
  },
  {
   "cell_type": "code",
   "execution_count": 302,
   "id": "741eb866",
   "metadata": {},
   "outputs": [],
   "source": [
    "# Calculate the accuracy score of the model\n",
    "accuracy = accuracy_score(y_test, y_pred)"
   ]
  },
  {
   "cell_type": "code",
   "execution_count": 303,
   "id": "a8017a99",
   "metadata": {},
   "outputs": [
    {
     "name": "stdout",
     "output_type": "stream",
     "text": [
      "Accuracy: 44.39%\n"
     ]
    }
   ],
   "source": [
    "# Print the accuracy score\n",
    "print(\"Accuracy: {:.2f}%\".format(accuracy * 100))"
   ]
  },
  {
   "cell_type": "code",
   "execution_count": null,
   "id": "0423e40b",
   "metadata": {},
   "outputs": [],
   "source": [
    "#Hyper parameyer tunning for gradient boosting"
   ]
  },
  {
   "cell_type": "code",
   "execution_count": 304,
   "id": "966f4f82",
   "metadata": {},
   "outputs": [],
   "source": [
    "# Defining the hyperparameters to tune\n",
    "param_grid = {'n_estimators': [50, 100, 150],\n",
    "              'learning_rate': [0.01, 0.1, 0.5],\n",
    "              'max_depth': [3, 4, 5]}"
   ]
  },
  {
   "cell_type": "code",
   "execution_count": 305,
   "id": "f9b3f2c4",
   "metadata": {},
   "outputs": [],
   "source": [
    "# Initializing the Gradient Boosting Classifier\n",
    "clf = GradientBoostingClassifier(random_state=42)"
   ]
  },
  {
   "cell_type": "code",
   "execution_count": 306,
   "id": "e6ff29fe",
   "metadata": {},
   "outputs": [],
   "source": [
    "# Initializing the Gradient Boosting Classifier\n",
    "clf = GradientBoostingClassifier(random_state=42)"
   ]
  },
  {
   "cell_type": "code",
   "execution_count": 308,
   "id": "f443e8d0",
   "metadata": {},
   "outputs": [
    {
     "data": {
      "text/html": [
       "<style>#sk-container-id-16 {color: black;background-color: white;}#sk-container-id-16 pre{padding: 0;}#sk-container-id-16 div.sk-toggleable {background-color: white;}#sk-container-id-16 label.sk-toggleable__label {cursor: pointer;display: block;width: 100%;margin-bottom: 0;padding: 0.3em;box-sizing: border-box;text-align: center;}#sk-container-id-16 label.sk-toggleable__label-arrow:before {content: \"▸\";float: left;margin-right: 0.25em;color: #696969;}#sk-container-id-16 label.sk-toggleable__label-arrow:hover:before {color: black;}#sk-container-id-16 div.sk-estimator:hover label.sk-toggleable__label-arrow:before {color: black;}#sk-container-id-16 div.sk-toggleable__content {max-height: 0;max-width: 0;overflow: hidden;text-align: left;background-color: #f0f8ff;}#sk-container-id-16 div.sk-toggleable__content pre {margin: 0.2em;color: black;border-radius: 0.25em;background-color: #f0f8ff;}#sk-container-id-16 input.sk-toggleable__control:checked~div.sk-toggleable__content {max-height: 200px;max-width: 100%;overflow: auto;}#sk-container-id-16 input.sk-toggleable__control:checked~label.sk-toggleable__label-arrow:before {content: \"▾\";}#sk-container-id-16 div.sk-estimator input.sk-toggleable__control:checked~label.sk-toggleable__label {background-color: #d4ebff;}#sk-container-id-16 div.sk-label input.sk-toggleable__control:checked~label.sk-toggleable__label {background-color: #d4ebff;}#sk-container-id-16 input.sk-hidden--visually {border: 0;clip: rect(1px 1px 1px 1px);clip: rect(1px, 1px, 1px, 1px);height: 1px;margin: -1px;overflow: hidden;padding: 0;position: absolute;width: 1px;}#sk-container-id-16 div.sk-estimator {font-family: monospace;background-color: #f0f8ff;border: 1px dotted black;border-radius: 0.25em;box-sizing: border-box;margin-bottom: 0.5em;}#sk-container-id-16 div.sk-estimator:hover {background-color: #d4ebff;}#sk-container-id-16 div.sk-parallel-item::after {content: \"\";width: 100%;border-bottom: 1px solid gray;flex-grow: 1;}#sk-container-id-16 div.sk-label:hover label.sk-toggleable__label {background-color: #d4ebff;}#sk-container-id-16 div.sk-serial::before {content: \"\";position: absolute;border-left: 1px solid gray;box-sizing: border-box;top: 0;bottom: 0;left: 50%;z-index: 0;}#sk-container-id-16 div.sk-serial {display: flex;flex-direction: column;align-items: center;background-color: white;padding-right: 0.2em;padding-left: 0.2em;position: relative;}#sk-container-id-16 div.sk-item {position: relative;z-index: 1;}#sk-container-id-16 div.sk-parallel {display: flex;align-items: stretch;justify-content: center;background-color: white;position: relative;}#sk-container-id-16 div.sk-item::before, #sk-container-id-16 div.sk-parallel-item::before {content: \"\";position: absolute;border-left: 1px solid gray;box-sizing: border-box;top: 0;bottom: 0;left: 50%;z-index: -1;}#sk-container-id-16 div.sk-parallel-item {display: flex;flex-direction: column;z-index: 1;position: relative;background-color: white;}#sk-container-id-16 div.sk-parallel-item:first-child::after {align-self: flex-end;width: 50%;}#sk-container-id-16 div.sk-parallel-item:last-child::after {align-self: flex-start;width: 50%;}#sk-container-id-16 div.sk-parallel-item:only-child::after {width: 0;}#sk-container-id-16 div.sk-dashed-wrapped {border: 1px dashed gray;margin: 0 0.4em 0.5em 0.4em;box-sizing: border-box;padding-bottom: 0.4em;background-color: white;}#sk-container-id-16 div.sk-label label {font-family: monospace;font-weight: bold;display: inline-block;line-height: 1.2em;}#sk-container-id-16 div.sk-label-container {text-align: center;}#sk-container-id-16 div.sk-container {/* jupyter's `normalize.less` sets `[hidden] { display: none; }` but bootstrap.min.css set `[hidden] { display: none !important; }` so we also need the `!important` here to be able to override the default hidden behavior on the sphinx rendered scikit-learn.org. See: https://github.com/scikit-learn/scikit-learn/issues/21755 */display: inline-block !important;position: relative;}#sk-container-id-16 div.sk-text-repr-fallback {display: none;}</style><div id=\"sk-container-id-16\" class=\"sk-top-container\"><div class=\"sk-text-repr-fallback\"><pre>GridSearchCV(cv=5, estimator=GradientBoostingClassifier(random_state=42),\n",
       "             n_jobs=-1,\n",
       "             param_grid={&#x27;learning_rate&#x27;: [0.01, 0.1, 0.5],\n",
       "                         &#x27;max_depth&#x27;: [3, 4, 5],\n",
       "                         &#x27;n_estimators&#x27;: [50, 100, 150]})</pre><b>In a Jupyter environment, please rerun this cell to show the HTML representation or trust the notebook. <br />On GitHub, the HTML representation is unable to render, please try loading this page with nbviewer.org.</b></div><div class=\"sk-container\" hidden><div class=\"sk-item sk-dashed-wrapped\"><div class=\"sk-label-container\"><div class=\"sk-label sk-toggleable\"><input class=\"sk-toggleable__control sk-hidden--visually\" id=\"sk-estimator-id-18\" type=\"checkbox\" ><label for=\"sk-estimator-id-18\" class=\"sk-toggleable__label sk-toggleable__label-arrow\">GridSearchCV</label><div class=\"sk-toggleable__content\"><pre>GridSearchCV(cv=5, estimator=GradientBoostingClassifier(random_state=42),\n",
       "             n_jobs=-1,\n",
       "             param_grid={&#x27;learning_rate&#x27;: [0.01, 0.1, 0.5],\n",
       "                         &#x27;max_depth&#x27;: [3, 4, 5],\n",
       "                         &#x27;n_estimators&#x27;: [50, 100, 150]})</pre></div></div></div><div class=\"sk-parallel\"><div class=\"sk-parallel-item\"><div class=\"sk-item\"><div class=\"sk-label-container\"><div class=\"sk-label sk-toggleable\"><input class=\"sk-toggleable__control sk-hidden--visually\" id=\"sk-estimator-id-19\" type=\"checkbox\" ><label for=\"sk-estimator-id-19\" class=\"sk-toggleable__label sk-toggleable__label-arrow\">estimator: GradientBoostingClassifier</label><div class=\"sk-toggleable__content\"><pre>GradientBoostingClassifier(random_state=42)</pre></div></div></div><div class=\"sk-serial\"><div class=\"sk-item\"><div class=\"sk-estimator sk-toggleable\"><input class=\"sk-toggleable__control sk-hidden--visually\" id=\"sk-estimator-id-20\" type=\"checkbox\" ><label for=\"sk-estimator-id-20\" class=\"sk-toggleable__label sk-toggleable__label-arrow\">GradientBoostingClassifier</label><div class=\"sk-toggleable__content\"><pre>GradientBoostingClassifier(random_state=42)</pre></div></div></div></div></div></div></div></div></div></div>"
      ],
      "text/plain": [
       "GridSearchCV(cv=5, estimator=GradientBoostingClassifier(random_state=42),\n",
       "             n_jobs=-1,\n",
       "             param_grid={'learning_rate': [0.01, 0.1, 0.5],\n",
       "                         'max_depth': [3, 4, 5],\n",
       "                         'n_estimators': [50, 100, 150]})"
      ]
     },
     "execution_count": 308,
     "metadata": {},
     "output_type": "execute_result"
    }
   ],
   "source": [
    "# Fitting the Grid Search object to the data\n",
    "grid_search.fit(X_train, y_train)"
   ]
  },
  {
   "cell_type": "code",
   "execution_count": 309,
   "id": "7e773b0c",
   "metadata": {},
   "outputs": [
    {
     "name": "stdout",
     "output_type": "stream",
     "text": [
      "Best parameters:  {'learning_rate': 0.01, 'max_depth': 4, 'n_estimators': 50}\n",
      "Accuracy: 48.93%\n"
     ]
    }
   ],
   "source": [
    "# Print the best hyperparameters and the corresponding accuracy score\n",
    "print(\"Best parameters: \", grid_search.best_params_)\n",
    "print(\"Accuracy: {:.2f}%\".format(grid_search.best_score_ * 100))"
   ]
  },
  {
   "cell_type": "code",
   "execution_count": 310,
   "id": "ce96b76d",
   "metadata": {},
   "outputs": [
    {
     "data": {
      "text/html": [
       "<style>#sk-container-id-17 {color: black;background-color: white;}#sk-container-id-17 pre{padding: 0;}#sk-container-id-17 div.sk-toggleable {background-color: white;}#sk-container-id-17 label.sk-toggleable__label {cursor: pointer;display: block;width: 100%;margin-bottom: 0;padding: 0.3em;box-sizing: border-box;text-align: center;}#sk-container-id-17 label.sk-toggleable__label-arrow:before {content: \"▸\";float: left;margin-right: 0.25em;color: #696969;}#sk-container-id-17 label.sk-toggleable__label-arrow:hover:before {color: black;}#sk-container-id-17 div.sk-estimator:hover label.sk-toggleable__label-arrow:before {color: black;}#sk-container-id-17 div.sk-toggleable__content {max-height: 0;max-width: 0;overflow: hidden;text-align: left;background-color: #f0f8ff;}#sk-container-id-17 div.sk-toggleable__content pre {margin: 0.2em;color: black;border-radius: 0.25em;background-color: #f0f8ff;}#sk-container-id-17 input.sk-toggleable__control:checked~div.sk-toggleable__content {max-height: 200px;max-width: 100%;overflow: auto;}#sk-container-id-17 input.sk-toggleable__control:checked~label.sk-toggleable__label-arrow:before {content: \"▾\";}#sk-container-id-17 div.sk-estimator input.sk-toggleable__control:checked~label.sk-toggleable__label {background-color: #d4ebff;}#sk-container-id-17 div.sk-label input.sk-toggleable__control:checked~label.sk-toggleable__label {background-color: #d4ebff;}#sk-container-id-17 input.sk-hidden--visually {border: 0;clip: rect(1px 1px 1px 1px);clip: rect(1px, 1px, 1px, 1px);height: 1px;margin: -1px;overflow: hidden;padding: 0;position: absolute;width: 1px;}#sk-container-id-17 div.sk-estimator {font-family: monospace;background-color: #f0f8ff;border: 1px dotted black;border-radius: 0.25em;box-sizing: border-box;margin-bottom: 0.5em;}#sk-container-id-17 div.sk-estimator:hover {background-color: #d4ebff;}#sk-container-id-17 div.sk-parallel-item::after {content: \"\";width: 100%;border-bottom: 1px solid gray;flex-grow: 1;}#sk-container-id-17 div.sk-label:hover label.sk-toggleable__label {background-color: #d4ebff;}#sk-container-id-17 div.sk-serial::before {content: \"\";position: absolute;border-left: 1px solid gray;box-sizing: border-box;top: 0;bottom: 0;left: 50%;z-index: 0;}#sk-container-id-17 div.sk-serial {display: flex;flex-direction: column;align-items: center;background-color: white;padding-right: 0.2em;padding-left: 0.2em;position: relative;}#sk-container-id-17 div.sk-item {position: relative;z-index: 1;}#sk-container-id-17 div.sk-parallel {display: flex;align-items: stretch;justify-content: center;background-color: white;position: relative;}#sk-container-id-17 div.sk-item::before, #sk-container-id-17 div.sk-parallel-item::before {content: \"\";position: absolute;border-left: 1px solid gray;box-sizing: border-box;top: 0;bottom: 0;left: 50%;z-index: -1;}#sk-container-id-17 div.sk-parallel-item {display: flex;flex-direction: column;z-index: 1;position: relative;background-color: white;}#sk-container-id-17 div.sk-parallel-item:first-child::after {align-self: flex-end;width: 50%;}#sk-container-id-17 div.sk-parallel-item:last-child::after {align-self: flex-start;width: 50%;}#sk-container-id-17 div.sk-parallel-item:only-child::after {width: 0;}#sk-container-id-17 div.sk-dashed-wrapped {border: 1px dashed gray;margin: 0 0.4em 0.5em 0.4em;box-sizing: border-box;padding-bottom: 0.4em;background-color: white;}#sk-container-id-17 div.sk-label label {font-family: monospace;font-weight: bold;display: inline-block;line-height: 1.2em;}#sk-container-id-17 div.sk-label-container {text-align: center;}#sk-container-id-17 div.sk-container {/* jupyter's `normalize.less` sets `[hidden] { display: none; }` but bootstrap.min.css set `[hidden] { display: none !important; }` so we also need the `!important` here to be able to override the default hidden behavior on the sphinx rendered scikit-learn.org. See: https://github.com/scikit-learn/scikit-learn/issues/21755 */display: inline-block !important;position: relative;}#sk-container-id-17 div.sk-text-repr-fallback {display: none;}</style><div id=\"sk-container-id-17\" class=\"sk-top-container\"><div class=\"sk-text-repr-fallback\"><pre>GradientBoostingClassifier(learning_rate=0.01, max_depth=4, n_estimators=50,\n",
       "                           random_state=42)</pre><b>In a Jupyter environment, please rerun this cell to show the HTML representation or trust the notebook. <br />On GitHub, the HTML representation is unable to render, please try loading this page with nbviewer.org.</b></div><div class=\"sk-container\" hidden><div class=\"sk-item\"><div class=\"sk-estimator sk-toggleable\"><input class=\"sk-toggleable__control sk-hidden--visually\" id=\"sk-estimator-id-21\" type=\"checkbox\" checked><label for=\"sk-estimator-id-21\" class=\"sk-toggleable__label sk-toggleable__label-arrow\">GradientBoostingClassifier</label><div class=\"sk-toggleable__content\"><pre>GradientBoostingClassifier(learning_rate=0.01, max_depth=4, n_estimators=50,\n",
       "                           random_state=42)</pre></div></div></div></div></div>"
      ],
      "text/plain": [
       "GradientBoostingClassifier(learning_rate=0.01, max_depth=4, n_estimators=50,\n",
       "                           random_state=42)"
      ]
     },
     "execution_count": 310,
     "metadata": {},
     "output_type": "execute_result"
    }
   ],
   "source": [
    "# Train a new model with the best hyperparameters on the entire training set\n",
    "best_params = grid_search.best_params_\n",
    "clf = GradientBoostingClassifier(n_estimators=best_params['n_estimators'], \n",
    "                                 learning_rate=best_params['learning_rate'], \n",
    "                                 max_depth=best_params['max_depth'], \n",
    "                                 random_state=42)\n",
    "clf.fit(X_train, y_train)"
   ]
  },
  {
   "cell_type": "code",
   "execution_count": 311,
   "id": "e4f84d53",
   "metadata": {},
   "outputs": [
    {
     "name": "stdout",
     "output_type": "stream",
     "text": [
      "Testing Accuracy: 44.39%\n"
     ]
    }
   ],
   "source": [
    "# Evaluate the performance of the model on the testing set\n",
    "y_pred = clf.predict(X_test)\n",
    "accuracy = accuracy_score(y_test, y_pred)\n",
    "print(\"Testing Accuracy: {:.2f}%\".format(accuracy * 100))"
   ]
  },
  {
   "cell_type": "code",
   "execution_count": 312,
   "id": "6a3fd1dd",
   "metadata": {},
   "outputs": [],
   "source": [
    "#Still getting low accuracy reason can be\n",
    "#Multiple class to be predict\n",
    "#more feature can be added like goal keeper rating of each team "
   ]
  },
  {
   "cell_type": "code",
   "execution_count": null,
   "id": "b4d73af4",
   "metadata": {},
   "outputs": [],
   "source": []
  },
  {
   "cell_type": "code",
   "execution_count": null,
   "id": "2b3dd442",
   "metadata": {},
   "outputs": [],
   "source": []
  },
  {
   "cell_type": "code",
   "execution_count": null,
   "id": "2b59f79e",
   "metadata": {},
   "outputs": [],
   "source": []
  },
  {
   "cell_type": "code",
   "execution_count": 328,
   "id": "099189a9",
   "metadata": {},
   "outputs": [
    {
     "data": {
      "text/html": [
       "<div>\n",
       "<style scoped>\n",
       "    .dataframe tbody tr th:only-of-type {\n",
       "        vertical-align: middle;\n",
       "    }\n",
       "\n",
       "    .dataframe tbody tr th {\n",
       "        vertical-align: top;\n",
       "    }\n",
       "\n",
       "    .dataframe thead th {\n",
       "        text-align: right;\n",
       "    }\n",
       "</style>\n",
       "<table border=\"1\" class=\"dataframe\">\n",
       "  <thead>\n",
       "    <tr style=\"text-align: right;\">\n",
       "      <th></th>\n",
       "      <th>Home_team</th>\n",
       "      <th>team</th>\n",
       "      <th>HomeTeamGoal</th>\n",
       "      <th>AwayTeamGoal</th>\n",
       "      <th>Result</th>\n",
       "      <th>hometeam_pts</th>\n",
       "      <th>hometeam_ppg</th>\n",
       "      <th>Pts</th>\n",
       "      <th>PPG</th>\n",
       "    </tr>\n",
       "  </thead>\n",
       "  <tbody>\n",
       "    <tr>\n",
       "      <th>0</th>\n",
       "      <td>Philadelphia</td>\n",
       "      <td>Minnesota Utd</td>\n",
       "      <td>1</td>\n",
       "      <td>1</td>\n",
       "      <td>Tie</td>\n",
       "      <td>67</td>\n",
       "      <td>1.97</td>\n",
       "      <td>48</td>\n",
       "      <td>1.41</td>\n",
       "    </tr>\n",
       "    <tr>\n",
       "      <th>1</th>\n",
       "      <td>Columbus Crew</td>\n",
       "      <td>Vancouver</td>\n",
       "      <td>4</td>\n",
       "      <td>0</td>\n",
       "      <td>Win</td>\n",
       "      <td>46</td>\n",
       "      <td>1.35</td>\n",
       "      <td>43</td>\n",
       "      <td>1.26</td>\n",
       "    </tr>\n",
       "    <tr>\n",
       "      <th>2</th>\n",
       "      <td>Los Angeles FC</td>\n",
       "      <td>Colorado Rapids</td>\n",
       "      <td>3</td>\n",
       "      <td>0</td>\n",
       "      <td>Win</td>\n",
       "      <td>67</td>\n",
       "      <td>1.97</td>\n",
       "      <td>43</td>\n",
       "      <td>1.26</td>\n",
       "    </tr>\n",
       "    <tr>\n",
       "      <th>3</th>\n",
       "      <td>Dallas</td>\n",
       "      <td>Toronto</td>\n",
       "      <td>1</td>\n",
       "      <td>1</td>\n",
       "      <td>Tie</td>\n",
       "      <td>53</td>\n",
       "      <td>1.56</td>\n",
       "      <td>34</td>\n",
       "      <td>1.00</td>\n",
       "    </tr>\n",
       "    <tr>\n",
       "      <th>4</th>\n",
       "      <td>Austin</td>\n",
       "      <td>Cincinnati</td>\n",
       "      <td>5</td>\n",
       "      <td>0</td>\n",
       "      <td>Win</td>\n",
       "      <td>56</td>\n",
       "      <td>1.65</td>\n",
       "      <td>49</td>\n",
       "      <td>1.44</td>\n",
       "    </tr>\n",
       "  </tbody>\n",
       "</table>\n",
       "</div>"
      ],
      "text/plain": [
       "        Home_team             team HomeTeamGoal AwayTeamGoal Result  \\\n",
       "0    Philadelphia    Minnesota Utd            1            1    Tie   \n",
       "1   Columbus Crew        Vancouver            4            0    Win   \n",
       "2  Los Angeles FC  Colorado Rapids            3            0    Win   \n",
       "3          Dallas          Toronto            1            1    Tie   \n",
       "4          Austin       Cincinnati            5            0    Win   \n",
       "\n",
       "   hometeam_pts  hometeam_ppg  Pts   PPG  \n",
       "0            67          1.97   48  1.41  \n",
       "1            46          1.35   43  1.26  \n",
       "2            67          1.97   43  1.26  \n",
       "3            53          1.56   34  1.00  \n",
       "4            56          1.65   49  1.44  "
      ]
     },
     "execution_count": 328,
     "metadata": {},
     "output_type": "execute_result"
    }
   ],
   "source": [
    "final_data.head()"
   ]
  },
  {
   "cell_type": "code",
   "execution_count": 330,
   "id": "61d0601c",
   "metadata": {},
   "outputs": [],
   "source": [
    "final_d=final_data.copy()"
   ]
  },
  {
   "cell_type": "code",
   "execution_count": 329,
   "id": "0c6422de",
   "metadata": {},
   "outputs": [],
   "source": [
    "#converting result win as 1 and loss and tie as 0 so less class will be thre in predictiob"
   ]
  },
  {
   "cell_type": "code",
   "execution_count": 331,
   "id": "2e063b45",
   "metadata": {},
   "outputs": [],
   "source": [
    "final_d['Result'] = final_d['Result'].apply(lambda x: 1 if x == 'Win' else 0)"
   ]
  },
  {
   "cell_type": "code",
   "execution_count": 332,
   "id": "f0f2e62d",
   "metadata": {},
   "outputs": [
    {
     "data": {
      "text/html": [
       "<div>\n",
       "<style scoped>\n",
       "    .dataframe tbody tr th:only-of-type {\n",
       "        vertical-align: middle;\n",
       "    }\n",
       "\n",
       "    .dataframe tbody tr th {\n",
       "        vertical-align: top;\n",
       "    }\n",
       "\n",
       "    .dataframe thead th {\n",
       "        text-align: right;\n",
       "    }\n",
       "</style>\n",
       "<table border=\"1\" class=\"dataframe\">\n",
       "  <thead>\n",
       "    <tr style=\"text-align: right;\">\n",
       "      <th></th>\n",
       "      <th>Home_team</th>\n",
       "      <th>team</th>\n",
       "      <th>HomeTeamGoal</th>\n",
       "      <th>AwayTeamGoal</th>\n",
       "      <th>Result</th>\n",
       "      <th>hometeam_pts</th>\n",
       "      <th>hometeam_ppg</th>\n",
       "      <th>Pts</th>\n",
       "      <th>PPG</th>\n",
       "    </tr>\n",
       "  </thead>\n",
       "  <tbody>\n",
       "    <tr>\n",
       "      <th>0</th>\n",
       "      <td>Philadelphia</td>\n",
       "      <td>Minnesota Utd</td>\n",
       "      <td>1</td>\n",
       "      <td>1</td>\n",
       "      <td>0</td>\n",
       "      <td>67</td>\n",
       "      <td>1.97</td>\n",
       "      <td>48</td>\n",
       "      <td>1.41</td>\n",
       "    </tr>\n",
       "    <tr>\n",
       "      <th>1</th>\n",
       "      <td>Columbus Crew</td>\n",
       "      <td>Vancouver</td>\n",
       "      <td>4</td>\n",
       "      <td>0</td>\n",
       "      <td>1</td>\n",
       "      <td>46</td>\n",
       "      <td>1.35</td>\n",
       "      <td>43</td>\n",
       "      <td>1.26</td>\n",
       "    </tr>\n",
       "    <tr>\n",
       "      <th>2</th>\n",
       "      <td>Los Angeles FC</td>\n",
       "      <td>Colorado Rapids</td>\n",
       "      <td>3</td>\n",
       "      <td>0</td>\n",
       "      <td>1</td>\n",
       "      <td>67</td>\n",
       "      <td>1.97</td>\n",
       "      <td>43</td>\n",
       "      <td>1.26</td>\n",
       "    </tr>\n",
       "    <tr>\n",
       "      <th>3</th>\n",
       "      <td>Dallas</td>\n",
       "      <td>Toronto</td>\n",
       "      <td>1</td>\n",
       "      <td>1</td>\n",
       "      <td>0</td>\n",
       "      <td>53</td>\n",
       "      <td>1.56</td>\n",
       "      <td>34</td>\n",
       "      <td>1.00</td>\n",
       "    </tr>\n",
       "    <tr>\n",
       "      <th>4</th>\n",
       "      <td>Austin</td>\n",
       "      <td>Cincinnati</td>\n",
       "      <td>5</td>\n",
       "      <td>0</td>\n",
       "      <td>1</td>\n",
       "      <td>56</td>\n",
       "      <td>1.65</td>\n",
       "      <td>49</td>\n",
       "      <td>1.44</td>\n",
       "    </tr>\n",
       "  </tbody>\n",
       "</table>\n",
       "</div>"
      ],
      "text/plain": [
       "        Home_team             team HomeTeamGoal AwayTeamGoal  Result  \\\n",
       "0    Philadelphia    Minnesota Utd            1            1       0   \n",
       "1   Columbus Crew        Vancouver            4            0       1   \n",
       "2  Los Angeles FC  Colorado Rapids            3            0       1   \n",
       "3          Dallas          Toronto            1            1       0   \n",
       "4          Austin       Cincinnati            5            0       1   \n",
       "\n",
       "   hometeam_pts  hometeam_ppg  Pts   PPG  \n",
       "0            67          1.97   48  1.41  \n",
       "1            46          1.35   43  1.26  \n",
       "2            67          1.97   43  1.26  \n",
       "3            53          1.56   34  1.00  \n",
       "4            56          1.65   49  1.44  "
      ]
     },
     "execution_count": 332,
     "metadata": {},
     "output_type": "execute_result"
    }
   ],
   "source": [
    "final_d.head()"
   ]
  },
  {
   "cell_type": "code",
   "execution_count": 340,
   "id": "25c4dbde",
   "metadata": {},
   "outputs": [],
   "source": [
    "final_d = final_d.rename(columns={'AwayTeam': 'Away_team'})"
   ]
  },
  {
   "cell_type": "code",
   "execution_count": 346,
   "id": "a955dcf9",
   "metadata": {},
   "outputs": [],
   "source": [
    "final_d = final_d.rename(columns={'Pts': 'awayteam_pts','PPG': 'awayteam_ppg'})"
   ]
  },
  {
   "cell_type": "code",
   "execution_count": 347,
   "id": "9b1dd036",
   "metadata": {},
   "outputs": [
    {
     "data": {
      "text/html": [
       "<div>\n",
       "<style scoped>\n",
       "    .dataframe tbody tr th:only-of-type {\n",
       "        vertical-align: middle;\n",
       "    }\n",
       "\n",
       "    .dataframe tbody tr th {\n",
       "        vertical-align: top;\n",
       "    }\n",
       "\n",
       "    .dataframe thead th {\n",
       "        text-align: right;\n",
       "    }\n",
       "</style>\n",
       "<table border=\"1\" class=\"dataframe\">\n",
       "  <thead>\n",
       "    <tr style=\"text-align: right;\">\n",
       "      <th></th>\n",
       "      <th>Home_team</th>\n",
       "      <th>Away_team</th>\n",
       "      <th>HomeTeamGoal</th>\n",
       "      <th>AwayTeamGoal</th>\n",
       "      <th>Result</th>\n",
       "      <th>hometeam_pts</th>\n",
       "      <th>hometeam_ppg</th>\n",
       "      <th>awayteam_pts</th>\n",
       "      <th>awayteam_ppg</th>\n",
       "    </tr>\n",
       "  </thead>\n",
       "  <tbody>\n",
       "    <tr>\n",
       "      <th>0</th>\n",
       "      <td>0</td>\n",
       "      <td>21</td>\n",
       "      <td>1</td>\n",
       "      <td>1</td>\n",
       "      <td>0</td>\n",
       "      <td>67</td>\n",
       "      <td>1.97</td>\n",
       "      <td>48</td>\n",
       "      <td>1.41</td>\n",
       "    </tr>\n",
       "    <tr>\n",
       "      <th>1</th>\n",
       "      <td>1</td>\n",
       "      <td>23</td>\n",
       "      <td>4</td>\n",
       "      <td>0</td>\n",
       "      <td>1</td>\n",
       "      <td>46</td>\n",
       "      <td>1.35</td>\n",
       "      <td>43</td>\n",
       "      <td>1.26</td>\n",
       "    </tr>\n",
       "  </tbody>\n",
       "</table>\n",
       "</div>"
      ],
      "text/plain": [
       "   Home_team  Away_team HomeTeamGoal AwayTeamGoal  Result  hometeam_pts  \\\n",
       "0          0         21            1            1       0            67   \n",
       "1          1         23            4            0       1            46   \n",
       "\n",
       "   hometeam_ppg  awayteam_pts  awayteam_ppg  \n",
       "0          1.97            48          1.41  \n",
       "1          1.35            43          1.26  "
      ]
     },
     "execution_count": 347,
     "metadata": {},
     "output_type": "execute_result"
    }
   ],
   "source": [
    "final_d.head(2)"
   ]
  },
  {
   "cell_type": "code",
   "execution_count": 348,
   "id": "a38906ab",
   "metadata": {},
   "outputs": [],
   "source": [
    "# Creating a list of all unique values in 'Home_team' and 'Away_team' columns\n",
    "unique_teams = pd.concat([final_d['Home_team'], final_d['Away_team']]).unique()\n",
    "\n",
    "# Mapping each unique value to a unique integer\n",
    "team_mapping = pd.Series(pd.factorize(unique_teams)[0], index=unique_teams)\n",
    "\n",
    "# Replacing the values in 'Home_team' and 'Away_team' columns with the mapped integers\n",
    "final_d['Home_team'] = final_d['Home_team'].map(team_mapping)\n",
    "final_d['Away_team'] = final_d['Away_team'].map(team_mapping)"
   ]
  },
  {
   "cell_type": "code",
   "execution_count": 349,
   "id": "e5745947",
   "metadata": {},
   "outputs": [
    {
     "data": {
      "text/html": [
       "<div>\n",
       "<style scoped>\n",
       "    .dataframe tbody tr th:only-of-type {\n",
       "        vertical-align: middle;\n",
       "    }\n",
       "\n",
       "    .dataframe tbody tr th {\n",
       "        vertical-align: top;\n",
       "    }\n",
       "\n",
       "    .dataframe thead th {\n",
       "        text-align: right;\n",
       "    }\n",
       "</style>\n",
       "<table border=\"1\" class=\"dataframe\">\n",
       "  <thead>\n",
       "    <tr style=\"text-align: right;\">\n",
       "      <th></th>\n",
       "      <th>Home_team</th>\n",
       "      <th>Away_team</th>\n",
       "      <th>HomeTeamGoal</th>\n",
       "      <th>AwayTeamGoal</th>\n",
       "      <th>Result</th>\n",
       "      <th>hometeam_pts</th>\n",
       "      <th>hometeam_ppg</th>\n",
       "      <th>awayteam_pts</th>\n",
       "      <th>awayteam_ppg</th>\n",
       "    </tr>\n",
       "  </thead>\n",
       "  <tbody>\n",
       "    <tr>\n",
       "      <th>0</th>\n",
       "      <td>0</td>\n",
       "      <td>21</td>\n",
       "      <td>1</td>\n",
       "      <td>1</td>\n",
       "      <td>0</td>\n",
       "      <td>67</td>\n",
       "      <td>1.97</td>\n",
       "      <td>48</td>\n",
       "      <td>1.41</td>\n",
       "    </tr>\n",
       "    <tr>\n",
       "      <th>1</th>\n",
       "      <td>1</td>\n",
       "      <td>23</td>\n",
       "      <td>4</td>\n",
       "      <td>0</td>\n",
       "      <td>1</td>\n",
       "      <td>46</td>\n",
       "      <td>1.35</td>\n",
       "      <td>43</td>\n",
       "      <td>1.26</td>\n",
       "    </tr>\n",
       "    <tr>\n",
       "      <th>2</th>\n",
       "      <td>2</td>\n",
       "      <td>20</td>\n",
       "      <td>3</td>\n",
       "      <td>0</td>\n",
       "      <td>1</td>\n",
       "      <td>67</td>\n",
       "      <td>1.97</td>\n",
       "      <td>43</td>\n",
       "      <td>1.26</td>\n",
       "    </tr>\n",
       "    <tr>\n",
       "      <th>3</th>\n",
       "      <td>3</td>\n",
       "      <td>15</td>\n",
       "      <td>1</td>\n",
       "      <td>1</td>\n",
       "      <td>0</td>\n",
       "      <td>53</td>\n",
       "      <td>1.56</td>\n",
       "      <td>34</td>\n",
       "      <td>1.00</td>\n",
       "    </tr>\n",
       "    <tr>\n",
       "      <th>4</th>\n",
       "      <td>4</td>\n",
       "      <td>19</td>\n",
       "      <td>5</td>\n",
       "      <td>0</td>\n",
       "      <td>1</td>\n",
       "      <td>56</td>\n",
       "      <td>1.65</td>\n",
       "      <td>49</td>\n",
       "      <td>1.44</td>\n",
       "    </tr>\n",
       "  </tbody>\n",
       "</table>\n",
       "</div>"
      ],
      "text/plain": [
       "   Home_team  Away_team HomeTeamGoal AwayTeamGoal  Result  hometeam_pts  \\\n",
       "0          0         21            1            1       0            67   \n",
       "1          1         23            4            0       1            46   \n",
       "2          2         20            3            0       1            67   \n",
       "3          3         15            1            1       0            53   \n",
       "4          4         19            5            0       1            56   \n",
       "\n",
       "   hometeam_ppg  awayteam_pts  awayteam_ppg  \n",
       "0          1.97            48          1.41  \n",
       "1          1.35            43          1.26  \n",
       "2          1.97            43          1.26  \n",
       "3          1.56            34          1.00  \n",
       "4          1.65            49          1.44  "
      ]
     },
     "execution_count": 349,
     "metadata": {},
     "output_type": "execute_result"
    }
   ],
   "source": [
    "final_d.head()"
   ]
  },
  {
   "cell_type": "code",
   "execution_count": 356,
   "id": "a4a5a557",
   "metadata": {},
   "outputs": [
    {
     "data": {
      "text/html": [
       "<div>\n",
       "<style scoped>\n",
       "    .dataframe tbody tr th:only-of-type {\n",
       "        vertical-align: middle;\n",
       "    }\n",
       "\n",
       "    .dataframe tbody tr th {\n",
       "        vertical-align: top;\n",
       "    }\n",
       "\n",
       "    .dataframe thead th {\n",
       "        text-align: right;\n",
       "    }\n",
       "</style>\n",
       "<table border=\"1\" class=\"dataframe\">\n",
       "  <thead>\n",
       "    <tr style=\"text-align: right;\">\n",
       "      <th></th>\n",
       "      <th>Home_team</th>\n",
       "      <th>Away_team</th>\n",
       "      <th>Result</th>\n",
       "      <th>hometeam_pts</th>\n",
       "      <th>hometeam_ppg</th>\n",
       "      <th>awayteam_pts</th>\n",
       "      <th>awayteam_ppg</th>\n",
       "    </tr>\n",
       "  </thead>\n",
       "  <tbody>\n",
       "    <tr>\n",
       "      <th>Home_team</th>\n",
       "      <td>1.000000</td>\n",
       "      <td>-0.060162</td>\n",
       "      <td>-0.023126</td>\n",
       "      <td>-0.112585</td>\n",
       "      <td>-0.112203</td>\n",
       "      <td>0.002712</td>\n",
       "      <td>0.002699</td>\n",
       "    </tr>\n",
       "    <tr>\n",
       "      <th>Away_team</th>\n",
       "      <td>-0.060162</td>\n",
       "      <td>1.000000</td>\n",
       "      <td>-0.008457</td>\n",
       "      <td>0.004090</td>\n",
       "      <td>0.004086</td>\n",
       "      <td>-0.112585</td>\n",
       "      <td>-0.112203</td>\n",
       "    </tr>\n",
       "    <tr>\n",
       "      <th>Result</th>\n",
       "      <td>-0.023126</td>\n",
       "      <td>-0.008457</td>\n",
       "      <td>1.000000</td>\n",
       "      <td>0.085724</td>\n",
       "      <td>0.085567</td>\n",
       "      <td>-0.118011</td>\n",
       "      <td>-0.117874</td>\n",
       "    </tr>\n",
       "    <tr>\n",
       "      <th>hometeam_pts</th>\n",
       "      <td>-0.112585</td>\n",
       "      <td>0.004090</td>\n",
       "      <td>0.085724</td>\n",
       "      <td>1.000000</td>\n",
       "      <td>0.999953</td>\n",
       "      <td>-0.070724</td>\n",
       "      <td>-0.070698</td>\n",
       "    </tr>\n",
       "    <tr>\n",
       "      <th>hometeam_ppg</th>\n",
       "      <td>-0.112203</td>\n",
       "      <td>0.004086</td>\n",
       "      <td>0.085567</td>\n",
       "      <td>0.999953</td>\n",
       "      <td>1.000000</td>\n",
       "      <td>-0.070714</td>\n",
       "      <td>-0.070694</td>\n",
       "    </tr>\n",
       "    <tr>\n",
       "      <th>awayteam_pts</th>\n",
       "      <td>0.002712</td>\n",
       "      <td>-0.112585</td>\n",
       "      <td>-0.118011</td>\n",
       "      <td>-0.070724</td>\n",
       "      <td>-0.070714</td>\n",
       "      <td>1.000000</td>\n",
       "      <td>0.999953</td>\n",
       "    </tr>\n",
       "    <tr>\n",
       "      <th>awayteam_ppg</th>\n",
       "      <td>0.002699</td>\n",
       "      <td>-0.112203</td>\n",
       "      <td>-0.117874</td>\n",
       "      <td>-0.070698</td>\n",
       "      <td>-0.070694</td>\n",
       "      <td>0.999953</td>\n",
       "      <td>1.000000</td>\n",
       "    </tr>\n",
       "  </tbody>\n",
       "</table>\n",
       "</div>"
      ],
      "text/plain": [
       "              Home_team  Away_team    Result  hometeam_pts  hometeam_ppg  \\\n",
       "Home_team      1.000000  -0.060162 -0.023126     -0.112585     -0.112203   \n",
       "Away_team     -0.060162   1.000000 -0.008457      0.004090      0.004086   \n",
       "Result        -0.023126  -0.008457  1.000000      0.085724      0.085567   \n",
       "hometeam_pts  -0.112585   0.004090  0.085724      1.000000      0.999953   \n",
       "hometeam_ppg  -0.112203   0.004086  0.085567      0.999953      1.000000   \n",
       "awayteam_pts   0.002712  -0.112585 -0.118011     -0.070724     -0.070714   \n",
       "awayteam_ppg   0.002699  -0.112203 -0.117874     -0.070698     -0.070694   \n",
       "\n",
       "              awayteam_pts  awayteam_ppg  \n",
       "Home_team         0.002712      0.002699  \n",
       "Away_team        -0.112585     -0.112203  \n",
       "Result           -0.118011     -0.117874  \n",
       "hometeam_pts     -0.070724     -0.070698  \n",
       "hometeam_ppg     -0.070714     -0.070694  \n",
       "awayteam_pts      1.000000      0.999953  \n",
       "awayteam_ppg      0.999953      1.000000  "
      ]
     },
     "execution_count": 356,
     "metadata": {},
     "output_type": "execute_result"
    }
   ],
   "source": [
    " final_d.corr()"
   ]
  },
  {
   "cell_type": "code",
   "execution_count": 350,
   "id": "bdc6a53d",
   "metadata": {},
   "outputs": [],
   "source": [
    "from sklearn.model_selection import train_test_split"
   ]
  },
  {
   "cell_type": "code",
   "execution_count": 351,
   "id": "9fef84ff",
   "metadata": {},
   "outputs": [],
   "source": [
    "X_train, X_test, y_train, y_test = train_test_split(final_d[['Home_team', 'Away_team','hometeam_pts','hometeam_ppg','awayteam_pts','awayteam_ppg']],merged_df_new['Result'], test_size=0.2, random_state=42)"
   ]
  },
  {
   "cell_type": "code",
   "execution_count": 353,
   "id": "133cf52e",
   "metadata": {},
   "outputs": [],
   "source": [
    "#using model gradient boosting"
   ]
  },
  {
   "cell_type": "code",
   "execution_count": 352,
   "id": "03cc2085",
   "metadata": {},
   "outputs": [],
   "source": [
    "from sklearn.ensemble import GradientBoostingClassifier\n",
    "from sklearn.metrics import accuracy_score"
   ]
  },
  {
   "cell_type": "code",
   "execution_count": 354,
   "id": "f5485a5c",
   "metadata": {},
   "outputs": [],
   "source": [
    "# Defining the hyperparameters to tune\n",
    "param_grid = {'n_estimators': [50, 100, 150],\n",
    "              'learning_rate': [0.01, 0.1, 0.5],\n",
    "              'max_depth': [3, 4, 5]}"
   ]
  },
  {
   "cell_type": "code",
   "execution_count": 355,
   "id": "b3c4825e",
   "metadata": {},
   "outputs": [],
   "source": [
    "# Initializing the Gradient Boosting Classifier\n",
    "clf = GradientBoostingClassifier(random_state=42)"
   ]
  },
  {
   "cell_type": "code",
   "execution_count": 357,
   "id": "ae64bea1",
   "metadata": {},
   "outputs": [],
   "source": [
    "# Initializing the Gradient Boosting Classifier\n",
    "clf = GradientBoostingClassifier(random_state=42)"
   ]
  },
  {
   "cell_type": "code",
   "execution_count": 358,
   "id": "d01c1a61",
   "metadata": {},
   "outputs": [
    {
     "data": {
      "text/html": [
       "<style>#sk-container-id-18 {color: black;background-color: white;}#sk-container-id-18 pre{padding: 0;}#sk-container-id-18 div.sk-toggleable {background-color: white;}#sk-container-id-18 label.sk-toggleable__label {cursor: pointer;display: block;width: 100%;margin-bottom: 0;padding: 0.3em;box-sizing: border-box;text-align: center;}#sk-container-id-18 label.sk-toggleable__label-arrow:before {content: \"▸\";float: left;margin-right: 0.25em;color: #696969;}#sk-container-id-18 label.sk-toggleable__label-arrow:hover:before {color: black;}#sk-container-id-18 div.sk-estimator:hover label.sk-toggleable__label-arrow:before {color: black;}#sk-container-id-18 div.sk-toggleable__content {max-height: 0;max-width: 0;overflow: hidden;text-align: left;background-color: #f0f8ff;}#sk-container-id-18 div.sk-toggleable__content pre {margin: 0.2em;color: black;border-radius: 0.25em;background-color: #f0f8ff;}#sk-container-id-18 input.sk-toggleable__control:checked~div.sk-toggleable__content {max-height: 200px;max-width: 100%;overflow: auto;}#sk-container-id-18 input.sk-toggleable__control:checked~label.sk-toggleable__label-arrow:before {content: \"▾\";}#sk-container-id-18 div.sk-estimator input.sk-toggleable__control:checked~label.sk-toggleable__label {background-color: #d4ebff;}#sk-container-id-18 div.sk-label input.sk-toggleable__control:checked~label.sk-toggleable__label {background-color: #d4ebff;}#sk-container-id-18 input.sk-hidden--visually {border: 0;clip: rect(1px 1px 1px 1px);clip: rect(1px, 1px, 1px, 1px);height: 1px;margin: -1px;overflow: hidden;padding: 0;position: absolute;width: 1px;}#sk-container-id-18 div.sk-estimator {font-family: monospace;background-color: #f0f8ff;border: 1px dotted black;border-radius: 0.25em;box-sizing: border-box;margin-bottom: 0.5em;}#sk-container-id-18 div.sk-estimator:hover {background-color: #d4ebff;}#sk-container-id-18 div.sk-parallel-item::after {content: \"\";width: 100%;border-bottom: 1px solid gray;flex-grow: 1;}#sk-container-id-18 div.sk-label:hover label.sk-toggleable__label {background-color: #d4ebff;}#sk-container-id-18 div.sk-serial::before {content: \"\";position: absolute;border-left: 1px solid gray;box-sizing: border-box;top: 0;bottom: 0;left: 50%;z-index: 0;}#sk-container-id-18 div.sk-serial {display: flex;flex-direction: column;align-items: center;background-color: white;padding-right: 0.2em;padding-left: 0.2em;position: relative;}#sk-container-id-18 div.sk-item {position: relative;z-index: 1;}#sk-container-id-18 div.sk-parallel {display: flex;align-items: stretch;justify-content: center;background-color: white;position: relative;}#sk-container-id-18 div.sk-item::before, #sk-container-id-18 div.sk-parallel-item::before {content: \"\";position: absolute;border-left: 1px solid gray;box-sizing: border-box;top: 0;bottom: 0;left: 50%;z-index: -1;}#sk-container-id-18 div.sk-parallel-item {display: flex;flex-direction: column;z-index: 1;position: relative;background-color: white;}#sk-container-id-18 div.sk-parallel-item:first-child::after {align-self: flex-end;width: 50%;}#sk-container-id-18 div.sk-parallel-item:last-child::after {align-self: flex-start;width: 50%;}#sk-container-id-18 div.sk-parallel-item:only-child::after {width: 0;}#sk-container-id-18 div.sk-dashed-wrapped {border: 1px dashed gray;margin: 0 0.4em 0.5em 0.4em;box-sizing: border-box;padding-bottom: 0.4em;background-color: white;}#sk-container-id-18 div.sk-label label {font-family: monospace;font-weight: bold;display: inline-block;line-height: 1.2em;}#sk-container-id-18 div.sk-label-container {text-align: center;}#sk-container-id-18 div.sk-container {/* jupyter's `normalize.less` sets `[hidden] { display: none; }` but bootstrap.min.css set `[hidden] { display: none !important; }` so we also need the `!important` here to be able to override the default hidden behavior on the sphinx rendered scikit-learn.org. See: https://github.com/scikit-learn/scikit-learn/issues/21755 */display: inline-block !important;position: relative;}#sk-container-id-18 div.sk-text-repr-fallback {display: none;}</style><div id=\"sk-container-id-18\" class=\"sk-top-container\"><div class=\"sk-text-repr-fallback\"><pre>GridSearchCV(cv=5, estimator=GradientBoostingClassifier(random_state=42),\n",
       "             n_jobs=-1,\n",
       "             param_grid={&#x27;learning_rate&#x27;: [0.01, 0.1, 0.5],\n",
       "                         &#x27;max_depth&#x27;: [3, 4, 5],\n",
       "                         &#x27;n_estimators&#x27;: [50, 100, 150]})</pre><b>In a Jupyter environment, please rerun this cell to show the HTML representation or trust the notebook. <br />On GitHub, the HTML representation is unable to render, please try loading this page with nbviewer.org.</b></div><div class=\"sk-container\" hidden><div class=\"sk-item sk-dashed-wrapped\"><div class=\"sk-label-container\"><div class=\"sk-label sk-toggleable\"><input class=\"sk-toggleable__control sk-hidden--visually\" id=\"sk-estimator-id-22\" type=\"checkbox\" ><label for=\"sk-estimator-id-22\" class=\"sk-toggleable__label sk-toggleable__label-arrow\">GridSearchCV</label><div class=\"sk-toggleable__content\"><pre>GridSearchCV(cv=5, estimator=GradientBoostingClassifier(random_state=42),\n",
       "             n_jobs=-1,\n",
       "             param_grid={&#x27;learning_rate&#x27;: [0.01, 0.1, 0.5],\n",
       "                         &#x27;max_depth&#x27;: [3, 4, 5],\n",
       "                         &#x27;n_estimators&#x27;: [50, 100, 150]})</pre></div></div></div><div class=\"sk-parallel\"><div class=\"sk-parallel-item\"><div class=\"sk-item\"><div class=\"sk-label-container\"><div class=\"sk-label sk-toggleable\"><input class=\"sk-toggleable__control sk-hidden--visually\" id=\"sk-estimator-id-23\" type=\"checkbox\" ><label for=\"sk-estimator-id-23\" class=\"sk-toggleable__label sk-toggleable__label-arrow\">estimator: GradientBoostingClassifier</label><div class=\"sk-toggleable__content\"><pre>GradientBoostingClassifier(random_state=42)</pre></div></div></div><div class=\"sk-serial\"><div class=\"sk-item\"><div class=\"sk-estimator sk-toggleable\"><input class=\"sk-toggleable__control sk-hidden--visually\" id=\"sk-estimator-id-24\" type=\"checkbox\" ><label for=\"sk-estimator-id-24\" class=\"sk-toggleable__label sk-toggleable__label-arrow\">GradientBoostingClassifier</label><div class=\"sk-toggleable__content\"><pre>GradientBoostingClassifier(random_state=42)</pre></div></div></div></div></div></div></div></div></div></div>"
      ],
      "text/plain": [
       "GridSearchCV(cv=5, estimator=GradientBoostingClassifier(random_state=42),\n",
       "             n_jobs=-1,\n",
       "             param_grid={'learning_rate': [0.01, 0.1, 0.5],\n",
       "                         'max_depth': [3, 4, 5],\n",
       "                         'n_estimators': [50, 100, 150]})"
      ]
     },
     "execution_count": 358,
     "metadata": {},
     "output_type": "execute_result"
    }
   ],
   "source": [
    "# Fitting the Grid Search object to the data\n",
    "grid_search.fit(X_train, y_train)"
   ]
  },
  {
   "cell_type": "code",
   "execution_count": 359,
   "id": "0b4c9f55",
   "metadata": {},
   "outputs": [
    {
     "name": "stdout",
     "output_type": "stream",
     "text": [
      "Best parameters:  {'learning_rate': 0.01, 'max_depth': 4, 'n_estimators': 50}\n",
      "Accuracy: 48.93%\n"
     ]
    }
   ],
   "source": [
    "# Print the best hyperparameters and the corresponding accuracy score\n",
    "print(\"Best parameters: \", grid_search.best_params_)\n",
    "print(\"Accuracy: {:.2f}%\".format(grid_search.best_score_ * 100))"
   ]
  },
  {
   "cell_type": "code",
   "execution_count": null,
   "id": "c08a6a76",
   "metadata": {},
   "outputs": [],
   "source": []
  },
  {
   "cell_type": "code",
   "execution_count": null,
   "id": "63d66896",
   "metadata": {},
   "outputs": [],
   "source": []
  },
  {
   "cell_type": "markdown",
   "id": "bc2e2df6",
   "metadata": {},
   "source": [
    "# logistics regression"
   ]
  },
  {
   "cell_type": "code",
   "execution_count": 360,
   "id": "5e51f0ec",
   "metadata": {},
   "outputs": [],
   "source": [
    "from sklearn.linear_model import LogisticRegression"
   ]
  },
  {
   "cell_type": "code",
   "execution_count": 361,
   "id": "82da3ed1",
   "metadata": {},
   "outputs": [],
   "source": [
    "model = LogisticRegression()"
   ]
  },
  {
   "cell_type": "code",
   "execution_count": 362,
   "id": "74e1c9cc",
   "metadata": {},
   "outputs": [
    {
     "data": {
      "text/html": [
       "<style>#sk-container-id-19 {color: black;background-color: white;}#sk-container-id-19 pre{padding: 0;}#sk-container-id-19 div.sk-toggleable {background-color: white;}#sk-container-id-19 label.sk-toggleable__label {cursor: pointer;display: block;width: 100%;margin-bottom: 0;padding: 0.3em;box-sizing: border-box;text-align: center;}#sk-container-id-19 label.sk-toggleable__label-arrow:before {content: \"▸\";float: left;margin-right: 0.25em;color: #696969;}#sk-container-id-19 label.sk-toggleable__label-arrow:hover:before {color: black;}#sk-container-id-19 div.sk-estimator:hover label.sk-toggleable__label-arrow:before {color: black;}#sk-container-id-19 div.sk-toggleable__content {max-height: 0;max-width: 0;overflow: hidden;text-align: left;background-color: #f0f8ff;}#sk-container-id-19 div.sk-toggleable__content pre {margin: 0.2em;color: black;border-radius: 0.25em;background-color: #f0f8ff;}#sk-container-id-19 input.sk-toggleable__control:checked~div.sk-toggleable__content {max-height: 200px;max-width: 100%;overflow: auto;}#sk-container-id-19 input.sk-toggleable__control:checked~label.sk-toggleable__label-arrow:before {content: \"▾\";}#sk-container-id-19 div.sk-estimator input.sk-toggleable__control:checked~label.sk-toggleable__label {background-color: #d4ebff;}#sk-container-id-19 div.sk-label input.sk-toggleable__control:checked~label.sk-toggleable__label {background-color: #d4ebff;}#sk-container-id-19 input.sk-hidden--visually {border: 0;clip: rect(1px 1px 1px 1px);clip: rect(1px, 1px, 1px, 1px);height: 1px;margin: -1px;overflow: hidden;padding: 0;position: absolute;width: 1px;}#sk-container-id-19 div.sk-estimator {font-family: monospace;background-color: #f0f8ff;border: 1px dotted black;border-radius: 0.25em;box-sizing: border-box;margin-bottom: 0.5em;}#sk-container-id-19 div.sk-estimator:hover {background-color: #d4ebff;}#sk-container-id-19 div.sk-parallel-item::after {content: \"\";width: 100%;border-bottom: 1px solid gray;flex-grow: 1;}#sk-container-id-19 div.sk-label:hover label.sk-toggleable__label {background-color: #d4ebff;}#sk-container-id-19 div.sk-serial::before {content: \"\";position: absolute;border-left: 1px solid gray;box-sizing: border-box;top: 0;bottom: 0;left: 50%;z-index: 0;}#sk-container-id-19 div.sk-serial {display: flex;flex-direction: column;align-items: center;background-color: white;padding-right: 0.2em;padding-left: 0.2em;position: relative;}#sk-container-id-19 div.sk-item {position: relative;z-index: 1;}#sk-container-id-19 div.sk-parallel {display: flex;align-items: stretch;justify-content: center;background-color: white;position: relative;}#sk-container-id-19 div.sk-item::before, #sk-container-id-19 div.sk-parallel-item::before {content: \"\";position: absolute;border-left: 1px solid gray;box-sizing: border-box;top: 0;bottom: 0;left: 50%;z-index: -1;}#sk-container-id-19 div.sk-parallel-item {display: flex;flex-direction: column;z-index: 1;position: relative;background-color: white;}#sk-container-id-19 div.sk-parallel-item:first-child::after {align-self: flex-end;width: 50%;}#sk-container-id-19 div.sk-parallel-item:last-child::after {align-self: flex-start;width: 50%;}#sk-container-id-19 div.sk-parallel-item:only-child::after {width: 0;}#sk-container-id-19 div.sk-dashed-wrapped {border: 1px dashed gray;margin: 0 0.4em 0.5em 0.4em;box-sizing: border-box;padding-bottom: 0.4em;background-color: white;}#sk-container-id-19 div.sk-label label {font-family: monospace;font-weight: bold;display: inline-block;line-height: 1.2em;}#sk-container-id-19 div.sk-label-container {text-align: center;}#sk-container-id-19 div.sk-container {/* jupyter's `normalize.less` sets `[hidden] { display: none; }` but bootstrap.min.css set `[hidden] { display: none !important; }` so we also need the `!important` here to be able to override the default hidden behavior on the sphinx rendered scikit-learn.org. See: https://github.com/scikit-learn/scikit-learn/issues/21755 */display: inline-block !important;position: relative;}#sk-container-id-19 div.sk-text-repr-fallback {display: none;}</style><div id=\"sk-container-id-19\" class=\"sk-top-container\"><div class=\"sk-text-repr-fallback\"><pre>LogisticRegression()</pre><b>In a Jupyter environment, please rerun this cell to show the HTML representation or trust the notebook. <br />On GitHub, the HTML representation is unable to render, please try loading this page with nbviewer.org.</b></div><div class=\"sk-container\" hidden><div class=\"sk-item\"><div class=\"sk-estimator sk-toggleable\"><input class=\"sk-toggleable__control sk-hidden--visually\" id=\"sk-estimator-id-25\" type=\"checkbox\" checked><label for=\"sk-estimator-id-25\" class=\"sk-toggleable__label sk-toggleable__label-arrow\">LogisticRegression</label><div class=\"sk-toggleable__content\"><pre>LogisticRegression()</pre></div></div></div></div></div>"
      ],
      "text/plain": [
       "LogisticRegression()"
      ]
     },
     "execution_count": 362,
     "metadata": {},
     "output_type": "execute_result"
    }
   ],
   "source": [
    "# Fit the model on the training data\n",
    "model.fit(X_train, y_train)"
   ]
  },
  {
   "cell_type": "code",
   "execution_count": 363,
   "id": "370e9186",
   "metadata": {},
   "outputs": [],
   "source": [
    "# Make predictions on the test data\n",
    "y_pred = model.predict(X_test)"
   ]
  },
  {
   "cell_type": "code",
   "execution_count": 364,
   "id": "d03b70ea",
   "metadata": {},
   "outputs": [
    {
     "name": "stdout",
     "output_type": "stream",
     "text": [
      "Accuracy: 0.44385026737967914\n"
     ]
    }
   ],
   "source": [
    "# Evaluate the model's accuracy\n",
    "accuracy = accuracy_score(y_test, y_pred)\n",
    "print(\"Accuracy:\", accuracy)"
   ]
  },
  {
   "cell_type": "code",
   "execution_count": null,
   "id": "135a7087",
   "metadata": {},
   "outputs": [],
   "source": []
  },
  {
   "cell_type": "code",
   "execution_count": null,
   "id": "4a66ce65",
   "metadata": {},
   "outputs": [],
   "source": []
  },
  {
   "cell_type": "markdown",
   "id": "bd57982f",
   "metadata": {},
   "source": [
    "# SVM"
   ]
  },
  {
   "cell_type": "code",
   "execution_count": 373,
   "id": "54aa0642",
   "metadata": {},
   "outputs": [],
   "source": [
    "from sklearn.svm import SVC\n",
    "from sklearn.model_selection import train_test_split\n",
    "from sklearn.metrics import accuracy_score"
   ]
  },
  {
   "cell_type": "code",
   "execution_count": 374,
   "id": "84989ced",
   "metadata": {},
   "outputs": [],
   "source": [
    "# Create the SVM classifier model\n",
    "model1 = SVC(kernel='linear', C=1)"
   ]
  },
  {
   "cell_type": "code",
   "execution_count": 375,
   "id": "6347e66f",
   "metadata": {},
   "outputs": [
    {
     "data": {
      "text/html": [
       "<style>#sk-container-id-22 {color: black;background-color: white;}#sk-container-id-22 pre{padding: 0;}#sk-container-id-22 div.sk-toggleable {background-color: white;}#sk-container-id-22 label.sk-toggleable__label {cursor: pointer;display: block;width: 100%;margin-bottom: 0;padding: 0.3em;box-sizing: border-box;text-align: center;}#sk-container-id-22 label.sk-toggleable__label-arrow:before {content: \"▸\";float: left;margin-right: 0.25em;color: #696969;}#sk-container-id-22 label.sk-toggleable__label-arrow:hover:before {color: black;}#sk-container-id-22 div.sk-estimator:hover label.sk-toggleable__label-arrow:before {color: black;}#sk-container-id-22 div.sk-toggleable__content {max-height: 0;max-width: 0;overflow: hidden;text-align: left;background-color: #f0f8ff;}#sk-container-id-22 div.sk-toggleable__content pre {margin: 0.2em;color: black;border-radius: 0.25em;background-color: #f0f8ff;}#sk-container-id-22 input.sk-toggleable__control:checked~div.sk-toggleable__content {max-height: 200px;max-width: 100%;overflow: auto;}#sk-container-id-22 input.sk-toggleable__control:checked~label.sk-toggleable__label-arrow:before {content: \"▾\";}#sk-container-id-22 div.sk-estimator input.sk-toggleable__control:checked~label.sk-toggleable__label {background-color: #d4ebff;}#sk-container-id-22 div.sk-label input.sk-toggleable__control:checked~label.sk-toggleable__label {background-color: #d4ebff;}#sk-container-id-22 input.sk-hidden--visually {border: 0;clip: rect(1px 1px 1px 1px);clip: rect(1px, 1px, 1px, 1px);height: 1px;margin: -1px;overflow: hidden;padding: 0;position: absolute;width: 1px;}#sk-container-id-22 div.sk-estimator {font-family: monospace;background-color: #f0f8ff;border: 1px dotted black;border-radius: 0.25em;box-sizing: border-box;margin-bottom: 0.5em;}#sk-container-id-22 div.sk-estimator:hover {background-color: #d4ebff;}#sk-container-id-22 div.sk-parallel-item::after {content: \"\";width: 100%;border-bottom: 1px solid gray;flex-grow: 1;}#sk-container-id-22 div.sk-label:hover label.sk-toggleable__label {background-color: #d4ebff;}#sk-container-id-22 div.sk-serial::before {content: \"\";position: absolute;border-left: 1px solid gray;box-sizing: border-box;top: 0;bottom: 0;left: 50%;z-index: 0;}#sk-container-id-22 div.sk-serial {display: flex;flex-direction: column;align-items: center;background-color: white;padding-right: 0.2em;padding-left: 0.2em;position: relative;}#sk-container-id-22 div.sk-item {position: relative;z-index: 1;}#sk-container-id-22 div.sk-parallel {display: flex;align-items: stretch;justify-content: center;background-color: white;position: relative;}#sk-container-id-22 div.sk-item::before, #sk-container-id-22 div.sk-parallel-item::before {content: \"\";position: absolute;border-left: 1px solid gray;box-sizing: border-box;top: 0;bottom: 0;left: 50%;z-index: -1;}#sk-container-id-22 div.sk-parallel-item {display: flex;flex-direction: column;z-index: 1;position: relative;background-color: white;}#sk-container-id-22 div.sk-parallel-item:first-child::after {align-self: flex-end;width: 50%;}#sk-container-id-22 div.sk-parallel-item:last-child::after {align-self: flex-start;width: 50%;}#sk-container-id-22 div.sk-parallel-item:only-child::after {width: 0;}#sk-container-id-22 div.sk-dashed-wrapped {border: 1px dashed gray;margin: 0 0.4em 0.5em 0.4em;box-sizing: border-box;padding-bottom: 0.4em;background-color: white;}#sk-container-id-22 div.sk-label label {font-family: monospace;font-weight: bold;display: inline-block;line-height: 1.2em;}#sk-container-id-22 div.sk-label-container {text-align: center;}#sk-container-id-22 div.sk-container {/* jupyter's `normalize.less` sets `[hidden] { display: none; }` but bootstrap.min.css set `[hidden] { display: none !important; }` so we also need the `!important` here to be able to override the default hidden behavior on the sphinx rendered scikit-learn.org. See: https://github.com/scikit-learn/scikit-learn/issues/21755 */display: inline-block !important;position: relative;}#sk-container-id-22 div.sk-text-repr-fallback {display: none;}</style><div id=\"sk-container-id-22\" class=\"sk-top-container\"><div class=\"sk-text-repr-fallback\"><pre>SVC(C=1, kernel=&#x27;linear&#x27;)</pre><b>In a Jupyter environment, please rerun this cell to show the HTML representation or trust the notebook. <br />On GitHub, the HTML representation is unable to render, please try loading this page with nbviewer.org.</b></div><div class=\"sk-container\" hidden><div class=\"sk-item\"><div class=\"sk-estimator sk-toggleable\"><input class=\"sk-toggleable__control sk-hidden--visually\" id=\"sk-estimator-id-28\" type=\"checkbox\" checked><label for=\"sk-estimator-id-28\" class=\"sk-toggleable__label sk-toggleable__label-arrow\">SVC</label><div class=\"sk-toggleable__content\"><pre>SVC(C=1, kernel=&#x27;linear&#x27;)</pre></div></div></div></div></div>"
      ],
      "text/plain": [
       "SVC(C=1, kernel='linear')"
      ]
     },
     "execution_count": 375,
     "metadata": {},
     "output_type": "execute_result"
    }
   ],
   "source": [
    "# Fit the model on the training data\n",
    "model1.fit(X_train, y_train)"
   ]
  },
  {
   "cell_type": "code",
   "execution_count": 379,
   "id": "282fafa2",
   "metadata": {},
   "outputs": [],
   "source": [
    "# Make predictions on the test data\n",
    "y_pred = model1.predict(X_test)"
   ]
  },
  {
   "cell_type": "code",
   "execution_count": 380,
   "id": "761389be",
   "metadata": {},
   "outputs": [],
   "source": [
    "# Evaluate the model's performance\n",
    "accuracy = accuracy_score(y_test, y_pred)"
   ]
  },
  {
   "cell_type": "code",
   "execution_count": 381,
   "id": "11da0b96",
   "metadata": {},
   "outputs": [
    {
     "data": {
      "text/plain": [
       "0.45989304812834225"
      ]
     },
     "execution_count": 381,
     "metadata": {},
     "output_type": "execute_result"
    }
   ],
   "source": [
    "accuracy"
   ]
  },
  {
   "cell_type": "code",
   "execution_count": null,
   "id": "0a286038",
   "metadata": {},
   "outputs": [],
   "source": []
  },
  {
   "cell_type": "code",
   "execution_count": null,
   "id": "40fae15e",
   "metadata": {},
   "outputs": [],
   "source": []
  },
  {
   "cell_type": "code",
   "execution_count": null,
   "id": "aabd39b8",
   "metadata": {},
   "outputs": [],
   "source": [
    "#Hyper parameter tunning"
   ]
  },
  {
   "cell_type": "code",
   "execution_count": 388,
   "id": "de937f8b",
   "metadata": {},
   "outputs": [],
   "source": [
    "from sklearn import svm"
   ]
  },
  {
   "cell_type": "code",
   "execution_count": 392,
   "id": "c90da4ca",
   "metadata": {},
   "outputs": [],
   "source": [
    "# create a dictionary of hyperparameters to tune\n",
    "param_grid = {'C': [0.1, 1, 10], 'kernel': ['linear', 'rbf'], 'gamma': [0.1, 1]}"
   ]
  },
  {
   "cell_type": "code",
   "execution_count": 393,
   "id": "fe0ae1b2",
   "metadata": {},
   "outputs": [
    {
     "data": {
      "text/html": [
       "<style>#sk-container-id-23 {color: black;background-color: white;}#sk-container-id-23 pre{padding: 0;}#sk-container-id-23 div.sk-toggleable {background-color: white;}#sk-container-id-23 label.sk-toggleable__label {cursor: pointer;display: block;width: 100%;margin-bottom: 0;padding: 0.3em;box-sizing: border-box;text-align: center;}#sk-container-id-23 label.sk-toggleable__label-arrow:before {content: \"▸\";float: left;margin-right: 0.25em;color: #696969;}#sk-container-id-23 label.sk-toggleable__label-arrow:hover:before {color: black;}#sk-container-id-23 div.sk-estimator:hover label.sk-toggleable__label-arrow:before {color: black;}#sk-container-id-23 div.sk-toggleable__content {max-height: 0;max-width: 0;overflow: hidden;text-align: left;background-color: #f0f8ff;}#sk-container-id-23 div.sk-toggleable__content pre {margin: 0.2em;color: black;border-radius: 0.25em;background-color: #f0f8ff;}#sk-container-id-23 input.sk-toggleable__control:checked~div.sk-toggleable__content {max-height: 200px;max-width: 100%;overflow: auto;}#sk-container-id-23 input.sk-toggleable__control:checked~label.sk-toggleable__label-arrow:before {content: \"▾\";}#sk-container-id-23 div.sk-estimator input.sk-toggleable__control:checked~label.sk-toggleable__label {background-color: #d4ebff;}#sk-container-id-23 div.sk-label input.sk-toggleable__control:checked~label.sk-toggleable__label {background-color: #d4ebff;}#sk-container-id-23 input.sk-hidden--visually {border: 0;clip: rect(1px 1px 1px 1px);clip: rect(1px, 1px, 1px, 1px);height: 1px;margin: -1px;overflow: hidden;padding: 0;position: absolute;width: 1px;}#sk-container-id-23 div.sk-estimator {font-family: monospace;background-color: #f0f8ff;border: 1px dotted black;border-radius: 0.25em;box-sizing: border-box;margin-bottom: 0.5em;}#sk-container-id-23 div.sk-estimator:hover {background-color: #d4ebff;}#sk-container-id-23 div.sk-parallel-item::after {content: \"\";width: 100%;border-bottom: 1px solid gray;flex-grow: 1;}#sk-container-id-23 div.sk-label:hover label.sk-toggleable__label {background-color: #d4ebff;}#sk-container-id-23 div.sk-serial::before {content: \"\";position: absolute;border-left: 1px solid gray;box-sizing: border-box;top: 0;bottom: 0;left: 50%;z-index: 0;}#sk-container-id-23 div.sk-serial {display: flex;flex-direction: column;align-items: center;background-color: white;padding-right: 0.2em;padding-left: 0.2em;position: relative;}#sk-container-id-23 div.sk-item {position: relative;z-index: 1;}#sk-container-id-23 div.sk-parallel {display: flex;align-items: stretch;justify-content: center;background-color: white;position: relative;}#sk-container-id-23 div.sk-item::before, #sk-container-id-23 div.sk-parallel-item::before {content: \"\";position: absolute;border-left: 1px solid gray;box-sizing: border-box;top: 0;bottom: 0;left: 50%;z-index: -1;}#sk-container-id-23 div.sk-parallel-item {display: flex;flex-direction: column;z-index: 1;position: relative;background-color: white;}#sk-container-id-23 div.sk-parallel-item:first-child::after {align-self: flex-end;width: 50%;}#sk-container-id-23 div.sk-parallel-item:last-child::after {align-self: flex-start;width: 50%;}#sk-container-id-23 div.sk-parallel-item:only-child::after {width: 0;}#sk-container-id-23 div.sk-dashed-wrapped {border: 1px dashed gray;margin: 0 0.4em 0.5em 0.4em;box-sizing: border-box;padding-bottom: 0.4em;background-color: white;}#sk-container-id-23 div.sk-label label {font-family: monospace;font-weight: bold;display: inline-block;line-height: 1.2em;}#sk-container-id-23 div.sk-label-container {text-align: center;}#sk-container-id-23 div.sk-container {/* jupyter's `normalize.less` sets `[hidden] { display: none; }` but bootstrap.min.css set `[hidden] { display: none !important; }` so we also need the `!important` here to be able to override the default hidden behavior on the sphinx rendered scikit-learn.org. See: https://github.com/scikit-learn/scikit-learn/issues/21755 */display: inline-block !important;position: relative;}#sk-container-id-23 div.sk-text-repr-fallback {display: none;}</style><div id=\"sk-container-id-23\" class=\"sk-top-container\"><div class=\"sk-text-repr-fallback\"><pre>GridSearchCV(cv=5, estimator=SVC(),\n",
       "             param_grid={&#x27;C&#x27;: [0.1, 1, 10], &#x27;gamma&#x27;: [0.1, 1],\n",
       "                         &#x27;kernel&#x27;: [&#x27;linear&#x27;, &#x27;rbf&#x27;]})</pre><b>In a Jupyter environment, please rerun this cell to show the HTML representation or trust the notebook. <br />On GitHub, the HTML representation is unable to render, please try loading this page with nbviewer.org.</b></div><div class=\"sk-container\" hidden><div class=\"sk-item sk-dashed-wrapped\"><div class=\"sk-label-container\"><div class=\"sk-label sk-toggleable\"><input class=\"sk-toggleable__control sk-hidden--visually\" id=\"sk-estimator-id-29\" type=\"checkbox\" ><label for=\"sk-estimator-id-29\" class=\"sk-toggleable__label sk-toggleable__label-arrow\">GridSearchCV</label><div class=\"sk-toggleable__content\"><pre>GridSearchCV(cv=5, estimator=SVC(),\n",
       "             param_grid={&#x27;C&#x27;: [0.1, 1, 10], &#x27;gamma&#x27;: [0.1, 1],\n",
       "                         &#x27;kernel&#x27;: [&#x27;linear&#x27;, &#x27;rbf&#x27;]})</pre></div></div></div><div class=\"sk-parallel\"><div class=\"sk-parallel-item\"><div class=\"sk-item\"><div class=\"sk-label-container\"><div class=\"sk-label sk-toggleable\"><input class=\"sk-toggleable__control sk-hidden--visually\" id=\"sk-estimator-id-30\" type=\"checkbox\" ><label for=\"sk-estimator-id-30\" class=\"sk-toggleable__label sk-toggleable__label-arrow\">estimator: SVC</label><div class=\"sk-toggleable__content\"><pre>SVC()</pre></div></div></div><div class=\"sk-serial\"><div class=\"sk-item\"><div class=\"sk-estimator sk-toggleable\"><input class=\"sk-toggleable__control sk-hidden--visually\" id=\"sk-estimator-id-31\" type=\"checkbox\" ><label for=\"sk-estimator-id-31\" class=\"sk-toggleable__label sk-toggleable__label-arrow\">SVC</label><div class=\"sk-toggleable__content\"><pre>SVC()</pre></div></div></div></div></div></div></div></div></div></div>"
      ],
      "text/plain": [
       "GridSearchCV(cv=5, estimator=SVC(),\n",
       "             param_grid={'C': [0.1, 1, 10], 'gamma': [0.1, 1],\n",
       "                         'kernel': ['linear', 'rbf']})"
      ]
     },
     "execution_count": 393,
     "metadata": {},
     "output_type": "execute_result"
    }
   ],
   "source": [
    "# create a GridSearchCV object and fit to training set\n",
    "clf = svm.SVC()\n",
    "grid_search = GridSearchCV(clf, param_grid, cv=5)\n",
    "grid_search.fit(X_train, y_train)\n"
   ]
  },
  {
   "cell_type": "code",
   "execution_count": null,
   "id": "dd66d36c",
   "metadata": {},
   "outputs": [],
   "source": []
  },
  {
   "cell_type": "code",
   "execution_count": 394,
   "id": "e06285e9",
   "metadata": {},
   "outputs": [
    {
     "name": "stdout",
     "output_type": "stream",
     "text": [
      "Best hyperparameters: {'C': 0.1, 'gamma': 0.1, 'kernel': 'linear'}\n"
     ]
    }
   ],
   "source": [
    "# print the best hyperparameters\n",
    "print(\"Best hyperparameters:\", grid_search.best_params_)"
   ]
  },
  {
   "cell_type": "code",
   "execution_count": 395,
   "id": "dcd37a17",
   "metadata": {},
   "outputs": [],
   "source": [
    "# use the best hyperparameters to make predictions on the testing set\n",
    "y_pred = grid_search.predict(X_test)"
   ]
  },
  {
   "cell_type": "code",
   "execution_count": 396,
   "id": "a4d5596e",
   "metadata": {},
   "outputs": [
    {
     "name": "stdout",
     "output_type": "stream",
     "text": [
      "Accuracy: 0.45989304812834225\n"
     ]
    }
   ],
   "source": [
    "# evaluate the performance of the SVM classifier\n",
    "accuracy = accuracy_score(y_test, y_pred)\n",
    "print(\"Accuracy:\", accuracy)"
   ]
  },
  {
   "cell_type": "code",
   "execution_count": null,
   "id": "818d88c8",
   "metadata": {},
   "outputs": [],
   "source": []
  },
  {
   "cell_type": "code",
   "execution_count": null,
   "id": "ce64db9f",
   "metadata": {},
   "outputs": [],
   "source": []
  },
  {
   "cell_type": "code",
   "execution_count": 398,
   "id": "672d33b4",
   "metadata": {},
   "outputs": [],
   "source": [
    "# create a dictionary of hyperparameters to tune\n",
    "param_grid = {'C': [0.1, 1, 10], 'kernel': ['sigmoid'], 'gamma': [0.1, 1]}"
   ]
  },
  {
   "cell_type": "code",
   "execution_count": 399,
   "id": "329756f6",
   "metadata": {},
   "outputs": [
    {
     "data": {
      "text/html": [
       "<style>#sk-container-id-24 {color: black;background-color: white;}#sk-container-id-24 pre{padding: 0;}#sk-container-id-24 div.sk-toggleable {background-color: white;}#sk-container-id-24 label.sk-toggleable__label {cursor: pointer;display: block;width: 100%;margin-bottom: 0;padding: 0.3em;box-sizing: border-box;text-align: center;}#sk-container-id-24 label.sk-toggleable__label-arrow:before {content: \"▸\";float: left;margin-right: 0.25em;color: #696969;}#sk-container-id-24 label.sk-toggleable__label-arrow:hover:before {color: black;}#sk-container-id-24 div.sk-estimator:hover label.sk-toggleable__label-arrow:before {color: black;}#sk-container-id-24 div.sk-toggleable__content {max-height: 0;max-width: 0;overflow: hidden;text-align: left;background-color: #f0f8ff;}#sk-container-id-24 div.sk-toggleable__content pre {margin: 0.2em;color: black;border-radius: 0.25em;background-color: #f0f8ff;}#sk-container-id-24 input.sk-toggleable__control:checked~div.sk-toggleable__content {max-height: 200px;max-width: 100%;overflow: auto;}#sk-container-id-24 input.sk-toggleable__control:checked~label.sk-toggleable__label-arrow:before {content: \"▾\";}#sk-container-id-24 div.sk-estimator input.sk-toggleable__control:checked~label.sk-toggleable__label {background-color: #d4ebff;}#sk-container-id-24 div.sk-label input.sk-toggleable__control:checked~label.sk-toggleable__label {background-color: #d4ebff;}#sk-container-id-24 input.sk-hidden--visually {border: 0;clip: rect(1px 1px 1px 1px);clip: rect(1px, 1px, 1px, 1px);height: 1px;margin: -1px;overflow: hidden;padding: 0;position: absolute;width: 1px;}#sk-container-id-24 div.sk-estimator {font-family: monospace;background-color: #f0f8ff;border: 1px dotted black;border-radius: 0.25em;box-sizing: border-box;margin-bottom: 0.5em;}#sk-container-id-24 div.sk-estimator:hover {background-color: #d4ebff;}#sk-container-id-24 div.sk-parallel-item::after {content: \"\";width: 100%;border-bottom: 1px solid gray;flex-grow: 1;}#sk-container-id-24 div.sk-label:hover label.sk-toggleable__label {background-color: #d4ebff;}#sk-container-id-24 div.sk-serial::before {content: \"\";position: absolute;border-left: 1px solid gray;box-sizing: border-box;top: 0;bottom: 0;left: 50%;z-index: 0;}#sk-container-id-24 div.sk-serial {display: flex;flex-direction: column;align-items: center;background-color: white;padding-right: 0.2em;padding-left: 0.2em;position: relative;}#sk-container-id-24 div.sk-item {position: relative;z-index: 1;}#sk-container-id-24 div.sk-parallel {display: flex;align-items: stretch;justify-content: center;background-color: white;position: relative;}#sk-container-id-24 div.sk-item::before, #sk-container-id-24 div.sk-parallel-item::before {content: \"\";position: absolute;border-left: 1px solid gray;box-sizing: border-box;top: 0;bottom: 0;left: 50%;z-index: -1;}#sk-container-id-24 div.sk-parallel-item {display: flex;flex-direction: column;z-index: 1;position: relative;background-color: white;}#sk-container-id-24 div.sk-parallel-item:first-child::after {align-self: flex-end;width: 50%;}#sk-container-id-24 div.sk-parallel-item:last-child::after {align-self: flex-start;width: 50%;}#sk-container-id-24 div.sk-parallel-item:only-child::after {width: 0;}#sk-container-id-24 div.sk-dashed-wrapped {border: 1px dashed gray;margin: 0 0.4em 0.5em 0.4em;box-sizing: border-box;padding-bottom: 0.4em;background-color: white;}#sk-container-id-24 div.sk-label label {font-family: monospace;font-weight: bold;display: inline-block;line-height: 1.2em;}#sk-container-id-24 div.sk-label-container {text-align: center;}#sk-container-id-24 div.sk-container {/* jupyter's `normalize.less` sets `[hidden] { display: none; }` but bootstrap.min.css set `[hidden] { display: none !important; }` so we also need the `!important` here to be able to override the default hidden behavior on the sphinx rendered scikit-learn.org. See: https://github.com/scikit-learn/scikit-learn/issues/21755 */display: inline-block !important;position: relative;}#sk-container-id-24 div.sk-text-repr-fallback {display: none;}</style><div id=\"sk-container-id-24\" class=\"sk-top-container\"><div class=\"sk-text-repr-fallback\"><pre>GridSearchCV(cv=5, estimator=SVC(),\n",
       "             param_grid={&#x27;C&#x27;: [0.1, 1, 10], &#x27;gamma&#x27;: [0.1, 1],\n",
       "                         &#x27;kernel&#x27;: [&#x27;sigmoid&#x27;]})</pre><b>In a Jupyter environment, please rerun this cell to show the HTML representation or trust the notebook. <br />On GitHub, the HTML representation is unable to render, please try loading this page with nbviewer.org.</b></div><div class=\"sk-container\" hidden><div class=\"sk-item sk-dashed-wrapped\"><div class=\"sk-label-container\"><div class=\"sk-label sk-toggleable\"><input class=\"sk-toggleable__control sk-hidden--visually\" id=\"sk-estimator-id-32\" type=\"checkbox\" ><label for=\"sk-estimator-id-32\" class=\"sk-toggleable__label sk-toggleable__label-arrow\">GridSearchCV</label><div class=\"sk-toggleable__content\"><pre>GridSearchCV(cv=5, estimator=SVC(),\n",
       "             param_grid={&#x27;C&#x27;: [0.1, 1, 10], &#x27;gamma&#x27;: [0.1, 1],\n",
       "                         &#x27;kernel&#x27;: [&#x27;sigmoid&#x27;]})</pre></div></div></div><div class=\"sk-parallel\"><div class=\"sk-parallel-item\"><div class=\"sk-item\"><div class=\"sk-label-container\"><div class=\"sk-label sk-toggleable\"><input class=\"sk-toggleable__control sk-hidden--visually\" id=\"sk-estimator-id-33\" type=\"checkbox\" ><label for=\"sk-estimator-id-33\" class=\"sk-toggleable__label sk-toggleable__label-arrow\">estimator: SVC</label><div class=\"sk-toggleable__content\"><pre>SVC()</pre></div></div></div><div class=\"sk-serial\"><div class=\"sk-item\"><div class=\"sk-estimator sk-toggleable\"><input class=\"sk-toggleable__control sk-hidden--visually\" id=\"sk-estimator-id-34\" type=\"checkbox\" ><label for=\"sk-estimator-id-34\" class=\"sk-toggleable__label sk-toggleable__label-arrow\">SVC</label><div class=\"sk-toggleable__content\"><pre>SVC()</pre></div></div></div></div></div></div></div></div></div></div>"
      ],
      "text/plain": [
       "GridSearchCV(cv=5, estimator=SVC(),\n",
       "             param_grid={'C': [0.1, 1, 10], 'gamma': [0.1, 1],\n",
       "                         'kernel': ['sigmoid']})"
      ]
     },
     "execution_count": 399,
     "metadata": {},
     "output_type": "execute_result"
    }
   ],
   "source": [
    "# create a GridSearchCV object and fit to training set\n",
    "clf = svm.SVC()\n",
    "grid_search = GridSearchCV(clf, param_grid, cv=5)\n",
    "grid_search.fit(X_train, y_train)"
   ]
  },
  {
   "cell_type": "code",
   "execution_count": 400,
   "id": "e630fa05",
   "metadata": {},
   "outputs": [
    {
     "name": "stdout",
     "output_type": "stream",
     "text": [
      "Best hyperparameters: {'C': 0.1, 'gamma': 0.1, 'kernel': 'sigmoid'}\n"
     ]
    }
   ],
   "source": [
    "# print the best hyperparameters\n",
    "print(\"Best hyperparameters:\", grid_search.best_params_)"
   ]
  },
  {
   "cell_type": "code",
   "execution_count": 402,
   "id": "d83920cd",
   "metadata": {},
   "outputs": [],
   "source": [
    "# use the best hyperparameters to make predictions on the testing set\n",
    "y_pred = grid_search.predict(X_test)"
   ]
  },
  {
   "cell_type": "code",
   "execution_count": 403,
   "id": "9b6fd195",
   "metadata": {},
   "outputs": [
    {
     "name": "stdout",
     "output_type": "stream",
     "text": [
      "Accuracy: 0.45989304812834225\n"
     ]
    }
   ],
   "source": [
    "# evaluate the performance of the SVM classifier\n",
    "accuracy = accuracy_score(y_test, y_pred)\n",
    "print(\"Accuracy:\", accuracy)"
   ]
  },
  {
   "cell_type": "code",
   "execution_count": 404,
   "id": "5b2452e0",
   "metadata": {},
   "outputs": [],
   "source": [
    "#accuracy is still low we will try to get more dimentuion like goalkeeper rating and last 8 game rating of team"
   ]
  },
  {
   "cell_type": "code",
   "execution_count": null,
   "id": "807cc685",
   "metadata": {},
   "outputs": [],
   "source": []
  },
  {
   "cell_type": "code",
   "execution_count": null,
   "id": "ab70ecfb",
   "metadata": {},
   "outputs": [],
   "source": []
  },
  {
   "cell_type": "code",
   "execution_count": null,
   "id": "caba707d",
   "metadata": {},
   "outputs": [],
   "source": []
  },
  {
   "cell_type": "code",
   "execution_count": null,
   "id": "da3ec189",
   "metadata": {},
   "outputs": [],
   "source": []
  },
  {
   "cell_type": "code",
   "execution_count": null,
   "id": "788471cd",
   "metadata": {},
   "outputs": [],
   "source": []
  },
  {
   "cell_type": "code",
   "execution_count": null,
   "id": "81aaf62b",
   "metadata": {},
   "outputs": [],
   "source": []
  },
  {
   "cell_type": "code",
   "execution_count": null,
   "id": "d42796ed",
   "metadata": {},
   "outputs": [],
   "source": []
  },
  {
   "cell_type": "code",
   "execution_count": null,
   "id": "deb33034",
   "metadata": {},
   "outputs": [],
   "source": [
    "#Again we will add some feature column like goal save % for each team "
   ]
  },
  {
   "cell_type": "code",
   "execution_count": 3,
   "id": "12a977d5",
   "metadata": {},
   "outputs": [],
   "source": [
    "import numpy as np\n",
    "import pandas as pd\n",
    "import matplotlib.pyplot as plt\n",
    "from sklearn.decomposition import PCA\n",
    "from sklearn.model_selection import train_test_split"
   ]
  },
  {
   "cell_type": "code",
   "execution_count": 4,
   "id": "641eb86c",
   "metadata": {},
   "outputs": [],
   "source": [
    "import seaborn as sns"
   ]
  },
  {
   "cell_type": "code",
   "execution_count": 5,
   "id": "01bf85cd",
   "metadata": {},
   "outputs": [],
   "source": [
    "from sklearn import svm"
   ]
  },
  {
   "cell_type": "markdown",
   "id": "9ab7b24d",
   "metadata": {},
   "source": [
    "# data acquisition and preprocessing"
   ]
  },
  {
   "cell_type": "code",
   "execution_count": 475,
   "id": "7a28459a",
   "metadata": {},
   "outputs": [
    {
     "data": {
      "text/html": [
       "<div>\n",
       "<style scoped>\n",
       "    .dataframe tbody tr th:only-of-type {\n",
       "        vertical-align: middle;\n",
       "    }\n",
       "\n",
       "    .dataframe tbody tr th {\n",
       "        vertical-align: top;\n",
       "    }\n",
       "\n",
       "    .dataframe thead th {\n",
       "        text-align: right;\n",
       "    }\n",
       "</style>\n",
       "<table border=\"1\" class=\"dataframe\">\n",
       "  <thead>\n",
       "    <tr style=\"text-align: right;\">\n",
       "      <th></th>\n",
       "      <th>Home_team</th>\n",
       "      <th>team</th>\n",
       "      <th>HomeTeamGoal</th>\n",
       "      <th>AwayTeamGoal</th>\n",
       "      <th>Result</th>\n",
       "      <th>hometeam_pts</th>\n",
       "      <th>hometeam_ppg</th>\n",
       "      <th>Pts</th>\n",
       "      <th>PPG</th>\n",
       "    </tr>\n",
       "  </thead>\n",
       "  <tbody>\n",
       "    <tr>\n",
       "      <th>0</th>\n",
       "      <td>Philadelphia</td>\n",
       "      <td>Minnesota Utd</td>\n",
       "      <td>1</td>\n",
       "      <td>1</td>\n",
       "      <td>Tie</td>\n",
       "      <td>67</td>\n",
       "      <td>1.97</td>\n",
       "      <td>48</td>\n",
       "      <td>1.41</td>\n",
       "    </tr>\n",
       "    <tr>\n",
       "      <th>1</th>\n",
       "      <td>Columbus Crew</td>\n",
       "      <td>Vancouver</td>\n",
       "      <td>4</td>\n",
       "      <td>0</td>\n",
       "      <td>Win</td>\n",
       "      <td>46</td>\n",
       "      <td>1.35</td>\n",
       "      <td>43</td>\n",
       "      <td>1.26</td>\n",
       "    </tr>\n",
       "    <tr>\n",
       "      <th>2</th>\n",
       "      <td>Los Angeles FC</td>\n",
       "      <td>Colorado Rapids</td>\n",
       "      <td>3</td>\n",
       "      <td>0</td>\n",
       "      <td>Win</td>\n",
       "      <td>67</td>\n",
       "      <td>1.97</td>\n",
       "      <td>43</td>\n",
       "      <td>1.26</td>\n",
       "    </tr>\n",
       "    <tr>\n",
       "      <th>3</th>\n",
       "      <td>Dallas</td>\n",
       "      <td>Toronto</td>\n",
       "      <td>1</td>\n",
       "      <td>1</td>\n",
       "      <td>Tie</td>\n",
       "      <td>53</td>\n",
       "      <td>1.56</td>\n",
       "      <td>34</td>\n",
       "      <td>1.00</td>\n",
       "    </tr>\n",
       "    <tr>\n",
       "      <th>4</th>\n",
       "      <td>Austin</td>\n",
       "      <td>Cincinnati</td>\n",
       "      <td>5</td>\n",
       "      <td>0</td>\n",
       "      <td>Win</td>\n",
       "      <td>56</td>\n",
       "      <td>1.65</td>\n",
       "      <td>49</td>\n",
       "      <td>1.44</td>\n",
       "    </tr>\n",
       "  </tbody>\n",
       "</table>\n",
       "</div>"
      ],
      "text/plain": [
       "        Home_team             team HomeTeamGoal AwayTeamGoal Result  \\\n",
       "0    Philadelphia    Minnesota Utd            1            1    Tie   \n",
       "1   Columbus Crew        Vancouver            4            0    Win   \n",
       "2  Los Angeles FC  Colorado Rapids            3            0    Win   \n",
       "3          Dallas          Toronto            1            1    Tie   \n",
       "4          Austin       Cincinnati            5            0    Win   \n",
       "\n",
       "   hometeam_pts  hometeam_ppg  Pts   PPG  \n",
       "0            67          1.97   48  1.41  \n",
       "1            46          1.35   43  1.26  \n",
       "2            67          1.97   43  1.26  \n",
       "3            53          1.56   34  1.00  \n",
       "4            56          1.65   49  1.44  "
      ]
     },
     "execution_count": 475,
     "metadata": {},
     "output_type": "execute_result"
    }
   ],
   "source": [
    "final_data.head()"
   ]
  },
  {
   "cell_type": "code",
   "execution_count": 410,
   "id": "74414f59",
   "metadata": {},
   "outputs": [],
   "source": [
    "final_d = final_data.rename(columns={'Pts': 'awayteam_pts','PPG': 'awayteam_ppg'})"
   ]
  },
  {
   "cell_type": "code",
   "execution_count": 411,
   "id": "1b300a7e",
   "metadata": {},
   "outputs": [
    {
     "data": {
      "text/html": [
       "<div>\n",
       "<style scoped>\n",
       "    .dataframe tbody tr th:only-of-type {\n",
       "        vertical-align: middle;\n",
       "    }\n",
       "\n",
       "    .dataframe tbody tr th {\n",
       "        vertical-align: top;\n",
       "    }\n",
       "\n",
       "    .dataframe thead th {\n",
       "        text-align: right;\n",
       "    }\n",
       "</style>\n",
       "<table border=\"1\" class=\"dataframe\">\n",
       "  <thead>\n",
       "    <tr style=\"text-align: right;\">\n",
       "      <th></th>\n",
       "      <th>Home_team</th>\n",
       "      <th>team</th>\n",
       "      <th>HomeTeamGoal</th>\n",
       "      <th>AwayTeamGoal</th>\n",
       "      <th>Result</th>\n",
       "      <th>hometeam_pts</th>\n",
       "      <th>hometeam_ppg</th>\n",
       "      <th>awayteam_pts</th>\n",
       "      <th>awayteam_ppg</th>\n",
       "    </tr>\n",
       "  </thead>\n",
       "  <tbody>\n",
       "    <tr>\n",
       "      <th>0</th>\n",
       "      <td>Philadelphia</td>\n",
       "      <td>Minnesota Utd</td>\n",
       "      <td>1</td>\n",
       "      <td>1</td>\n",
       "      <td>Tie</td>\n",
       "      <td>67</td>\n",
       "      <td>1.97</td>\n",
       "      <td>48</td>\n",
       "      <td>1.41</td>\n",
       "    </tr>\n",
       "    <tr>\n",
       "      <th>1</th>\n",
       "      <td>Columbus Crew</td>\n",
       "      <td>Vancouver</td>\n",
       "      <td>4</td>\n",
       "      <td>0</td>\n",
       "      <td>Win</td>\n",
       "      <td>46</td>\n",
       "      <td>1.35</td>\n",
       "      <td>43</td>\n",
       "      <td>1.26</td>\n",
       "    </tr>\n",
       "    <tr>\n",
       "      <th>2</th>\n",
       "      <td>Los Angeles FC</td>\n",
       "      <td>Colorado Rapids</td>\n",
       "      <td>3</td>\n",
       "      <td>0</td>\n",
       "      <td>Win</td>\n",
       "      <td>67</td>\n",
       "      <td>1.97</td>\n",
       "      <td>43</td>\n",
       "      <td>1.26</td>\n",
       "    </tr>\n",
       "    <tr>\n",
       "      <th>3</th>\n",
       "      <td>Dallas</td>\n",
       "      <td>Toronto</td>\n",
       "      <td>1</td>\n",
       "      <td>1</td>\n",
       "      <td>Tie</td>\n",
       "      <td>53</td>\n",
       "      <td>1.56</td>\n",
       "      <td>34</td>\n",
       "      <td>1.00</td>\n",
       "    </tr>\n",
       "    <tr>\n",
       "      <th>4</th>\n",
       "      <td>Austin</td>\n",
       "      <td>Cincinnati</td>\n",
       "      <td>5</td>\n",
       "      <td>0</td>\n",
       "      <td>Win</td>\n",
       "      <td>56</td>\n",
       "      <td>1.65</td>\n",
       "      <td>49</td>\n",
       "      <td>1.44</td>\n",
       "    </tr>\n",
       "  </tbody>\n",
       "</table>\n",
       "</div>"
      ],
      "text/plain": [
       "        Home_team             team HomeTeamGoal AwayTeamGoal Result  \\\n",
       "0    Philadelphia    Minnesota Utd            1            1    Tie   \n",
       "1   Columbus Crew        Vancouver            4            0    Win   \n",
       "2  Los Angeles FC  Colorado Rapids            3            0    Win   \n",
       "3          Dallas          Toronto            1            1    Tie   \n",
       "4          Austin       Cincinnati            5            0    Win   \n",
       "\n",
       "   hometeam_pts  hometeam_ppg  awayteam_pts  awayteam_ppg  \n",
       "0            67          1.97            48          1.41  \n",
       "1            46          1.35            43          1.26  \n",
       "2            67          1.97            43          1.26  \n",
       "3            53          1.56            34          1.00  \n",
       "4            56          1.65            49          1.44  "
      ]
     },
     "execution_count": 411,
     "metadata": {},
     "output_type": "execute_result"
    }
   ],
   "source": [
    "final_d.head()"
   ]
  },
  {
   "cell_type": "code",
   "execution_count": 472,
   "id": "fbe3dd95",
   "metadata": {},
   "outputs": [
    {
     "name": "stderr",
     "output_type": "stream",
     "text": [
      "C:\\Users\\rajiv\\AppData\\Local\\Temp\\ipykernel_17908\\2566112384.py:1: FutureWarning: The error_bad_lines argument has been deprecated and will be removed in a future version. Use on_bad_lines in the future.\n",
      "\n",
      "\n",
      "  goalkeeper=pd.read_csv(\"goalkeeper.csv\",encoding='latin-1', error_bad_lines=False)\n"
     ]
    }
   ],
   "source": [
    "goalkeeper=pd.read_csv(\"goalkeeper.csv\",encoding='latin-1', error_bad_lines=False)"
   ]
  },
  {
   "cell_type": "code",
   "execution_count": 476,
   "id": "0983c81e",
   "metadata": {},
   "outputs": [
    {
     "data": {
      "text/html": [
       "<div>\n",
       "<style scoped>\n",
       "    .dataframe tbody tr th:only-of-type {\n",
       "        vertical-align: middle;\n",
       "    }\n",
       "\n",
       "    .dataframe tbody tr th {\n",
       "        vertical-align: top;\n",
       "    }\n",
       "\n",
       "    .dataframe thead th {\n",
       "        text-align: right;\n",
       "    }\n",
       "</style>\n",
       "<table border=\"1\" class=\"dataframe\">\n",
       "  <thead>\n",
       "    <tr style=\"text-align: right;\">\n",
       "      <th></th>\n",
       "      <th>Squad</th>\n",
       "      <th>Performance Save%</th>\n",
       "      <th>Penalty Kicks Save%</th>\n",
       "    </tr>\n",
       "  </thead>\n",
       "  <tbody>\n",
       "    <tr>\n",
       "      <th>0</th>\n",
       "      <td>Atlanta Utd</td>\n",
       "      <td>61.6</td>\n",
       "      <td>0.0</td>\n",
       "    </tr>\n",
       "    <tr>\n",
       "      <th>1</th>\n",
       "      <td>Austin</td>\n",
       "      <td>72.7</td>\n",
       "      <td>28.6</td>\n",
       "    </tr>\n",
       "    <tr>\n",
       "      <th>2</th>\n",
       "      <td>CF Montral</td>\n",
       "      <td>64.2</td>\n",
       "      <td>0.0</td>\n",
       "    </tr>\n",
       "    <tr>\n",
       "      <th>3</th>\n",
       "      <td>Charlotte</td>\n",
       "      <td>69.2</td>\n",
       "      <td>0.0</td>\n",
       "    </tr>\n",
       "    <tr>\n",
       "      <th>4</th>\n",
       "      <td>Chicago Fire</td>\n",
       "      <td>67.7</td>\n",
       "      <td>0.0</td>\n",
       "    </tr>\n",
       "  </tbody>\n",
       "</table>\n",
       "</div>"
      ],
      "text/plain": [
       "          Squad  Performance Save%  Penalty Kicks Save%\n",
       "0   Atlanta Utd               61.6                  0.0\n",
       "1        Austin               72.7                 28.6\n",
       "2   CF Montral               64.2                  0.0\n",
       "3     Charlotte               69.2                  0.0\n",
       "4  Chicago Fire               67.7                  0.0"
      ]
     },
     "execution_count": 476,
     "metadata": {},
     "output_type": "execute_result"
    }
   ],
   "source": [
    "goalkeeper.head()"
   ]
  },
  {
   "cell_type": "code",
   "execution_count": 477,
   "id": "aea2ba0a",
   "metadata": {},
   "outputs": [
    {
     "data": {
      "text/plain": [
       "array(['Minnesota Utd', 'Vancouver', 'Colorado Rapids', 'Toronto',\n",
       "       'Cincinnati', 'Charlotte', 'Chicago Fire', 'New York RB',\n",
       "       'New England', 'CF Montreal', 'Sporting KC', 'New York City',\n",
       "       'Real Salt Lake', 'Nashville SC', 'Dallas', 'Houston Dynamo',\n",
       "       'Philadelphia', 'Columbus Crew', 'Orlando City', 'DC United',\n",
       "       'Atlanta Utd', 'Seattle', 'LA Galaxy', 'Inter Miami', 'Portland',\n",
       "       'Los Angeles FC', 'SJ Earthquakes', 'Austin'], dtype=object)"
      ]
     },
     "execution_count": 477,
     "metadata": {},
     "output_type": "execute_result"
    }
   ],
   "source": [
    "final_d['team'].unique()"
   ]
  },
  {
   "cell_type": "code",
   "execution_count": 478,
   "id": "b57cb003",
   "metadata": {},
   "outputs": [],
   "source": [
    "goalkeeper = goalkeeper.rename(columns={'Squad': 'team'})"
   ]
  },
  {
   "cell_type": "code",
   "execution_count": 479,
   "id": "b16659ad",
   "metadata": {},
   "outputs": [
    {
     "data": {
      "text/plain": [
       "array(['Atlanta Utd', 'Austin', 'CF Montr\\x8eal', 'Charlotte',\n",
       "       'Chicago Fire', 'Colorado Rapids', 'Columbus Crew', 'D.C. United',\n",
       "       'FC Cincinnati', 'FC Dallas', 'Houston Dynamo', 'Inter Miami',\n",
       "       'LA Galaxy', 'Los Angeles FC', 'Minnesota Utd', 'Nashville',\n",
       "       'New England', 'NY Red Bulls', 'NYCFC', 'Orlando City',\n",
       "       'Philadelphia', 'Portland Timbers', 'Real Salt Lake', 'San Jose',\n",
       "       'Seattle', 'Sporting KC', 'Toronto FC', 'Vancouver'], dtype=object)"
      ]
     },
     "execution_count": 479,
     "metadata": {},
     "output_type": "execute_result"
    }
   ],
   "source": [
    "goalkeeper['team'].unique()"
   ]
  },
  {
   "cell_type": "code",
   "execution_count": 480,
   "id": "6256d82f",
   "metadata": {},
   "outputs": [],
   "source": [
    "team_name_changes= {\n",
    "    'CF Montr\\x8eal': 'CF Montreal',\n",
    "    'NYCFC': 'New York City',\n",
    "    'Toronto FC':'Toronto',\n",
    "    'FC Cincinnati':'Cincinnati',\n",
    "    'NY Red Bulls':'New York RB',\n",
    "    'Nashville':'Nashville SC',\n",
    "    'FC Dallas':'Dallas',\n",
    "    'D.C. United':'DC United',\n",
    "    'Portland Timbers':'Portland',\n",
    "    'San Jose':'SJ Earthquakes'\n",
    "}"
   ]
  },
  {
   "cell_type": "code",
   "execution_count": 481,
   "id": "b660b14e",
   "metadata": {},
   "outputs": [],
   "source": [
    "# Replace the old team names with the new team names\n",
    "goalkeeper['team'] =goalkeeper['team'].replace(team_name_changes)"
   ]
  },
  {
   "cell_type": "code",
   "execution_count": 482,
   "id": "b8e9d1cd",
   "metadata": {},
   "outputs": [
    {
     "data": {
      "text/plain": [
       "array(['Atlanta Utd', 'Austin', 'CF Montreal', 'Charlotte',\n",
       "       'Chicago Fire', 'Colorado Rapids', 'Columbus Crew', 'DC United',\n",
       "       'Cincinnati', 'Dallas', 'Houston Dynamo', 'Inter Miami',\n",
       "       'LA Galaxy', 'Los Angeles FC', 'Minnesota Utd', 'Nashville SC',\n",
       "       'New England', 'New York RB', 'New York City', 'Orlando City',\n",
       "       'Philadelphia', 'Portland', 'Real Salt Lake', 'SJ Earthquakes',\n",
       "       'Seattle', 'Sporting KC', 'Toronto', 'Vancouver'], dtype=object)"
      ]
     },
     "execution_count": 482,
     "metadata": {},
     "output_type": "execute_result"
    }
   ],
   "source": [
    "goalkeeper['team'].unique()"
   ]
  },
  {
   "cell_type": "code",
   "execution_count": 483,
   "id": "538cf9d8",
   "metadata": {},
   "outputs": [],
   "source": [
    "final_d['index'] = range(len(final_d))"
   ]
  },
  {
   "cell_type": "code",
   "execution_count": 484,
   "id": "2fabd451",
   "metadata": {},
   "outputs": [
    {
     "data": {
      "text/html": [
       "<div>\n",
       "<style scoped>\n",
       "    .dataframe tbody tr th:only-of-type {\n",
       "        vertical-align: middle;\n",
       "    }\n",
       "\n",
       "    .dataframe tbody tr th {\n",
       "        vertical-align: top;\n",
       "    }\n",
       "\n",
       "    .dataframe thead th {\n",
       "        text-align: right;\n",
       "    }\n",
       "</style>\n",
       "<table border=\"1\" class=\"dataframe\">\n",
       "  <thead>\n",
       "    <tr style=\"text-align: right;\">\n",
       "      <th></th>\n",
       "      <th>Home_team</th>\n",
       "      <th>team</th>\n",
       "      <th>HomeTeamGoal</th>\n",
       "      <th>AwayTeamGoal</th>\n",
       "      <th>Result</th>\n",
       "      <th>hometeam_pts</th>\n",
       "      <th>hometeam_ppg</th>\n",
       "      <th>awayteam_pts</th>\n",
       "      <th>awayteam_ppg</th>\n",
       "      <th>index</th>\n",
       "    </tr>\n",
       "  </thead>\n",
       "  <tbody>\n",
       "    <tr>\n",
       "      <th>0</th>\n",
       "      <td>Philadelphia</td>\n",
       "      <td>Minnesota Utd</td>\n",
       "      <td>1</td>\n",
       "      <td>1</td>\n",
       "      <td>Tie</td>\n",
       "      <td>67</td>\n",
       "      <td>1.97</td>\n",
       "      <td>48</td>\n",
       "      <td>1.41</td>\n",
       "      <td>0</td>\n",
       "    </tr>\n",
       "    <tr>\n",
       "      <th>1</th>\n",
       "      <td>Columbus Crew</td>\n",
       "      <td>Vancouver</td>\n",
       "      <td>4</td>\n",
       "      <td>0</td>\n",
       "      <td>Win</td>\n",
       "      <td>46</td>\n",
       "      <td>1.35</td>\n",
       "      <td>43</td>\n",
       "      <td>1.26</td>\n",
       "      <td>1</td>\n",
       "    </tr>\n",
       "  </tbody>\n",
       "</table>\n",
       "</div>"
      ],
      "text/plain": [
       "       Home_team           team HomeTeamGoal AwayTeamGoal Result  \\\n",
       "0   Philadelphia  Minnesota Utd            1            1    Tie   \n",
       "1  Columbus Crew      Vancouver            4            0    Win   \n",
       "\n",
       "   hometeam_pts  hometeam_ppg  awayteam_pts  awayteam_ppg  index  \n",
       "0            67          1.97            48          1.41      0  \n",
       "1            46          1.35            43          1.26      1  "
      ]
     },
     "execution_count": 484,
     "metadata": {},
     "output_type": "execute_result"
    }
   ],
   "source": [
    "final_d.head(2)"
   ]
  },
  {
   "cell_type": "code",
   "execution_count": 485,
   "id": "879ebb52",
   "metadata": {},
   "outputs": [
    {
     "data": {
      "text/plain": [
       "(935, 10)"
      ]
     },
     "execution_count": 485,
     "metadata": {},
     "output_type": "execute_result"
    }
   ],
   "source": [
    "final_d.shape"
   ]
  },
  {
   "cell_type": "code",
   "execution_count": 486,
   "id": "d7f31b31",
   "metadata": {},
   "outputs": [],
   "source": [
    "merged_data = pd.merge(final_d, goalkeeper, on='team')"
   ]
  },
  {
   "cell_type": "code",
   "execution_count": 487,
   "id": "dd2005d8",
   "metadata": {},
   "outputs": [],
   "source": [
    "merged_data.sort_values(by='index', inplace=True)"
   ]
  },
  {
   "cell_type": "code",
   "execution_count": 488,
   "id": "b20630fa",
   "metadata": {},
   "outputs": [
    {
     "data": {
      "text/html": [
       "<div>\n",
       "<style scoped>\n",
       "    .dataframe tbody tr th:only-of-type {\n",
       "        vertical-align: middle;\n",
       "    }\n",
       "\n",
       "    .dataframe tbody tr th {\n",
       "        vertical-align: top;\n",
       "    }\n",
       "\n",
       "    .dataframe thead th {\n",
       "        text-align: right;\n",
       "    }\n",
       "</style>\n",
       "<table border=\"1\" class=\"dataframe\">\n",
       "  <thead>\n",
       "    <tr style=\"text-align: right;\">\n",
       "      <th></th>\n",
       "      <th>Home_team</th>\n",
       "      <th>team</th>\n",
       "      <th>HomeTeamGoal</th>\n",
       "      <th>AwayTeamGoal</th>\n",
       "      <th>Result</th>\n",
       "      <th>hometeam_pts</th>\n",
       "      <th>hometeam_ppg</th>\n",
       "      <th>awayteam_pts</th>\n",
       "      <th>awayteam_ppg</th>\n",
       "      <th>index</th>\n",
       "      <th>Performance Save%</th>\n",
       "      <th>Penalty Kicks Save%</th>\n",
       "    </tr>\n",
       "  </thead>\n",
       "  <tbody>\n",
       "    <tr>\n",
       "      <th>0</th>\n",
       "      <td>Philadelphia</td>\n",
       "      <td>Minnesota Utd</td>\n",
       "      <td>1</td>\n",
       "      <td>1</td>\n",
       "      <td>Tie</td>\n",
       "      <td>67</td>\n",
       "      <td>1.97</td>\n",
       "      <td>48</td>\n",
       "      <td>1.41</td>\n",
       "      <td>0</td>\n",
       "      <td>71.3</td>\n",
       "      <td>20.0</td>\n",
       "    </tr>\n",
       "    <tr>\n",
       "      <th>34</th>\n",
       "      <td>Columbus Crew</td>\n",
       "      <td>Vancouver</td>\n",
       "      <td>4</td>\n",
       "      <td>0</td>\n",
       "      <td>Win</td>\n",
       "      <td>46</td>\n",
       "      <td>1.35</td>\n",
       "      <td>43</td>\n",
       "      <td>1.26</td>\n",
       "      <td>1</td>\n",
       "      <td>64.4</td>\n",
       "      <td>28.6</td>\n",
       "    </tr>\n",
       "  </tbody>\n",
       "</table>\n",
       "</div>"
      ],
      "text/plain": [
       "        Home_team           team HomeTeamGoal AwayTeamGoal Result  \\\n",
       "0    Philadelphia  Minnesota Utd            1            1    Tie   \n",
       "34  Columbus Crew      Vancouver            4            0    Win   \n",
       "\n",
       "    hometeam_pts  hometeam_ppg  awayteam_pts  awayteam_ppg  index  \\\n",
       "0             67          1.97            48          1.41      0   \n",
       "34            46          1.35            43          1.26      1   \n",
       "\n",
       "    Performance Save%  Penalty Kicks Save%  \n",
       "0                71.3                 20.0  \n",
       "34               64.4                 28.6  "
      ]
     },
     "execution_count": 488,
     "metadata": {},
     "output_type": "execute_result"
    }
   ],
   "source": [
    "merged_data.head(2)"
   ]
  },
  {
   "cell_type": "code",
   "execution_count": 489,
   "id": "0d67169d",
   "metadata": {},
   "outputs": [],
   "source": [
    "merged_data = merged_data.reset_index()"
   ]
  },
  {
   "cell_type": "code",
   "execution_count": 490,
   "id": "f29e8d6b",
   "metadata": {},
   "outputs": [
    {
     "data": {
      "text/html": [
       "<div>\n",
       "<style scoped>\n",
       "    .dataframe tbody tr th:only-of-type {\n",
       "        vertical-align: middle;\n",
       "    }\n",
       "\n",
       "    .dataframe tbody tr th {\n",
       "        vertical-align: top;\n",
       "    }\n",
       "\n",
       "    .dataframe thead th {\n",
       "        text-align: right;\n",
       "    }\n",
       "</style>\n",
       "<table border=\"1\" class=\"dataframe\">\n",
       "  <thead>\n",
       "    <tr style=\"text-align: right;\">\n",
       "      <th></th>\n",
       "      <th>level_0</th>\n",
       "      <th>Home_team</th>\n",
       "      <th>team</th>\n",
       "      <th>HomeTeamGoal</th>\n",
       "      <th>AwayTeamGoal</th>\n",
       "      <th>Result</th>\n",
       "      <th>hometeam_pts</th>\n",
       "      <th>hometeam_ppg</th>\n",
       "      <th>awayteam_pts</th>\n",
       "      <th>awayteam_ppg</th>\n",
       "      <th>index</th>\n",
       "      <th>Performance Save%</th>\n",
       "      <th>Penalty Kicks Save%</th>\n",
       "    </tr>\n",
       "  </thead>\n",
       "  <tbody>\n",
       "    <tr>\n",
       "      <th>0</th>\n",
       "      <td>0</td>\n",
       "      <td>Philadelphia</td>\n",
       "      <td>Minnesota Utd</td>\n",
       "      <td>1</td>\n",
       "      <td>1</td>\n",
       "      <td>Tie</td>\n",
       "      <td>67</td>\n",
       "      <td>1.97</td>\n",
       "      <td>48</td>\n",
       "      <td>1.41</td>\n",
       "      <td>0</td>\n",
       "      <td>71.3</td>\n",
       "      <td>20.0</td>\n",
       "    </tr>\n",
       "    <tr>\n",
       "      <th>1</th>\n",
       "      <td>34</td>\n",
       "      <td>Columbus Crew</td>\n",
       "      <td>Vancouver</td>\n",
       "      <td>4</td>\n",
       "      <td>0</td>\n",
       "      <td>Win</td>\n",
       "      <td>46</td>\n",
       "      <td>1.35</td>\n",
       "      <td>43</td>\n",
       "      <td>1.26</td>\n",
       "      <td>1</td>\n",
       "      <td>64.4</td>\n",
       "      <td>28.6</td>\n",
       "    </tr>\n",
       "  </tbody>\n",
       "</table>\n",
       "</div>"
      ],
      "text/plain": [
       "   level_0      Home_team           team HomeTeamGoal AwayTeamGoal Result  \\\n",
       "0        0   Philadelphia  Minnesota Utd            1            1    Tie   \n",
       "1       34  Columbus Crew      Vancouver            4            0    Win   \n",
       "\n",
       "   hometeam_pts  hometeam_ppg  awayteam_pts  awayteam_ppg  index  \\\n",
       "0            67          1.97            48          1.41      0   \n",
       "1            46          1.35            43          1.26      1   \n",
       "\n",
       "   Performance Save%  Penalty Kicks Save%  \n",
       "0               71.3                 20.0  \n",
       "1               64.4                 28.6  "
      ]
     },
     "execution_count": 490,
     "metadata": {},
     "output_type": "execute_result"
    }
   ],
   "source": [
    "merged_data.head(2)"
   ]
  },
  {
   "cell_type": "code",
   "execution_count": 491,
   "id": "9f7d2e66",
   "metadata": {},
   "outputs": [
    {
     "data": {
      "text/plain": [
       "(935, 13)"
      ]
     },
     "execution_count": 491,
     "metadata": {},
     "output_type": "execute_result"
    }
   ],
   "source": [
    "merged_data.shape"
   ]
  },
  {
   "cell_type": "code",
   "execution_count": 492,
   "id": "8acd36d2",
   "metadata": {},
   "outputs": [],
   "source": [
    "merged_data =merged_data.rename(columns={'team': 'Away_team', \n",
    "                        'Performance Save%': 'Away_G_save%', \n",
    "                        'Penalty Kicks Save%': 'Away_p_save%',\n",
    "                       'Home_team':'team'})"
   ]
  },
  {
   "cell_type": "code",
   "execution_count": 497,
   "id": "95e445d8",
   "metadata": {
    "scrolled": true
   },
   "outputs": [
    {
     "data": {
      "text/html": [
       "<div>\n",
       "<style scoped>\n",
       "    .dataframe tbody tr th:only-of-type {\n",
       "        vertical-align: middle;\n",
       "    }\n",
       "\n",
       "    .dataframe tbody tr th {\n",
       "        vertical-align: top;\n",
       "    }\n",
       "\n",
       "    .dataframe thead th {\n",
       "        text-align: right;\n",
       "    }\n",
       "</style>\n",
       "<table border=\"1\" class=\"dataframe\">\n",
       "  <thead>\n",
       "    <tr style=\"text-align: right;\">\n",
       "      <th></th>\n",
       "      <th>level_0</th>\n",
       "      <th>team</th>\n",
       "      <th>Away_team</th>\n",
       "      <th>HomeTeamGoal</th>\n",
       "      <th>AwayTeamGoal</th>\n",
       "      <th>Result</th>\n",
       "      <th>hometeam_pts</th>\n",
       "      <th>hometeam_ppg</th>\n",
       "      <th>awayteam_pts</th>\n",
       "      <th>awayteam_ppg</th>\n",
       "      <th>index</th>\n",
       "      <th>Away_G_save%</th>\n",
       "      <th>Away_p_save%</th>\n",
       "    </tr>\n",
       "  </thead>\n",
       "  <tbody>\n",
       "    <tr>\n",
       "      <th>0</th>\n",
       "      <td>0</td>\n",
       "      <td>Philadelphia</td>\n",
       "      <td>Minnesota Utd</td>\n",
       "      <td>1</td>\n",
       "      <td>1</td>\n",
       "      <td>Tie</td>\n",
       "      <td>67</td>\n",
       "      <td>1.97</td>\n",
       "      <td>48</td>\n",
       "      <td>1.41</td>\n",
       "      <td>0</td>\n",
       "      <td>71.3</td>\n",
       "      <td>20.0</td>\n",
       "    </tr>\n",
       "    <tr>\n",
       "      <th>1</th>\n",
       "      <td>34</td>\n",
       "      <td>Columbus Crew</td>\n",
       "      <td>Vancouver</td>\n",
       "      <td>4</td>\n",
       "      <td>0</td>\n",
       "      <td>Win</td>\n",
       "      <td>46</td>\n",
       "      <td>1.35</td>\n",
       "      <td>43</td>\n",
       "      <td>1.26</td>\n",
       "      <td>1</td>\n",
       "      <td>64.4</td>\n",
       "      <td>28.6</td>\n",
       "    </tr>\n",
       "  </tbody>\n",
       "</table>\n",
       "</div>"
      ],
      "text/plain": [
       "   level_0           team      Away_team HomeTeamGoal AwayTeamGoal Result  \\\n",
       "0        0   Philadelphia  Minnesota Utd            1            1    Tie   \n",
       "1       34  Columbus Crew      Vancouver            4            0    Win   \n",
       "\n",
       "   hometeam_pts  hometeam_ppg  awayteam_pts  awayteam_ppg  index  \\\n",
       "0            67          1.97            48          1.41      0   \n",
       "1            46          1.35            43          1.26      1   \n",
       "\n",
       "   Away_G_save%  Away_p_save%  \n",
       "0          71.3          20.0  \n",
       "1          64.4          28.6  "
      ]
     },
     "execution_count": 497,
     "metadata": {},
     "output_type": "execute_result"
    }
   ],
   "source": [
    "merged_data.head(2)"
   ]
  },
  {
   "cell_type": "code",
   "execution_count": 498,
   "id": "c1beae54",
   "metadata": {},
   "outputs": [
    {
     "name": "stdout",
     "output_type": "stream",
     "text": [
      "<class 'pandas.core.frame.DataFrame'>\n",
      "RangeIndex: 935 entries, 0 to 934\n",
      "Data columns (total 13 columns):\n",
      " #   Column        Non-Null Count  Dtype  \n",
      "---  ------        --------------  -----  \n",
      " 0   level_0       935 non-null    int64  \n",
      " 1   team          935 non-null    object \n",
      " 2   Away_team     935 non-null    object \n",
      " 3   HomeTeamGoal  935 non-null    object \n",
      " 4   AwayTeamGoal  935 non-null    object \n",
      " 5   Result        935 non-null    object \n",
      " 6   hometeam_pts  935 non-null    int64  \n",
      " 7   hometeam_ppg  935 non-null    float64\n",
      " 8   awayteam_pts  935 non-null    int64  \n",
      " 9   awayteam_ppg  935 non-null    float64\n",
      " 10  index         935 non-null    int64  \n",
      " 11  Away_G_save%  935 non-null    float64\n",
      " 12  Away_p_save%  935 non-null    float64\n",
      "dtypes: float64(4), int64(4), object(5)\n",
      "memory usage: 95.1+ KB\n"
     ]
    }
   ],
   "source": [
    "merged_data.info()"
   ]
  },
  {
   "cell_type": "code",
   "execution_count": 499,
   "id": "0f720fac",
   "metadata": {},
   "outputs": [],
   "source": [
    "merged_data_new = pd.merge(merged_data, goalkeeper, on='team')"
   ]
  },
  {
   "cell_type": "code",
   "execution_count": 500,
   "id": "5030cbff",
   "metadata": {},
   "outputs": [
    {
     "data": {
      "text/html": [
       "<div>\n",
       "<style scoped>\n",
       "    .dataframe tbody tr th:only-of-type {\n",
       "        vertical-align: middle;\n",
       "    }\n",
       "\n",
       "    .dataframe tbody tr th {\n",
       "        vertical-align: top;\n",
       "    }\n",
       "\n",
       "    .dataframe thead th {\n",
       "        text-align: right;\n",
       "    }\n",
       "</style>\n",
       "<table border=\"1\" class=\"dataframe\">\n",
       "  <thead>\n",
       "    <tr style=\"text-align: right;\">\n",
       "      <th></th>\n",
       "      <th>level_0</th>\n",
       "      <th>team</th>\n",
       "      <th>Away_team</th>\n",
       "      <th>HomeTeamGoal</th>\n",
       "      <th>AwayTeamGoal</th>\n",
       "      <th>Result</th>\n",
       "      <th>hometeam_pts</th>\n",
       "      <th>hometeam_ppg</th>\n",
       "      <th>awayteam_pts</th>\n",
       "      <th>awayteam_ppg</th>\n",
       "      <th>index</th>\n",
       "      <th>Away_G_save%</th>\n",
       "      <th>Away_p_save%</th>\n",
       "      <th>Performance Save%</th>\n",
       "      <th>Penalty Kicks Save%</th>\n",
       "    </tr>\n",
       "  </thead>\n",
       "  <tbody>\n",
       "    <tr>\n",
       "      <th>0</th>\n",
       "      <td>0</td>\n",
       "      <td>Philadelphia</td>\n",
       "      <td>Minnesota Utd</td>\n",
       "      <td>1</td>\n",
       "      <td>1</td>\n",
       "      <td>Tie</td>\n",
       "      <td>67</td>\n",
       "      <td>1.97</td>\n",
       "      <td>48</td>\n",
       "      <td>1.41</td>\n",
       "      <td>0</td>\n",
       "      <td>71.3</td>\n",
       "      <td>20.0</td>\n",
       "      <td>82.5</td>\n",
       "      <td>20.0</td>\n",
       "    </tr>\n",
       "    <tr>\n",
       "      <th>1</th>\n",
       "      <td>867</td>\n",
       "      <td>Philadelphia</td>\n",
       "      <td>SJ Earthquakes</td>\n",
       "      <td>2</td>\n",
       "      <td>0</td>\n",
       "      <td>Win</td>\n",
       "      <td>67</td>\n",
       "      <td>1.97</td>\n",
       "      <td>35</td>\n",
       "      <td>1.03</td>\n",
       "      <td>36</td>\n",
       "      <td>66.1</td>\n",
       "      <td>0.0</td>\n",
       "      <td>82.5</td>\n",
       "      <td>20.0</td>\n",
       "    </tr>\n",
       "    <tr>\n",
       "      <th>2</th>\n",
       "      <td>172</td>\n",
       "      <td>Philadelphia</td>\n",
       "      <td>Charlotte</td>\n",
       "      <td>2</td>\n",
       "      <td>0</td>\n",
       "      <td>Win</td>\n",
       "      <td>67</td>\n",
       "      <td>1.97</td>\n",
       "      <td>42</td>\n",
       "      <td>1.24</td>\n",
       "      <td>66</td>\n",
       "      <td>69.2</td>\n",
       "      <td>0.0</td>\n",
       "      <td>82.5</td>\n",
       "      <td>20.0</td>\n",
       "    </tr>\n",
       "    <tr>\n",
       "      <th>3</th>\n",
       "      <td>563</td>\n",
       "      <td>Philadelphia</td>\n",
       "      <td>Columbus Crew</td>\n",
       "      <td>1</td>\n",
       "      <td>0</td>\n",
       "      <td>Win</td>\n",
       "      <td>67</td>\n",
       "      <td>1.97</td>\n",
       "      <td>46</td>\n",
       "      <td>1.35</td>\n",
       "      <td>76</td>\n",
       "      <td>73.2</td>\n",
       "      <td>0.0</td>\n",
       "      <td>82.5</td>\n",
       "      <td>20.0</td>\n",
       "    </tr>\n",
       "    <tr>\n",
       "      <th>4</th>\n",
       "      <td>294</td>\n",
       "      <td>Philadelphia</td>\n",
       "      <td>CF Montreal</td>\n",
       "      <td>1</td>\n",
       "      <td>1</td>\n",
       "      <td>Tie</td>\n",
       "      <td>67</td>\n",
       "      <td>1.97</td>\n",
       "      <td>65</td>\n",
       "      <td>1.91</td>\n",
       "      <td>100</td>\n",
       "      <td>64.2</td>\n",
       "      <td>0.0</td>\n",
       "      <td>82.5</td>\n",
       "      <td>20.0</td>\n",
       "    </tr>\n",
       "  </tbody>\n",
       "</table>\n",
       "</div>"
      ],
      "text/plain": [
       "   level_0          team       Away_team HomeTeamGoal AwayTeamGoal Result  \\\n",
       "0        0  Philadelphia   Minnesota Utd            1            1    Tie   \n",
       "1      867  Philadelphia  SJ Earthquakes            2            0    Win   \n",
       "2      172  Philadelphia       Charlotte            2            0    Win   \n",
       "3      563  Philadelphia   Columbus Crew            1            0    Win   \n",
       "4      294  Philadelphia     CF Montreal            1            1    Tie   \n",
       "\n",
       "   hometeam_pts  hometeam_ppg  awayteam_pts  awayteam_ppg  index  \\\n",
       "0            67          1.97            48          1.41      0   \n",
       "1            67          1.97            35          1.03     36   \n",
       "2            67          1.97            42          1.24     66   \n",
       "3            67          1.97            46          1.35     76   \n",
       "4            67          1.97            65          1.91    100   \n",
       "\n",
       "   Away_G_save%  Away_p_save%  Performance Save%  Penalty Kicks Save%  \n",
       "0          71.3          20.0               82.5                 20.0  \n",
       "1          66.1           0.0               82.5                 20.0  \n",
       "2          69.2           0.0               82.5                 20.0  \n",
       "3          73.2           0.0               82.5                 20.0  \n",
       "4          64.2           0.0               82.5                 20.0  "
      ]
     },
     "execution_count": 500,
     "metadata": {},
     "output_type": "execute_result"
    }
   ],
   "source": [
    "merged_data_new.head()"
   ]
  },
  {
   "cell_type": "code",
   "execution_count": 501,
   "id": "eb81afff",
   "metadata": {},
   "outputs": [
    {
     "data": {
      "text/plain": [
       "(935, 15)"
      ]
     },
     "execution_count": 501,
     "metadata": {},
     "output_type": "execute_result"
    }
   ],
   "source": [
    "merged_data_new.shape"
   ]
  },
  {
   "cell_type": "code",
   "execution_count": 502,
   "id": "ce5de09a",
   "metadata": {},
   "outputs": [],
   "source": [
    "merged_data_new=merged_data_new.rename(columns={'team': 'Home_team', \n",
    "                        'Performance Save%': 'Home_G_save%', \n",
    "                        'Penalty Kicks Save%': 'Home_p_save%',})"
   ]
  },
  {
   "cell_type": "code",
   "execution_count": 503,
   "id": "c0b58229",
   "metadata": {
    "scrolled": false
   },
   "outputs": [
    {
     "data": {
      "text/html": [
       "<div>\n",
       "<style scoped>\n",
       "    .dataframe tbody tr th:only-of-type {\n",
       "        vertical-align: middle;\n",
       "    }\n",
       "\n",
       "    .dataframe tbody tr th {\n",
       "        vertical-align: top;\n",
       "    }\n",
       "\n",
       "    .dataframe thead th {\n",
       "        text-align: right;\n",
       "    }\n",
       "</style>\n",
       "<table border=\"1\" class=\"dataframe\">\n",
       "  <thead>\n",
       "    <tr style=\"text-align: right;\">\n",
       "      <th></th>\n",
       "      <th>level_0</th>\n",
       "      <th>Home_team</th>\n",
       "      <th>Away_team</th>\n",
       "      <th>HomeTeamGoal</th>\n",
       "      <th>AwayTeamGoal</th>\n",
       "      <th>Result</th>\n",
       "      <th>hometeam_pts</th>\n",
       "      <th>hometeam_ppg</th>\n",
       "      <th>awayteam_pts</th>\n",
       "      <th>awayteam_ppg</th>\n",
       "      <th>index</th>\n",
       "      <th>Away_G_save%</th>\n",
       "      <th>Away_p_save%</th>\n",
       "      <th>Home_G_save%</th>\n",
       "      <th>Home_p_save%</th>\n",
       "    </tr>\n",
       "  </thead>\n",
       "  <tbody>\n",
       "    <tr>\n",
       "      <th>0</th>\n",
       "      <td>0</td>\n",
       "      <td>Philadelphia</td>\n",
       "      <td>Minnesota Utd</td>\n",
       "      <td>1</td>\n",
       "      <td>1</td>\n",
       "      <td>Tie</td>\n",
       "      <td>67</td>\n",
       "      <td>1.97</td>\n",
       "      <td>48</td>\n",
       "      <td>1.41</td>\n",
       "      <td>0</td>\n",
       "      <td>71.3</td>\n",
       "      <td>20.0</td>\n",
       "      <td>82.5</td>\n",
       "      <td>20.0</td>\n",
       "    </tr>\n",
       "    <tr>\n",
       "      <th>1</th>\n",
       "      <td>867</td>\n",
       "      <td>Philadelphia</td>\n",
       "      <td>SJ Earthquakes</td>\n",
       "      <td>2</td>\n",
       "      <td>0</td>\n",
       "      <td>Win</td>\n",
       "      <td>67</td>\n",
       "      <td>1.97</td>\n",
       "      <td>35</td>\n",
       "      <td>1.03</td>\n",
       "      <td>36</td>\n",
       "      <td>66.1</td>\n",
       "      <td>0.0</td>\n",
       "      <td>82.5</td>\n",
       "      <td>20.0</td>\n",
       "    </tr>\n",
       "  </tbody>\n",
       "</table>\n",
       "</div>"
      ],
      "text/plain": [
       "   level_0     Home_team       Away_team HomeTeamGoal AwayTeamGoal Result  \\\n",
       "0        0  Philadelphia   Minnesota Utd            1            1    Tie   \n",
       "1      867  Philadelphia  SJ Earthquakes            2            0    Win   \n",
       "\n",
       "   hometeam_pts  hometeam_ppg  awayteam_pts  awayteam_ppg  index  \\\n",
       "0            67          1.97            48          1.41      0   \n",
       "1            67          1.97            35          1.03     36   \n",
       "\n",
       "   Away_G_save%  Away_p_save%  Home_G_save%  Home_p_save%  \n",
       "0          71.3          20.0          82.5          20.0  \n",
       "1          66.1           0.0          82.5          20.0  "
      ]
     },
     "execution_count": 503,
     "metadata": {},
     "output_type": "execute_result"
    }
   ],
   "source": [
    "merged_data_new.head(2)"
   ]
  },
  {
   "cell_type": "code",
   "execution_count": null,
   "id": "5ab566fe",
   "metadata": {},
   "outputs": [],
   "source": []
  },
  {
   "cell_type": "code",
   "execution_count": 506,
   "id": "4ea09cd9",
   "metadata": {},
   "outputs": [
    {
     "data": {
      "text/html": [
       "<div>\n",
       "<style scoped>\n",
       "    .dataframe tbody tr th:only-of-type {\n",
       "        vertical-align: middle;\n",
       "    }\n",
       "\n",
       "    .dataframe tbody tr th {\n",
       "        vertical-align: top;\n",
       "    }\n",
       "\n",
       "    .dataframe thead th {\n",
       "        text-align: right;\n",
       "    }\n",
       "</style>\n",
       "<table border=\"1\" class=\"dataframe\">\n",
       "  <thead>\n",
       "    <tr style=\"text-align: right;\">\n",
       "      <th></th>\n",
       "      <th>level_0</th>\n",
       "      <th>Home_team</th>\n",
       "      <th>Away_team</th>\n",
       "      <th>HomeTeamGoal</th>\n",
       "      <th>AwayTeamGoal</th>\n",
       "      <th>Result</th>\n",
       "      <th>hometeam_pts</th>\n",
       "      <th>hometeam_ppg</th>\n",
       "      <th>awayteam_pts</th>\n",
       "      <th>awayteam_ppg</th>\n",
       "      <th>index</th>\n",
       "      <th>Away_G_save%</th>\n",
       "      <th>Away_p_save%</th>\n",
       "      <th>Home_G_save%</th>\n",
       "      <th>Home_p_save%</th>\n",
       "    </tr>\n",
       "  </thead>\n",
       "  <tbody>\n",
       "    <tr>\n",
       "      <th>0</th>\n",
       "      <td>0</td>\n",
       "      <td>Philadelphia</td>\n",
       "      <td>Minnesota Utd</td>\n",
       "      <td>1</td>\n",
       "      <td>1</td>\n",
       "      <td>Tie</td>\n",
       "      <td>67</td>\n",
       "      <td>1.97</td>\n",
       "      <td>48</td>\n",
       "      <td>1.41</td>\n",
       "      <td>0</td>\n",
       "      <td>71.3</td>\n",
       "      <td>20.0</td>\n",
       "      <td>82.5</td>\n",
       "      <td>20.0</td>\n",
       "    </tr>\n",
       "    <tr>\n",
       "      <th>1</th>\n",
       "      <td>867</td>\n",
       "      <td>Philadelphia</td>\n",
       "      <td>SJ Earthquakes</td>\n",
       "      <td>2</td>\n",
       "      <td>0</td>\n",
       "      <td>Win</td>\n",
       "      <td>67</td>\n",
       "      <td>1.97</td>\n",
       "      <td>35</td>\n",
       "      <td>1.03</td>\n",
       "      <td>36</td>\n",
       "      <td>66.1</td>\n",
       "      <td>0.0</td>\n",
       "      <td>82.5</td>\n",
       "      <td>20.0</td>\n",
       "    </tr>\n",
       "    <tr>\n",
       "      <th>2</th>\n",
       "      <td>172</td>\n",
       "      <td>Philadelphia</td>\n",
       "      <td>Charlotte</td>\n",
       "      <td>2</td>\n",
       "      <td>0</td>\n",
       "      <td>Win</td>\n",
       "      <td>67</td>\n",
       "      <td>1.97</td>\n",
       "      <td>42</td>\n",
       "      <td>1.24</td>\n",
       "      <td>66</td>\n",
       "      <td>69.2</td>\n",
       "      <td>0.0</td>\n",
       "      <td>82.5</td>\n",
       "      <td>20.0</td>\n",
       "    </tr>\n",
       "    <tr>\n",
       "      <th>3</th>\n",
       "      <td>563</td>\n",
       "      <td>Philadelphia</td>\n",
       "      <td>Columbus Crew</td>\n",
       "      <td>1</td>\n",
       "      <td>0</td>\n",
       "      <td>Win</td>\n",
       "      <td>67</td>\n",
       "      <td>1.97</td>\n",
       "      <td>46</td>\n",
       "      <td>1.35</td>\n",
       "      <td>76</td>\n",
       "      <td>73.2</td>\n",
       "      <td>0.0</td>\n",
       "      <td>82.5</td>\n",
       "      <td>20.0</td>\n",
       "    </tr>\n",
       "    <tr>\n",
       "      <th>4</th>\n",
       "      <td>294</td>\n",
       "      <td>Philadelphia</td>\n",
       "      <td>CF Montreal</td>\n",
       "      <td>1</td>\n",
       "      <td>1</td>\n",
       "      <td>Tie</td>\n",
       "      <td>67</td>\n",
       "      <td>1.97</td>\n",
       "      <td>65</td>\n",
       "      <td>1.91</td>\n",
       "      <td>100</td>\n",
       "      <td>64.2</td>\n",
       "      <td>0.0</td>\n",
       "      <td>82.5</td>\n",
       "      <td>20.0</td>\n",
       "    </tr>\n",
       "    <tr>\n",
       "      <th>5</th>\n",
       "      <td>226</td>\n",
       "      <td>Philadelphia</td>\n",
       "      <td>New York RB</td>\n",
       "      <td>1</td>\n",
       "      <td>1</td>\n",
       "      <td>Tie</td>\n",
       "      <td>67</td>\n",
       "      <td>1.97</td>\n",
       "      <td>53</td>\n",
       "      <td>1.56</td>\n",
       "      <td>146</td>\n",
       "      <td>65.5</td>\n",
       "      <td>0.0</td>\n",
       "      <td>82.5</td>\n",
       "      <td>20.0</td>\n",
       "    </tr>\n",
       "    <tr>\n",
       "      <th>6</th>\n",
       "      <td>770</td>\n",
       "      <td>Philadelphia</td>\n",
       "      <td>Inter Miami</td>\n",
       "      <td>0</td>\n",
       "      <td>0</td>\n",
       "      <td>Tie</td>\n",
       "      <td>67</td>\n",
       "      <td>1.97</td>\n",
       "      <td>48</td>\n",
       "      <td>1.41</td>\n",
       "      <td>157</td>\n",
       "      <td>66.7</td>\n",
       "      <td>0.0</td>\n",
       "      <td>82.5</td>\n",
       "      <td>20.0</td>\n",
       "    </tr>\n",
       "    <tr>\n",
       "      <th>7</th>\n",
       "      <td>144</td>\n",
       "      <td>Philadelphia</td>\n",
       "      <td>Cincinnati</td>\n",
       "      <td>1</td>\n",
       "      <td>1</td>\n",
       "      <td>Tie</td>\n",
       "      <td>67</td>\n",
       "      <td>1.97</td>\n",
       "      <td>49</td>\n",
       "      <td>1.44</td>\n",
       "      <td>205</td>\n",
       "      <td>69.6</td>\n",
       "      <td>30.0</td>\n",
       "      <td>82.5</td>\n",
       "      <td>20.0</td>\n",
       "    </tr>\n",
       "    <tr>\n",
       "      <th>8</th>\n",
       "      <td>362</td>\n",
       "      <td>Philadelphia</td>\n",
       "      <td>New York City</td>\n",
       "      <td>2</td>\n",
       "      <td>1</td>\n",
       "      <td>Win</td>\n",
       "      <td>67</td>\n",
       "      <td>1.97</td>\n",
       "      <td>55</td>\n",
       "      <td>1.62</td>\n",
       "      <td>224</td>\n",
       "      <td>66.4</td>\n",
       "      <td>0.0</td>\n",
       "      <td>82.5</td>\n",
       "      <td>20.0</td>\n",
       "    </tr>\n",
       "    <tr>\n",
       "      <th>9</th>\n",
       "      <td>636</td>\n",
       "      <td>Philadelphia</td>\n",
       "      <td>DC United</td>\n",
       "      <td>7</td>\n",
       "      <td>0</td>\n",
       "      <td>Win</td>\n",
       "      <td>67</td>\n",
       "      <td>1.97</td>\n",
       "      <td>27</td>\n",
       "      <td>0.79</td>\n",
       "      <td>249</td>\n",
       "      <td>64.0</td>\n",
       "      <td>40.0</td>\n",
       "      <td>82.5</td>\n",
       "      <td>20.0</td>\n",
       "    </tr>\n",
       "  </tbody>\n",
       "</table>\n",
       "</div>"
      ],
      "text/plain": [
       "   level_0     Home_team       Away_team HomeTeamGoal AwayTeamGoal Result  \\\n",
       "0        0  Philadelphia   Minnesota Utd            1            1    Tie   \n",
       "1      867  Philadelphia  SJ Earthquakes            2            0    Win   \n",
       "2      172  Philadelphia       Charlotte            2            0    Win   \n",
       "3      563  Philadelphia   Columbus Crew            1            0    Win   \n",
       "4      294  Philadelphia     CF Montreal            1            1    Tie   \n",
       "5      226  Philadelphia     New York RB            1            1    Tie   \n",
       "6      770  Philadelphia     Inter Miami            0            0    Tie   \n",
       "7      144  Philadelphia      Cincinnati            1            1    Tie   \n",
       "8      362  Philadelphia   New York City            2            1    Win   \n",
       "9      636  Philadelphia       DC United            7            0    Win   \n",
       "\n",
       "   hometeam_pts  hometeam_ppg  awayteam_pts  awayteam_ppg  index  \\\n",
       "0            67          1.97            48          1.41      0   \n",
       "1            67          1.97            35          1.03     36   \n",
       "2            67          1.97            42          1.24     66   \n",
       "3            67          1.97            46          1.35     76   \n",
       "4            67          1.97            65          1.91    100   \n",
       "5            67          1.97            53          1.56    146   \n",
       "6            67          1.97            48          1.41    157   \n",
       "7            67          1.97            49          1.44    205   \n",
       "8            67          1.97            55          1.62    224   \n",
       "9            67          1.97            27          0.79    249   \n",
       "\n",
       "   Away_G_save%  Away_p_save%  Home_G_save%  Home_p_save%  \n",
       "0          71.3          20.0          82.5          20.0  \n",
       "1          66.1           0.0          82.5          20.0  \n",
       "2          69.2           0.0          82.5          20.0  \n",
       "3          73.2           0.0          82.5          20.0  \n",
       "4          64.2           0.0          82.5          20.0  \n",
       "5          65.5           0.0          82.5          20.0  \n",
       "6          66.7           0.0          82.5          20.0  \n",
       "7          69.6          30.0          82.5          20.0  \n",
       "8          66.4           0.0          82.5          20.0  \n",
       "9          64.0          40.0          82.5          20.0  "
      ]
     },
     "execution_count": 506,
     "metadata": {},
     "output_type": "execute_result"
    }
   ],
   "source": [
    "merged_data_new.head(10)"
   ]
  },
  {
   "cell_type": "code",
   "execution_count": 507,
   "id": "7f92f219",
   "metadata": {},
   "outputs": [],
   "source": [
    "merged_data_new=merged_data_new.sort_values(by='index')"
   ]
  },
  {
   "cell_type": "code",
   "execution_count": 510,
   "id": "4021a95d",
   "metadata": {},
   "outputs": [
    {
     "data": {
      "text/html": [
       "<div>\n",
       "<style scoped>\n",
       "    .dataframe tbody tr th:only-of-type {\n",
       "        vertical-align: middle;\n",
       "    }\n",
       "\n",
       "    .dataframe tbody tr th {\n",
       "        vertical-align: top;\n",
       "    }\n",
       "\n",
       "    .dataframe thead th {\n",
       "        text-align: right;\n",
       "    }\n",
       "</style>\n",
       "<table border=\"1\" class=\"dataframe\">\n",
       "  <thead>\n",
       "    <tr style=\"text-align: right;\">\n",
       "      <th></th>\n",
       "      <th>Home_team</th>\n",
       "      <th>Away_team</th>\n",
       "      <th>HomeTeamGoal</th>\n",
       "      <th>AwayTeamGoal</th>\n",
       "      <th>Result</th>\n",
       "      <th>hometeam_pts</th>\n",
       "      <th>hometeam_ppg</th>\n",
       "      <th>awayteam_pts</th>\n",
       "      <th>awayteam_ppg</th>\n",
       "      <th>Away_G_save%</th>\n",
       "      <th>Away_p_save%</th>\n",
       "      <th>Home_G_save%</th>\n",
       "      <th>Home_p_save%</th>\n",
       "    </tr>\n",
       "  </thead>\n",
       "  <tbody>\n",
       "    <tr>\n",
       "      <th>0</th>\n",
       "      <td>Philadelphia</td>\n",
       "      <td>Minnesota Utd</td>\n",
       "      <td>1</td>\n",
       "      <td>1</td>\n",
       "      <td>Tie</td>\n",
       "      <td>67</td>\n",
       "      <td>1.97</td>\n",
       "      <td>48</td>\n",
       "      <td>1.41</td>\n",
       "      <td>71.3</td>\n",
       "      <td>20.0</td>\n",
       "      <td>82.5</td>\n",
       "      <td>20.0</td>\n",
       "    </tr>\n",
       "    <tr>\n",
       "      <th>34</th>\n",
       "      <td>Columbus Crew</td>\n",
       "      <td>Vancouver</td>\n",
       "      <td>4</td>\n",
       "      <td>0</td>\n",
       "      <td>Win</td>\n",
       "      <td>46</td>\n",
       "      <td>1.35</td>\n",
       "      <td>43</td>\n",
       "      <td>1.26</td>\n",
       "      <td>64.4</td>\n",
       "      <td>28.6</td>\n",
       "      <td>73.2</td>\n",
       "      <td>0.0</td>\n",
       "    </tr>\n",
       "  </tbody>\n",
       "</table>\n",
       "</div>"
      ],
      "text/plain": [
       "        Home_team      Away_team HomeTeamGoal AwayTeamGoal Result  \\\n",
       "0    Philadelphia  Minnesota Utd            1            1    Tie   \n",
       "34  Columbus Crew      Vancouver            4            0    Win   \n",
       "\n",
       "    hometeam_pts  hometeam_ppg  awayteam_pts  awayteam_ppg  Away_G_save%  \\\n",
       "0             67          1.97            48          1.41          71.3   \n",
       "34            46          1.35            43          1.26          64.4   \n",
       "\n",
       "    Away_p_save%  Home_G_save%  Home_p_save%  \n",
       "0           20.0          82.5          20.0  \n",
       "34          28.6          73.2           0.0  "
      ]
     },
     "execution_count": 510,
     "metadata": {},
     "output_type": "execute_result"
    }
   ],
   "source": [
    "merged_data_new.head(2)"
   ]
  },
  {
   "cell_type": "code",
   "execution_count": 509,
   "id": "31843436",
   "metadata": {},
   "outputs": [],
   "source": [
    "merged_data_new = merged_data_new.drop(columns=['level_0', 'index'])"
   ]
  },
  {
   "cell_type": "code",
   "execution_count": 511,
   "id": "6645229e",
   "metadata": {},
   "outputs": [
    {
     "data": {
      "text/html": [
       "<div>\n",
       "<style scoped>\n",
       "    .dataframe tbody tr th:only-of-type {\n",
       "        vertical-align: middle;\n",
       "    }\n",
       "\n",
       "    .dataframe tbody tr th {\n",
       "        vertical-align: top;\n",
       "    }\n",
       "\n",
       "    .dataframe thead th {\n",
       "        text-align: right;\n",
       "    }\n",
       "</style>\n",
       "<table border=\"1\" class=\"dataframe\">\n",
       "  <thead>\n",
       "    <tr style=\"text-align: right;\">\n",
       "      <th></th>\n",
       "      <th>Home_team</th>\n",
       "      <th>Away_team</th>\n",
       "      <th>HomeTeamGoal</th>\n",
       "      <th>AwayTeamGoal</th>\n",
       "      <th>Result</th>\n",
       "      <th>hometeam_pts</th>\n",
       "      <th>hometeam_ppg</th>\n",
       "      <th>awayteam_pts</th>\n",
       "      <th>awayteam_ppg</th>\n",
       "      <th>Away_G_save%</th>\n",
       "      <th>Away_p_save%</th>\n",
       "      <th>Home_G_save%</th>\n",
       "      <th>Home_p_save%</th>\n",
       "    </tr>\n",
       "  </thead>\n",
       "  <tbody>\n",
       "    <tr>\n",
       "      <th>0</th>\n",
       "      <td>Philadelphia</td>\n",
       "      <td>Minnesota Utd</td>\n",
       "      <td>1</td>\n",
       "      <td>1</td>\n",
       "      <td>Tie</td>\n",
       "      <td>67</td>\n",
       "      <td>1.97</td>\n",
       "      <td>48</td>\n",
       "      <td>1.41</td>\n",
       "      <td>71.3</td>\n",
       "      <td>20.0</td>\n",
       "      <td>82.5</td>\n",
       "      <td>20.0</td>\n",
       "    </tr>\n",
       "    <tr>\n",
       "      <th>34</th>\n",
       "      <td>Columbus Crew</td>\n",
       "      <td>Vancouver</td>\n",
       "      <td>4</td>\n",
       "      <td>0</td>\n",
       "      <td>Win</td>\n",
       "      <td>46</td>\n",
       "      <td>1.35</td>\n",
       "      <td>43</td>\n",
       "      <td>1.26</td>\n",
       "      <td>64.4</td>\n",
       "      <td>28.6</td>\n",
       "      <td>73.2</td>\n",
       "      <td>0.0</td>\n",
       "    </tr>\n",
       "  </tbody>\n",
       "</table>\n",
       "</div>"
      ],
      "text/plain": [
       "        Home_team      Away_team HomeTeamGoal AwayTeamGoal Result  \\\n",
       "0    Philadelphia  Minnesota Utd            1            1    Tie   \n",
       "34  Columbus Crew      Vancouver            4            0    Win   \n",
       "\n",
       "    hometeam_pts  hometeam_ppg  awayteam_pts  awayteam_ppg  Away_G_save%  \\\n",
       "0             67          1.97            48          1.41          71.3   \n",
       "34            46          1.35            43          1.26          64.4   \n",
       "\n",
       "    Away_p_save%  Home_G_save%  Home_p_save%  \n",
       "0           20.0          82.5          20.0  \n",
       "34          28.6          73.2           0.0  "
      ]
     },
     "execution_count": 511,
     "metadata": {},
     "output_type": "execute_result"
    }
   ],
   "source": [
    "merged_data_new.head(2)"
   ]
  },
  {
   "cell_type": "code",
   "execution_count": 512,
   "id": "019e9a8f",
   "metadata": {},
   "outputs": [],
   "source": [
    "merged_data_new = merged_data_new.reset_index()"
   ]
  },
  {
   "cell_type": "code",
   "execution_count": 513,
   "id": "e39a64ea",
   "metadata": {},
   "outputs": [
    {
     "data": {
      "text/html": [
       "<div>\n",
       "<style scoped>\n",
       "    .dataframe tbody tr th:only-of-type {\n",
       "        vertical-align: middle;\n",
       "    }\n",
       "\n",
       "    .dataframe tbody tr th {\n",
       "        vertical-align: top;\n",
       "    }\n",
       "\n",
       "    .dataframe thead th {\n",
       "        text-align: right;\n",
       "    }\n",
       "</style>\n",
       "<table border=\"1\" class=\"dataframe\">\n",
       "  <thead>\n",
       "    <tr style=\"text-align: right;\">\n",
       "      <th></th>\n",
       "      <th>index</th>\n",
       "      <th>Home_team</th>\n",
       "      <th>Away_team</th>\n",
       "      <th>HomeTeamGoal</th>\n",
       "      <th>AwayTeamGoal</th>\n",
       "      <th>Result</th>\n",
       "      <th>hometeam_pts</th>\n",
       "      <th>hometeam_ppg</th>\n",
       "      <th>awayteam_pts</th>\n",
       "      <th>awayteam_ppg</th>\n",
       "      <th>Away_G_save%</th>\n",
       "      <th>Away_p_save%</th>\n",
       "      <th>Home_G_save%</th>\n",
       "      <th>Home_p_save%</th>\n",
       "    </tr>\n",
       "  </thead>\n",
       "  <tbody>\n",
       "    <tr>\n",
       "      <th>0</th>\n",
       "      <td>0</td>\n",
       "      <td>Philadelphia</td>\n",
       "      <td>Minnesota Utd</td>\n",
       "      <td>1</td>\n",
       "      <td>1</td>\n",
       "      <td>Tie</td>\n",
       "      <td>67</td>\n",
       "      <td>1.97</td>\n",
       "      <td>48</td>\n",
       "      <td>1.41</td>\n",
       "      <td>71.3</td>\n",
       "      <td>20.0</td>\n",
       "      <td>82.5</td>\n",
       "      <td>20.0</td>\n",
       "    </tr>\n",
       "    <tr>\n",
       "      <th>1</th>\n",
       "      <td>34</td>\n",
       "      <td>Columbus Crew</td>\n",
       "      <td>Vancouver</td>\n",
       "      <td>4</td>\n",
       "      <td>0</td>\n",
       "      <td>Win</td>\n",
       "      <td>46</td>\n",
       "      <td>1.35</td>\n",
       "      <td>43</td>\n",
       "      <td>1.26</td>\n",
       "      <td>64.4</td>\n",
       "      <td>28.6</td>\n",
       "      <td>73.2</td>\n",
       "      <td>0.0</td>\n",
       "    </tr>\n",
       "  </tbody>\n",
       "</table>\n",
       "</div>"
      ],
      "text/plain": [
       "   index      Home_team      Away_team HomeTeamGoal AwayTeamGoal Result  \\\n",
       "0      0   Philadelphia  Minnesota Utd            1            1    Tie   \n",
       "1     34  Columbus Crew      Vancouver            4            0    Win   \n",
       "\n",
       "   hometeam_pts  hometeam_ppg  awayteam_pts  awayteam_ppg  Away_G_save%  \\\n",
       "0            67          1.97            48          1.41          71.3   \n",
       "1            46          1.35            43          1.26          64.4   \n",
       "\n",
       "   Away_p_save%  Home_G_save%  Home_p_save%  \n",
       "0          20.0          82.5          20.0  \n",
       "1          28.6          73.2           0.0  "
      ]
     },
     "execution_count": 513,
     "metadata": {},
     "output_type": "execute_result"
    }
   ],
   "source": [
    "merged_data_new.head(2)"
   ]
  },
  {
   "cell_type": "code",
   "execution_count": 515,
   "id": "f6ac496f",
   "metadata": {},
   "outputs": [],
   "source": [
    "merged_data_new = merged_data_new.drop(columns=['index'])"
   ]
  },
  {
   "cell_type": "code",
   "execution_count": 517,
   "id": "82a567b5",
   "metadata": {},
   "outputs": [
    {
     "data": {
      "text/html": [
       "<div>\n",
       "<style scoped>\n",
       "    .dataframe tbody tr th:only-of-type {\n",
       "        vertical-align: middle;\n",
       "    }\n",
       "\n",
       "    .dataframe tbody tr th {\n",
       "        vertical-align: top;\n",
       "    }\n",
       "\n",
       "    .dataframe thead th {\n",
       "        text-align: right;\n",
       "    }\n",
       "</style>\n",
       "<table border=\"1\" class=\"dataframe\">\n",
       "  <thead>\n",
       "    <tr style=\"text-align: right;\">\n",
       "      <th></th>\n",
       "      <th>Home_team</th>\n",
       "      <th>Away_team</th>\n",
       "      <th>HomeTeamGoal</th>\n",
       "      <th>AwayTeamGoal</th>\n",
       "      <th>Result</th>\n",
       "      <th>hometeam_pts</th>\n",
       "      <th>hometeam_ppg</th>\n",
       "      <th>awayteam_pts</th>\n",
       "      <th>awayteam_ppg</th>\n",
       "      <th>Away_G_save%</th>\n",
       "      <th>Away_p_save%</th>\n",
       "      <th>Home_G_save%</th>\n",
       "      <th>Home_p_save%</th>\n",
       "    </tr>\n",
       "  </thead>\n",
       "  <tbody>\n",
       "    <tr>\n",
       "      <th>0</th>\n",
       "      <td>Philadelphia</td>\n",
       "      <td>Minnesota Utd</td>\n",
       "      <td>1</td>\n",
       "      <td>1</td>\n",
       "      <td>Tie</td>\n",
       "      <td>67</td>\n",
       "      <td>1.97</td>\n",
       "      <td>48</td>\n",
       "      <td>1.41</td>\n",
       "      <td>71.3</td>\n",
       "      <td>20.0</td>\n",
       "      <td>82.5</td>\n",
       "      <td>20.0</td>\n",
       "    </tr>\n",
       "    <tr>\n",
       "      <th>1</th>\n",
       "      <td>Columbus Crew</td>\n",
       "      <td>Vancouver</td>\n",
       "      <td>4</td>\n",
       "      <td>0</td>\n",
       "      <td>Win</td>\n",
       "      <td>46</td>\n",
       "      <td>1.35</td>\n",
       "      <td>43</td>\n",
       "      <td>1.26</td>\n",
       "      <td>64.4</td>\n",
       "      <td>28.6</td>\n",
       "      <td>73.2</td>\n",
       "      <td>0.0</td>\n",
       "    </tr>\n",
       "    <tr>\n",
       "      <th>2</th>\n",
       "      <td>Los Angeles FC</td>\n",
       "      <td>Colorado Rapids</td>\n",
       "      <td>3</td>\n",
       "      <td>0</td>\n",
       "      <td>Win</td>\n",
       "      <td>67</td>\n",
       "      <td>1.97</td>\n",
       "      <td>43</td>\n",
       "      <td>1.26</td>\n",
       "      <td>70.3</td>\n",
       "      <td>9.1</td>\n",
       "      <td>70.7</td>\n",
       "      <td>0.0</td>\n",
       "    </tr>\n",
       "    <tr>\n",
       "      <th>3</th>\n",
       "      <td>Dallas</td>\n",
       "      <td>Toronto</td>\n",
       "      <td>1</td>\n",
       "      <td>1</td>\n",
       "      <td>Tie</td>\n",
       "      <td>53</td>\n",
       "      <td>1.56</td>\n",
       "      <td>34</td>\n",
       "      <td>1.00</td>\n",
       "      <td>65.8</td>\n",
       "      <td>25.0</td>\n",
       "      <td>75.9</td>\n",
       "      <td>28.6</td>\n",
       "    </tr>\n",
       "    <tr>\n",
       "      <th>4</th>\n",
       "      <td>Austin</td>\n",
       "      <td>Cincinnati</td>\n",
       "      <td>5</td>\n",
       "      <td>0</td>\n",
       "      <td>Win</td>\n",
       "      <td>56</td>\n",
       "      <td>1.65</td>\n",
       "      <td>49</td>\n",
       "      <td>1.44</td>\n",
       "      <td>69.6</td>\n",
       "      <td>30.0</td>\n",
       "      <td>72.7</td>\n",
       "      <td>28.6</td>\n",
       "    </tr>\n",
       "  </tbody>\n",
       "</table>\n",
       "</div>"
      ],
      "text/plain": [
       "        Home_team        Away_team HomeTeamGoal AwayTeamGoal Result  \\\n",
       "0    Philadelphia    Minnesota Utd            1            1    Tie   \n",
       "1   Columbus Crew        Vancouver            4            0    Win   \n",
       "2  Los Angeles FC  Colorado Rapids            3            0    Win   \n",
       "3          Dallas          Toronto            1            1    Tie   \n",
       "4          Austin       Cincinnati            5            0    Win   \n",
       "\n",
       "   hometeam_pts  hometeam_ppg  awayteam_pts  awayteam_ppg  Away_G_save%  \\\n",
       "0            67          1.97            48          1.41          71.3   \n",
       "1            46          1.35            43          1.26          64.4   \n",
       "2            67          1.97            43          1.26          70.3   \n",
       "3            53          1.56            34          1.00          65.8   \n",
       "4            56          1.65            49          1.44          69.6   \n",
       "\n",
       "   Away_p_save%  Home_G_save%  Home_p_save%  \n",
       "0          20.0          82.5          20.0  \n",
       "1          28.6          73.2           0.0  \n",
       "2           9.1          70.7           0.0  \n",
       "3          25.0          75.9          28.6  \n",
       "4          30.0          72.7          28.6  "
      ]
     },
     "execution_count": 517,
     "metadata": {},
     "output_type": "execute_result"
    }
   ],
   "source": [
    "merged_data_new.head(5)"
   ]
  },
  {
   "cell_type": "code",
   "execution_count": 518,
   "id": "8ca8e6e8",
   "metadata": {},
   "outputs": [],
   "source": [
    "#this is fonal dataset saving it as csv file"
   ]
  },
  {
   "cell_type": "code",
   "execution_count": 519,
   "id": "11bbc4c5",
   "metadata": {},
   "outputs": [],
   "source": [
    "merged_data_new.to_csv('final_dataset.csv', index=False)"
   ]
  },
  {
   "cell_type": "code",
   "execution_count": null,
   "id": "0cf5fc0a",
   "metadata": {},
   "outputs": [],
   "source": []
  },
  {
   "cell_type": "code",
   "execution_count": null,
   "id": "62729a32",
   "metadata": {},
   "outputs": [],
   "source": []
  },
  {
   "cell_type": "code",
   "execution_count": null,
   "id": "b77992dc",
   "metadata": {},
   "outputs": [],
   "source": []
  },
  {
   "cell_type": "code",
   "execution_count": null,
   "id": "5fdf5e4c",
   "metadata": {},
   "outputs": [],
   "source": []
  },
  {
   "cell_type": "code",
   "execution_count": null,
   "id": "24e60925",
   "metadata": {},
   "outputs": [],
   "source": []
  },
  {
   "cell_type": "markdown",
   "id": "068b9e6f",
   "metadata": {},
   "source": [
    "# Final_project"
   ]
  },
  {
   "cell_type": "code",
   "execution_count": null,
   "id": "68743837",
   "metadata": {},
   "outputs": [],
   "source": [
    "import numpy as np\n",
    "import pandas as pd\n",
    "import matplotlib.pyplot as plt\n",
    "from sklearn.decomposition import PCA\n",
    "from sklearn.model_selection import train_test_split"
   ]
  },
  {
   "cell_type": "code",
   "execution_count": null,
   "id": "feb90605",
   "metadata": {},
   "outputs": [],
   "source": [
    "import seaborn as sns"
   ]
  },
  {
   "cell_type": "code",
   "execution_count": null,
   "id": "c708cdd6",
   "metadata": {},
   "outputs": [],
   "source": [
    "from sklearn import svm"
   ]
  },
  {
   "cell_type": "code",
   "execution_count": 6,
   "id": "7be8b7ad",
   "metadata": {},
   "outputs": [],
   "source": [
    "msl=pd.read_csv(\"final_dataset.csv\")"
   ]
  },
  {
   "cell_type": "code",
   "execution_count": 7,
   "id": "bb928502",
   "metadata": {},
   "outputs": [
    {
     "data": {
      "text/html": [
       "<div>\n",
       "<style scoped>\n",
       "    .dataframe tbody tr th:only-of-type {\n",
       "        vertical-align: middle;\n",
       "    }\n",
       "\n",
       "    .dataframe tbody tr th {\n",
       "        vertical-align: top;\n",
       "    }\n",
       "\n",
       "    .dataframe thead th {\n",
       "        text-align: right;\n",
       "    }\n",
       "</style>\n",
       "<table border=\"1\" class=\"dataframe\">\n",
       "  <thead>\n",
       "    <tr style=\"text-align: right;\">\n",
       "      <th></th>\n",
       "      <th>Home_team</th>\n",
       "      <th>Away_team</th>\n",
       "      <th>HomeTeamGoal</th>\n",
       "      <th>AwayTeamGoal</th>\n",
       "      <th>Result</th>\n",
       "      <th>hometeam_pts</th>\n",
       "      <th>hometeam_ppg</th>\n",
       "      <th>awayteam_pts</th>\n",
       "      <th>awayteam_ppg</th>\n",
       "      <th>Away_G_save%</th>\n",
       "      <th>Away_p_save%</th>\n",
       "      <th>Home_G_save%</th>\n",
       "      <th>Home_p_save%</th>\n",
       "    </tr>\n",
       "  </thead>\n",
       "  <tbody>\n",
       "    <tr>\n",
       "      <th>0</th>\n",
       "      <td>Philadelphia</td>\n",
       "      <td>Minnesota Utd</td>\n",
       "      <td>1</td>\n",
       "      <td>1</td>\n",
       "      <td>Tie</td>\n",
       "      <td>67</td>\n",
       "      <td>1.97</td>\n",
       "      <td>48</td>\n",
       "      <td>1.41</td>\n",
       "      <td>71.3</td>\n",
       "      <td>20.0</td>\n",
       "      <td>82.5</td>\n",
       "      <td>20.0</td>\n",
       "    </tr>\n",
       "    <tr>\n",
       "      <th>1</th>\n",
       "      <td>Columbus Crew</td>\n",
       "      <td>Vancouver</td>\n",
       "      <td>4</td>\n",
       "      <td>0</td>\n",
       "      <td>Win</td>\n",
       "      <td>46</td>\n",
       "      <td>1.35</td>\n",
       "      <td>43</td>\n",
       "      <td>1.26</td>\n",
       "      <td>64.4</td>\n",
       "      <td>28.6</td>\n",
       "      <td>73.2</td>\n",
       "      <td>0.0</td>\n",
       "    </tr>\n",
       "    <tr>\n",
       "      <th>2</th>\n",
       "      <td>Los Angeles FC</td>\n",
       "      <td>Colorado Rapids</td>\n",
       "      <td>3</td>\n",
       "      <td>0</td>\n",
       "      <td>Win</td>\n",
       "      <td>67</td>\n",
       "      <td>1.97</td>\n",
       "      <td>43</td>\n",
       "      <td>1.26</td>\n",
       "      <td>70.3</td>\n",
       "      <td>9.1</td>\n",
       "      <td>70.7</td>\n",
       "      <td>0.0</td>\n",
       "    </tr>\n",
       "    <tr>\n",
       "      <th>3</th>\n",
       "      <td>Dallas</td>\n",
       "      <td>Toronto</td>\n",
       "      <td>1</td>\n",
       "      <td>1</td>\n",
       "      <td>Tie</td>\n",
       "      <td>53</td>\n",
       "      <td>1.56</td>\n",
       "      <td>34</td>\n",
       "      <td>1.00</td>\n",
       "      <td>65.8</td>\n",
       "      <td>25.0</td>\n",
       "      <td>75.9</td>\n",
       "      <td>28.6</td>\n",
       "    </tr>\n",
       "    <tr>\n",
       "      <th>4</th>\n",
       "      <td>Austin</td>\n",
       "      <td>Cincinnati</td>\n",
       "      <td>5</td>\n",
       "      <td>0</td>\n",
       "      <td>Win</td>\n",
       "      <td>56</td>\n",
       "      <td>1.65</td>\n",
       "      <td>49</td>\n",
       "      <td>1.44</td>\n",
       "      <td>69.6</td>\n",
       "      <td>30.0</td>\n",
       "      <td>72.7</td>\n",
       "      <td>28.6</td>\n",
       "    </tr>\n",
       "  </tbody>\n",
       "</table>\n",
       "</div>"
      ],
      "text/plain": [
       "        Home_team        Away_team  HomeTeamGoal  AwayTeamGoal Result  \\\n",
       "0    Philadelphia    Minnesota Utd             1             1    Tie   \n",
       "1   Columbus Crew        Vancouver             4             0    Win   \n",
       "2  Los Angeles FC  Colorado Rapids             3             0    Win   \n",
       "3          Dallas          Toronto             1             1    Tie   \n",
       "4          Austin       Cincinnati             5             0    Win   \n",
       "\n",
       "   hometeam_pts  hometeam_ppg  awayteam_pts  awayteam_ppg  Away_G_save%  \\\n",
       "0            67          1.97            48          1.41          71.3   \n",
       "1            46          1.35            43          1.26          64.4   \n",
       "2            67          1.97            43          1.26          70.3   \n",
       "3            53          1.56            34          1.00          65.8   \n",
       "4            56          1.65            49          1.44          69.6   \n",
       "\n",
       "   Away_p_save%  Home_G_save%  Home_p_save%  \n",
       "0          20.0          82.5          20.0  \n",
       "1          28.6          73.2           0.0  \n",
       "2           9.1          70.7           0.0  \n",
       "3          25.0          75.9          28.6  \n",
       "4          30.0          72.7          28.6  "
      ]
     },
     "execution_count": 7,
     "metadata": {},
     "output_type": "execute_result"
    }
   ],
   "source": [
    "msl.head()"
   ]
  },
  {
   "cell_type": "code",
   "execution_count": 8,
   "id": "88bc4f23",
   "metadata": {},
   "outputs": [
    {
     "data": {
      "text/plain": [
       "(935, 13)"
      ]
     },
     "execution_count": 8,
     "metadata": {},
     "output_type": "execute_result"
    }
   ],
   "source": [
    "msl.shape"
   ]
  },
  {
   "cell_type": "code",
   "execution_count": 9,
   "id": "780174c7",
   "metadata": {},
   "outputs": [
    {
     "name": "stdout",
     "output_type": "stream",
     "text": [
      "<class 'pandas.core.frame.DataFrame'>\n",
      "RangeIndex: 935 entries, 0 to 934\n",
      "Data columns (total 13 columns):\n",
      " #   Column        Non-Null Count  Dtype  \n",
      "---  ------        --------------  -----  \n",
      " 0   Home_team     935 non-null    object \n",
      " 1   Away_team     935 non-null    object \n",
      " 2   HomeTeamGoal  935 non-null    int64  \n",
      " 3   AwayTeamGoal  935 non-null    int64  \n",
      " 4   Result        935 non-null    object \n",
      " 5   hometeam_pts  935 non-null    int64  \n",
      " 6   hometeam_ppg  935 non-null    float64\n",
      " 7   awayteam_pts  935 non-null    int64  \n",
      " 8   awayteam_ppg  935 non-null    float64\n",
      " 9   Away_G_save%  935 non-null    float64\n",
      " 10  Away_p_save%  935 non-null    float64\n",
      " 11  Home_G_save%  935 non-null    float64\n",
      " 12  Home_p_save%  935 non-null    float64\n",
      "dtypes: float64(6), int64(4), object(3)\n",
      "memory usage: 95.1+ KB\n"
     ]
    }
   ],
   "source": [
    "msl.info()"
   ]
  },
  {
   "cell_type": "code",
   "execution_count": 10,
   "id": "02ba1d0a",
   "metadata": {},
   "outputs": [
    {
     "data": {
      "text/html": [
       "<div>\n",
       "<style scoped>\n",
       "    .dataframe tbody tr th:only-of-type {\n",
       "        vertical-align: middle;\n",
       "    }\n",
       "\n",
       "    .dataframe tbody tr th {\n",
       "        vertical-align: top;\n",
       "    }\n",
       "\n",
       "    .dataframe thead th {\n",
       "        text-align: right;\n",
       "    }\n",
       "</style>\n",
       "<table border=\"1\" class=\"dataframe\">\n",
       "  <thead>\n",
       "    <tr style=\"text-align: right;\">\n",
       "      <th></th>\n",
       "      <th>HomeTeamGoal</th>\n",
       "      <th>AwayTeamGoal</th>\n",
       "      <th>hometeam_pts</th>\n",
       "      <th>hometeam_ppg</th>\n",
       "      <th>awayteam_pts</th>\n",
       "      <th>awayteam_ppg</th>\n",
       "      <th>Away_G_save%</th>\n",
       "      <th>Away_p_save%</th>\n",
       "      <th>Home_G_save%</th>\n",
       "      <th>Home_p_save%</th>\n",
       "    </tr>\n",
       "  </thead>\n",
       "  <tbody>\n",
       "    <tr>\n",
       "      <th>count</th>\n",
       "      <td>935.000000</td>\n",
       "      <td>935.000000</td>\n",
       "      <td>935.000000</td>\n",
       "      <td>935.000000</td>\n",
       "      <td>935.000000</td>\n",
       "      <td>935.000000</td>\n",
       "      <td>935.000000</td>\n",
       "      <td>935.000000</td>\n",
       "      <td>935.000000</td>\n",
       "      <td>935.000000</td>\n",
       "    </tr>\n",
       "    <tr>\n",
       "      <th>mean</th>\n",
       "      <td>1.691979</td>\n",
       "      <td>1.185027</td>\n",
       "      <td>46.872727</td>\n",
       "      <td>1.378545</td>\n",
       "      <td>46.872727</td>\n",
       "      <td>1.378545</td>\n",
       "      <td>69.447273</td>\n",
       "      <td>16.178182</td>\n",
       "      <td>69.447273</td>\n",
       "      <td>16.178182</td>\n",
       "    </tr>\n",
       "    <tr>\n",
       "      <th>std</th>\n",
       "      <td>1.266979</td>\n",
       "      <td>1.089659</td>\n",
       "      <td>9.480503</td>\n",
       "      <td>0.278720</td>\n",
       "      <td>9.480503</td>\n",
       "      <td>0.278720</td>\n",
       "      <td>4.709336</td>\n",
       "      <td>15.019541</td>\n",
       "      <td>4.709336</td>\n",
       "      <td>15.019541</td>\n",
       "    </tr>\n",
       "    <tr>\n",
       "      <th>min</th>\n",
       "      <td>0.000000</td>\n",
       "      <td>0.000000</td>\n",
       "      <td>27.000000</td>\n",
       "      <td>0.790000</td>\n",
       "      <td>27.000000</td>\n",
       "      <td>0.790000</td>\n",
       "      <td>61.600000</td>\n",
       "      <td>0.000000</td>\n",
       "      <td>61.600000</td>\n",
       "      <td>0.000000</td>\n",
       "    </tr>\n",
       "    <tr>\n",
       "      <th>25%</th>\n",
       "      <td>1.000000</td>\n",
       "      <td>0.000000</td>\n",
       "      <td>40.000000</td>\n",
       "      <td>1.180000</td>\n",
       "      <td>40.000000</td>\n",
       "      <td>1.180000</td>\n",
       "      <td>65.800000</td>\n",
       "      <td>0.000000</td>\n",
       "      <td>65.800000</td>\n",
       "      <td>0.000000</td>\n",
       "    </tr>\n",
       "    <tr>\n",
       "      <th>50%</th>\n",
       "      <td>2.000000</td>\n",
       "      <td>1.000000</td>\n",
       "      <td>47.000000</td>\n",
       "      <td>1.380000</td>\n",
       "      <td>47.000000</td>\n",
       "      <td>1.380000</td>\n",
       "      <td>69.300000</td>\n",
       "      <td>14.300000</td>\n",
       "      <td>69.300000</td>\n",
       "      <td>14.300000</td>\n",
       "    </tr>\n",
       "    <tr>\n",
       "      <th>75%</th>\n",
       "      <td>2.000000</td>\n",
       "      <td>2.000000</td>\n",
       "      <td>53.000000</td>\n",
       "      <td>1.560000</td>\n",
       "      <td>53.000000</td>\n",
       "      <td>1.560000</td>\n",
       "      <td>73.200000</td>\n",
       "      <td>28.600000</td>\n",
       "      <td>73.200000</td>\n",
       "      <td>28.600000</td>\n",
       "    </tr>\n",
       "    <tr>\n",
       "      <th>max</th>\n",
       "      <td>7.000000</td>\n",
       "      <td>6.000000</td>\n",
       "      <td>67.000000</td>\n",
       "      <td>1.970000</td>\n",
       "      <td>67.000000</td>\n",
       "      <td>1.970000</td>\n",
       "      <td>82.500000</td>\n",
       "      <td>50.000000</td>\n",
       "      <td>82.500000</td>\n",
       "      <td>50.000000</td>\n",
       "    </tr>\n",
       "  </tbody>\n",
       "</table>\n",
       "</div>"
      ],
      "text/plain": [
       "       HomeTeamGoal  AwayTeamGoal  hometeam_pts  hometeam_ppg  awayteam_pts  \\\n",
       "count    935.000000    935.000000    935.000000    935.000000    935.000000   \n",
       "mean       1.691979      1.185027     46.872727      1.378545     46.872727   \n",
       "std        1.266979      1.089659      9.480503      0.278720      9.480503   \n",
       "min        0.000000      0.000000     27.000000      0.790000     27.000000   \n",
       "25%        1.000000      0.000000     40.000000      1.180000     40.000000   \n",
       "50%        2.000000      1.000000     47.000000      1.380000     47.000000   \n",
       "75%        2.000000      2.000000     53.000000      1.560000     53.000000   \n",
       "max        7.000000      6.000000     67.000000      1.970000     67.000000   \n",
       "\n",
       "       awayteam_ppg  Away_G_save%  Away_p_save%  Home_G_save%  Home_p_save%  \n",
       "count    935.000000    935.000000    935.000000    935.000000    935.000000  \n",
       "mean       1.378545     69.447273     16.178182     69.447273     16.178182  \n",
       "std        0.278720      4.709336     15.019541      4.709336     15.019541  \n",
       "min        0.790000     61.600000      0.000000     61.600000      0.000000  \n",
       "25%        1.180000     65.800000      0.000000     65.800000      0.000000  \n",
       "50%        1.380000     69.300000     14.300000     69.300000     14.300000  \n",
       "75%        1.560000     73.200000     28.600000     73.200000     28.600000  \n",
       "max        1.970000     82.500000     50.000000     82.500000     50.000000  "
      ]
     },
     "execution_count": 10,
     "metadata": {},
     "output_type": "execute_result"
    }
   ],
   "source": [
    "msl.describe()"
   ]
  },
  {
   "cell_type": "code",
   "execution_count": 11,
   "id": "a52f9a8f",
   "metadata": {},
   "outputs": [
    {
     "data": {
      "text/plain": [
       "Home_team       0\n",
       "Away_team       0\n",
       "HomeTeamGoal    0\n",
       "AwayTeamGoal    0\n",
       "Result          0\n",
       "hometeam_pts    0\n",
       "hometeam_ppg    0\n",
       "awayteam_pts    0\n",
       "awayteam_ppg    0\n",
       "Away_G_save%    0\n",
       "Away_p_save%    0\n",
       "Home_G_save%    0\n",
       "Home_p_save%    0\n",
       "dtype: int64"
      ]
     },
     "execution_count": 11,
     "metadata": {},
     "output_type": "execute_result"
    }
   ],
   "source": [
    "msl.isnull().sum()"
   ]
  },
  {
   "cell_type": "code",
   "execution_count": 12,
   "id": "595bb328",
   "metadata": {},
   "outputs": [],
   "source": [
    "result_counts = msl['Result'].value_counts()"
   ]
  },
  {
   "cell_type": "code",
   "execution_count": 13,
   "id": "5757bb9e",
   "metadata": {},
   "outputs": [
    {
     "data": {
      "text/plain": [
       "Text(0, 0.5, 'Count')"
      ]
     },
     "execution_count": 13,
     "metadata": {},
     "output_type": "execute_result"
    },
    {
     "data": {
      "image/png": "[encoded data removed]",
      "text/plain": [
       "<Figure size 640x480 with 1 Axes>"
      ]
     },
     "metadata": {},
     "output_type": "display_data"
    }
   ],
   "source": [
    "# Create a bar plot\n",
    "result_counts.plot(kind='bar')\n",
    "\n",
    "# Set the title and labels for the plot\n",
    "plt.title('home team Results')\n",
    "plt.xlabel('Result')\n",
    "plt.ylabel('Count')"
   ]
  },
  {
   "cell_type": "code",
   "execution_count": 14,
   "id": "e05d6c61",
   "metadata": {},
   "outputs": [],
   "source": [
    "result_counts = msl['HomeTeamGoal'].value_counts()"
   ]
  },
  {
   "cell_type": "code",
   "execution_count": 15,
   "id": "f6ccd249",
   "metadata": {},
   "outputs": [
    {
     "data": {
      "text/plain": [
       "Text(0, 0.5, 'Count')"
      ]
     },
     "execution_count": 15,
     "metadata": {},
     "output_type": "execute_result"
    },
    {
     "data": {
      "image/png": "[encoded data removed]",
      "text/plain": [
       "<Figure size 640x480 with 1 Axes>"
      ]
     },
     "metadata": {},
     "output_type": "display_data"
    }
   ],
   "source": [
    "# Create a bar plot for home team goal frequency\n",
    "result_counts.plot(kind='bar')\n",
    "plt.title('home team goal frequency')\n",
    "plt.xlabel('number of goal')\n",
    "plt.ylabel('Count')"
   ]
  },
  {
   "cell_type": "code",
   "execution_count": 16,
   "id": "50b5ad64",
   "metadata": {},
   "outputs": [
    {
     "data": {
      "text/plain": [
       "Text(0, 0.5, 'Count')"
      ]
     },
     "execution_count": 16,
     "metadata": {},
     "output_type": "execute_result"
    },
    {
     "data": {
      "image/png": "[encoded data removed]",
      "text/plain": [
       "<Figure size 640x480 with 1 Axes>"
      ]
     },
     "metadata": {},
     "output_type": "display_data"
    }
   ],
   "source": [
    "# Create a bar plot for away team goal frequency\n",
    "result_counts = msl['AwayTeamGoal'].value_counts()\n",
    "# Create a bar plot\n",
    "result_counts.plot(kind='bar')\n",
    "\n",
    "# Set the title and labels for the plot\n",
    "plt.title('Away team goal frequency')\n",
    "plt.xlabel('number of goal')\n",
    "plt.ylabel('Count')"
   ]
  },
  {
   "cell_type": "code",
   "execution_count": 17,
   "id": "7152d16d",
   "metadata": {},
   "outputs": [
    {
     "data": {
      "image/png": "[encoded data removed]",
      "text/plain": [
       "<Figure size 640x480 with 1 Axes>"
      ]
     },
     "metadata": {},
     "output_type": "display_data"
    }
   ],
   "source": [
    "goals_df = msl[['HomeTeamGoal', 'AwayTeamGoal']]\n",
    "goals_melted = goals_df.melt(var_name='team', value_name='goals')\n",
    "sns.countplot(x='team', hue='goals', data=goals_melted)\n",
    "# Set the title and labels for the plot\n",
    "plt.title('Distribution of home team and away team goals')\n",
    "plt.xlabel('Team')\n",
    "plt.ylabel('Count')\n",
    "plt.show()"
   ]
  },
  {
   "cell_type": "code",
   "execution_count": null,
   "id": "8453a8de",
   "metadata": {},
   "outputs": [],
   "source": []
  },
  {
   "cell_type": "code",
   "execution_count": 18,
   "id": "9963c393",
   "metadata": {},
   "outputs": [],
   "source": [
    "def convert_result(result):\n",
    "    if result == 'Win':\n",
    "        return 1\n",
    "    elif result == 'Tie':\n",
    "        return 0\n",
    "    else:\n",
    "        return -1"
   ]
  },
  {
   "cell_type": "code",
   "execution_count": 19,
   "id": "72978f75",
   "metadata": {},
   "outputs": [],
   "source": [
    "msl['Result'] =msl['Result'].apply(convert_result)"
   ]
  },
  {
   "cell_type": "code",
   "execution_count": 20,
   "id": "d8890ad3",
   "metadata": {},
   "outputs": [
    {
     "data": {
      "text/html": [
       "<div>\n",
       "<style scoped>\n",
       "    .dataframe tbody tr th:only-of-type {\n",
       "        vertical-align: middle;\n",
       "    }\n",
       "\n",
       "    .dataframe tbody tr th {\n",
       "        vertical-align: top;\n",
       "    }\n",
       "\n",
       "    .dataframe thead th {\n",
       "        text-align: right;\n",
       "    }\n",
       "</style>\n",
       "<table border=\"1\" class=\"dataframe\">\n",
       "  <thead>\n",
       "    <tr style=\"text-align: right;\">\n",
       "      <th></th>\n",
       "      <th>Home_team</th>\n",
       "      <th>Away_team</th>\n",
       "      <th>HomeTeamGoal</th>\n",
       "      <th>AwayTeamGoal</th>\n",
       "      <th>Result</th>\n",
       "      <th>hometeam_pts</th>\n",
       "      <th>hometeam_ppg</th>\n",
       "      <th>awayteam_pts</th>\n",
       "      <th>awayteam_ppg</th>\n",
       "      <th>Away_G_save%</th>\n",
       "      <th>Away_p_save%</th>\n",
       "      <th>Home_G_save%</th>\n",
       "      <th>Home_p_save%</th>\n",
       "    </tr>\n",
       "  </thead>\n",
       "  <tbody>\n",
       "    <tr>\n",
       "      <th>0</th>\n",
       "      <td>Philadelphia</td>\n",
       "      <td>Minnesota Utd</td>\n",
       "      <td>1</td>\n",
       "      <td>1</td>\n",
       "      <td>0</td>\n",
       "      <td>67</td>\n",
       "      <td>1.97</td>\n",
       "      <td>48</td>\n",
       "      <td>1.41</td>\n",
       "      <td>71.3</td>\n",
       "      <td>20.0</td>\n",
       "      <td>82.5</td>\n",
       "      <td>20.0</td>\n",
       "    </tr>\n",
       "    <tr>\n",
       "      <th>1</th>\n",
       "      <td>Columbus Crew</td>\n",
       "      <td>Vancouver</td>\n",
       "      <td>4</td>\n",
       "      <td>0</td>\n",
       "      <td>1</td>\n",
       "      <td>46</td>\n",
       "      <td>1.35</td>\n",
       "      <td>43</td>\n",
       "      <td>1.26</td>\n",
       "      <td>64.4</td>\n",
       "      <td>28.6</td>\n",
       "      <td>73.2</td>\n",
       "      <td>0.0</td>\n",
       "    </tr>\n",
       "  </tbody>\n",
       "</table>\n",
       "</div>"
      ],
      "text/plain": [
       "       Home_team      Away_team  HomeTeamGoal  AwayTeamGoal  Result  \\\n",
       "0   Philadelphia  Minnesota Utd             1             1       0   \n",
       "1  Columbus Crew      Vancouver             4             0       1   \n",
       "\n",
       "   hometeam_pts  hometeam_ppg  awayteam_pts  awayteam_ppg  Away_G_save%  \\\n",
       "0            67          1.97            48          1.41          71.3   \n",
       "1            46          1.35            43          1.26          64.4   \n",
       "\n",
       "   Away_p_save%  Home_G_save%  Home_p_save%  \n",
       "0          20.0          82.5          20.0  \n",
       "1          28.6          73.2           0.0  "
      ]
     },
     "execution_count": 20,
     "metadata": {},
     "output_type": "execute_result"
    }
   ],
   "source": [
    "msl.head(2)"
   ]
  },
  {
   "cell_type": "code",
   "execution_count": 21,
   "id": "c706ce56",
   "metadata": {},
   "outputs": [
    {
     "data": {
      "text/html": [
       "<div>\n",
       "<style scoped>\n",
       "    .dataframe tbody tr th:only-of-type {\n",
       "        vertical-align: middle;\n",
       "    }\n",
       "\n",
       "    .dataframe tbody tr th {\n",
       "        vertical-align: top;\n",
       "    }\n",
       "\n",
       "    .dataframe thead th {\n",
       "        text-align: right;\n",
       "    }\n",
       "</style>\n",
       "<table border=\"1\" class=\"dataframe\">\n",
       "  <thead>\n",
       "    <tr style=\"text-align: right;\">\n",
       "      <th></th>\n",
       "      <th>HomeTeamGoal</th>\n",
       "      <th>AwayTeamGoal</th>\n",
       "      <th>Result</th>\n",
       "      <th>hometeam_pts</th>\n",
       "      <th>hometeam_ppg</th>\n",
       "      <th>awayteam_pts</th>\n",
       "      <th>awayteam_ppg</th>\n",
       "      <th>Away_G_save%</th>\n",
       "      <th>Away_p_save%</th>\n",
       "      <th>Home_G_save%</th>\n",
       "      <th>Home_p_save%</th>\n",
       "    </tr>\n",
       "  </thead>\n",
       "  <tbody>\n",
       "    <tr>\n",
       "      <th>HomeTeamGoal</th>\n",
       "      <td>1.000000</td>\n",
       "      <td>0.051407</td>\n",
       "      <td>0.575385</td>\n",
       "      <td>0.115194</td>\n",
       "      <td>0.115155</td>\n",
       "      <td>-0.154531</td>\n",
       "      <td>-0.154988</td>\n",
       "      <td>-0.090041</td>\n",
       "      <td>0.091514</td>\n",
       "      <td>0.064225</td>\n",
       "      <td>0.001644</td>\n",
       "    </tr>\n",
       "    <tr>\n",
       "      <th>AwayTeamGoal</th>\n",
       "      <td>0.051407</td>\n",
       "      <td>1.000000</td>\n",
       "      <td>-0.594607</td>\n",
       "      <td>-0.076278</td>\n",
       "      <td>-0.076775</td>\n",
       "      <td>0.054413</td>\n",
       "      <td>0.054683</td>\n",
       "      <td>0.047992</td>\n",
       "      <td>0.046099</td>\n",
       "      <td>-0.110555</td>\n",
       "      <td>0.009523</td>\n",
       "    </tr>\n",
       "    <tr>\n",
       "      <th>Result</th>\n",
       "      <td>0.575385</td>\n",
       "      <td>-0.594607</td>\n",
       "      <td>1.000000</td>\n",
       "      <td>0.101738</td>\n",
       "      <td>0.101605</td>\n",
       "      <td>-0.133161</td>\n",
       "      <td>-0.133288</td>\n",
       "      <td>-0.071431</td>\n",
       "      <td>0.018918</td>\n",
       "      <td>0.074481</td>\n",
       "      <td>-0.013952</td>\n",
       "    </tr>\n",
       "    <tr>\n",
       "      <th>hometeam_pts</th>\n",
       "      <td>0.115194</td>\n",
       "      <td>-0.076278</td>\n",
       "      <td>0.101738</td>\n",
       "      <td>1.000000</td>\n",
       "      <td>0.999953</td>\n",
       "      <td>-0.070724</td>\n",
       "      <td>-0.070698</td>\n",
       "      <td>-0.042932</td>\n",
       "      <td>0.015823</td>\n",
       "      <td>0.399572</td>\n",
       "      <td>-0.228391</td>\n",
       "    </tr>\n",
       "    <tr>\n",
       "      <th>hometeam_ppg</th>\n",
       "      <td>0.115155</td>\n",
       "      <td>-0.076775</td>\n",
       "      <td>0.101605</td>\n",
       "      <td>0.999953</td>\n",
       "      <td>1.000000</td>\n",
       "      <td>-0.070714</td>\n",
       "      <td>-0.070694</td>\n",
       "      <td>-0.043129</td>\n",
       "      <td>0.015793</td>\n",
       "      <td>0.400247</td>\n",
       "      <td>-0.230011</td>\n",
       "    </tr>\n",
       "    <tr>\n",
       "      <th>awayteam_pts</th>\n",
       "      <td>-0.154531</td>\n",
       "      <td>0.054413</td>\n",
       "      <td>-0.133161</td>\n",
       "      <td>-0.070724</td>\n",
       "      <td>-0.070714</td>\n",
       "      <td>1.000000</td>\n",
       "      <td>0.999953</td>\n",
       "      <td>0.399572</td>\n",
       "      <td>-0.228391</td>\n",
       "      <td>-0.025973</td>\n",
       "      <td>0.006868</td>\n",
       "    </tr>\n",
       "    <tr>\n",
       "      <th>awayteam_ppg</th>\n",
       "      <td>-0.154988</td>\n",
       "      <td>0.054683</td>\n",
       "      <td>-0.133288</td>\n",
       "      <td>-0.070698</td>\n",
       "      <td>-0.070694</td>\n",
       "      <td>0.999953</td>\n",
       "      <td>1.000000</td>\n",
       "      <td>0.400247</td>\n",
       "      <td>-0.230011</td>\n",
       "      <td>-0.026302</td>\n",
       "      <td>0.006538</td>\n",
       "    </tr>\n",
       "    <tr>\n",
       "      <th>Away_G_save%</th>\n",
       "      <td>-0.090041</td>\n",
       "      <td>0.047992</td>\n",
       "      <td>-0.071431</td>\n",
       "      <td>-0.042932</td>\n",
       "      <td>-0.043129</td>\n",
       "      <td>0.399572</td>\n",
       "      <td>0.400247</td>\n",
       "      <td>1.000000</td>\n",
       "      <td>0.244594</td>\n",
       "      <td>-0.039737</td>\n",
       "      <td>0.038699</td>\n",
       "    </tr>\n",
       "    <tr>\n",
       "      <th>Away_p_save%</th>\n",
       "      <td>0.091514</td>\n",
       "      <td>0.046099</td>\n",
       "      <td>0.018918</td>\n",
       "      <td>0.015823</td>\n",
       "      <td>0.015793</td>\n",
       "      <td>-0.228391</td>\n",
       "      <td>-0.230011</td>\n",
       "      <td>0.244594</td>\n",
       "      <td>1.000000</td>\n",
       "      <td>0.026232</td>\n",
       "      <td>0.003070</td>\n",
       "    </tr>\n",
       "    <tr>\n",
       "      <th>Home_G_save%</th>\n",
       "      <td>0.064225</td>\n",
       "      <td>-0.110555</td>\n",
       "      <td>0.074481</td>\n",
       "      <td>0.399572</td>\n",
       "      <td>0.400247</td>\n",
       "      <td>-0.025973</td>\n",
       "      <td>-0.026302</td>\n",
       "      <td>-0.039737</td>\n",
       "      <td>0.026232</td>\n",
       "      <td>1.000000</td>\n",
       "      <td>0.244594</td>\n",
       "    </tr>\n",
       "    <tr>\n",
       "      <th>Home_p_save%</th>\n",
       "      <td>0.001644</td>\n",
       "      <td>0.009523</td>\n",
       "      <td>-0.013952</td>\n",
       "      <td>-0.228391</td>\n",
       "      <td>-0.230011</td>\n",
       "      <td>0.006868</td>\n",
       "      <td>0.006538</td>\n",
       "      <td>0.038699</td>\n",
       "      <td>0.003070</td>\n",
       "      <td>0.244594</td>\n",
       "      <td>1.000000</td>\n",
       "    </tr>\n",
       "  </tbody>\n",
       "</table>\n",
       "</div>"
      ],
      "text/plain": [
       "              HomeTeamGoal  AwayTeamGoal    Result  hometeam_pts  \\\n",
       "HomeTeamGoal      1.000000      0.051407  0.575385      0.115194   \n",
       "AwayTeamGoal      0.051407      1.000000 -0.594607     -0.076278   \n",
       "Result            0.575385     -0.594607  1.000000      0.101738   \n",
       "hometeam_pts      0.115194     -0.076278  0.101738      1.000000   \n",
       "hometeam_ppg      0.115155     -0.076775  0.101605      0.999953   \n",
       "awayteam_pts     -0.154531      0.054413 -0.133161     -0.070724   \n",
       "awayteam_ppg     -0.154988      0.054683 -0.133288     -0.070698   \n",
       "Away_G_save%     -0.090041      0.047992 -0.071431     -0.042932   \n",
       "Away_p_save%      0.091514      0.046099  0.018918      0.015823   \n",
       "Home_G_save%      0.064225     -0.110555  0.074481      0.399572   \n",
       "Home_p_save%      0.001644      0.009523 -0.013952     -0.228391   \n",
       "\n",
       "              hometeam_ppg  awayteam_pts  awayteam_ppg  Away_G_save%  \\\n",
       "HomeTeamGoal      0.115155     -0.154531     -0.154988     -0.090041   \n",
       "AwayTeamGoal     -0.076775      0.054413      0.054683      0.047992   \n",
       "Result            0.101605     -0.133161     -0.133288     -0.071431   \n",
       "hometeam_pts      0.999953     -0.070724     -0.070698     -0.042932   \n",
       "hometeam_ppg      1.000000     -0.070714     -0.070694     -0.043129   \n",
       "awayteam_pts     -0.070714      1.000000      0.999953      0.399572   \n",
       "awayteam_ppg     -0.070694      0.999953      1.000000      0.400247   \n",
       "Away_G_save%     -0.043129      0.399572      0.400247      1.000000   \n",
       "Away_p_save%      0.015793     -0.228391     -0.230011      0.244594   \n",
       "Home_G_save%      0.400247     -0.025973     -0.026302     -0.039737   \n",
       "Home_p_save%     -0.230011      0.006868      0.006538      0.038699   \n",
       "\n",
       "              Away_p_save%  Home_G_save%  Home_p_save%  \n",
       "HomeTeamGoal      0.091514      0.064225      0.001644  \n",
       "AwayTeamGoal      0.046099     -0.110555      0.009523  \n",
       "Result            0.018918      0.074481     -0.013952  \n",
       "hometeam_pts      0.015823      0.399572     -0.228391  \n",
       "hometeam_ppg      0.015793      0.400247     -0.230011  \n",
       "awayteam_pts     -0.228391     -0.025973      0.006868  \n",
       "awayteam_ppg     -0.230011     -0.026302      0.006538  \n",
       "Away_G_save%      0.244594     -0.039737      0.038699  \n",
       "Away_p_save%      1.000000      0.026232      0.003070  \n",
       "Home_G_save%      0.026232      1.000000      0.244594  \n",
       "Home_p_save%      0.003070      0.244594      1.000000  "
      ]
     },
     "execution_count": 21,
     "metadata": {},
     "output_type": "execute_result"
    }
   ],
   "source": [
    "msl.corr()"
   ]
  },
  {
   "cell_type": "code",
   "execution_count": 22,
   "id": "1d1e33ff",
   "metadata": {},
   "outputs": [
    {
     "data": {
      "text/plain": [
       "<AxesSubplot:>"
      ]
     },
     "execution_count": 22,
     "metadata": {},
     "output_type": "execute_result"
    },
    {
     "data": {
      "image/png": "[encoded data removed]",
      "text/plain": [
       "<Figure size 640x480 with 2 Axes>"
      ]
     },
     "metadata": {},
     "output_type": "display_data"
    }
   ],
   "source": [
    "sns.heatmap(msl.corr())"
   ]
  },
  {
   "cell_type": "code",
   "execution_count": 23,
   "id": "8b0dc470",
   "metadata": {},
   "outputs": [],
   "source": [
    "#we cannot use home team goal and away team goal for winner prediction because we cannot have this data before game result"
   ]
  },
  {
   "cell_type": "code",
   "execution_count": 24,
   "id": "09a6598c",
   "metadata": {},
   "outputs": [],
   "source": [
    "msl = msl.drop(['HomeTeamGoal', 'AwayTeamGoal'], axis=1)"
   ]
  },
  {
   "cell_type": "code",
   "execution_count": 25,
   "id": "ac598096",
   "metadata": {},
   "outputs": [
    {
     "data": {
      "text/html": [
       "<div>\n",
       "<style scoped>\n",
       "    .dataframe tbody tr th:only-of-type {\n",
       "        vertical-align: middle;\n",
       "    }\n",
       "\n",
       "    .dataframe tbody tr th {\n",
       "        vertical-align: top;\n",
       "    }\n",
       "\n",
       "    .dataframe thead th {\n",
       "        text-align: right;\n",
       "    }\n",
       "</style>\n",
       "<table border=\"1\" class=\"dataframe\">\n",
       "  <thead>\n",
       "    <tr style=\"text-align: right;\">\n",
       "      <th></th>\n",
       "      <th>Home_team</th>\n",
       "      <th>Away_team</th>\n",
       "      <th>Result</th>\n",
       "      <th>hometeam_pts</th>\n",
       "      <th>hometeam_ppg</th>\n",
       "      <th>awayteam_pts</th>\n",
       "      <th>awayteam_ppg</th>\n",
       "      <th>Away_G_save%</th>\n",
       "      <th>Away_p_save%</th>\n",
       "      <th>Home_G_save%</th>\n",
       "      <th>Home_p_save%</th>\n",
       "    </tr>\n",
       "  </thead>\n",
       "  <tbody>\n",
       "    <tr>\n",
       "      <th>0</th>\n",
       "      <td>Philadelphia</td>\n",
       "      <td>Minnesota Utd</td>\n",
       "      <td>0</td>\n",
       "      <td>67</td>\n",
       "      <td>1.97</td>\n",
       "      <td>48</td>\n",
       "      <td>1.41</td>\n",
       "      <td>71.3</td>\n",
       "      <td>20.0</td>\n",
       "      <td>82.5</td>\n",
       "      <td>20.0</td>\n",
       "    </tr>\n",
       "    <tr>\n",
       "      <th>1</th>\n",
       "      <td>Columbus Crew</td>\n",
       "      <td>Vancouver</td>\n",
       "      <td>1</td>\n",
       "      <td>46</td>\n",
       "      <td>1.35</td>\n",
       "      <td>43</td>\n",
       "      <td>1.26</td>\n",
       "      <td>64.4</td>\n",
       "      <td>28.6</td>\n",
       "      <td>73.2</td>\n",
       "      <td>0.0</td>\n",
       "    </tr>\n",
       "  </tbody>\n",
       "</table>\n",
       "</div>"
      ],
      "text/plain": [
       "       Home_team      Away_team  Result  hometeam_pts  hometeam_ppg  \\\n",
       "0   Philadelphia  Minnesota Utd       0            67          1.97   \n",
       "1  Columbus Crew      Vancouver       1            46          1.35   \n",
       "\n",
       "   awayteam_pts  awayteam_ppg  Away_G_save%  Away_p_save%  Home_G_save%  \\\n",
       "0            48          1.41          71.3          20.0          82.5   \n",
       "1            43          1.26          64.4          28.6          73.2   \n",
       "\n",
       "   Home_p_save%  \n",
       "0          20.0  \n",
       "1           0.0  "
      ]
     },
     "execution_count": 25,
     "metadata": {},
     "output_type": "execute_result"
    }
   ],
   "source": [
    "msl.head(2)"
   ]
  },
  {
   "cell_type": "code",
   "execution_count": 26,
   "id": "a5658885",
   "metadata": {},
   "outputs": [],
   "source": [
    "#Applying one hot coding on both column home team and away team"
   ]
  },
  {
   "cell_type": "code",
   "execution_count": 27,
   "id": "1fc95e53",
   "metadata": {},
   "outputs": [],
   "source": [
    "msl_encoded = pd.get_dummies(msl, columns=['Home_team', 'Away_team'])"
   ]
  },
  {
   "cell_type": "code",
   "execution_count": 28,
   "id": "0d29a634",
   "metadata": {},
   "outputs": [
    {
     "data": {
      "text/html": [
       "<div>\n",
       "<style scoped>\n",
       "    .dataframe tbody tr th:only-of-type {\n",
       "        vertical-align: middle;\n",
       "    }\n",
       "\n",
       "    .dataframe tbody tr th {\n",
       "        vertical-align: top;\n",
       "    }\n",
       "\n",
       "    .dataframe thead th {\n",
       "        text-align: right;\n",
       "    }\n",
       "</style>\n",
       "<table border=\"1\" class=\"dataframe\">\n",
       "  <thead>\n",
       "    <tr style=\"text-align: right;\">\n",
       "      <th></th>\n",
       "      <th>Result</th>\n",
       "      <th>hometeam_pts</th>\n",
       "      <th>hometeam_ppg</th>\n",
       "      <th>awayteam_pts</th>\n",
       "      <th>awayteam_ppg</th>\n",
       "      <th>Away_G_save%</th>\n",
       "      <th>Away_p_save%</th>\n",
       "      <th>Home_G_save%</th>\n",
       "      <th>Home_p_save%</th>\n",
       "      <th>Home_team_Atlanta Utd</th>\n",
       "      <th>...</th>\n",
       "      <th>Away_team_New York RB</th>\n",
       "      <th>Away_team_Orlando City</th>\n",
       "      <th>Away_team_Philadelphia</th>\n",
       "      <th>Away_team_Portland</th>\n",
       "      <th>Away_team_Real Salt Lake</th>\n",
       "      <th>Away_team_SJ Earthquakes</th>\n",
       "      <th>Away_team_Seattle</th>\n",
       "      <th>Away_team_Sporting KC</th>\n",
       "      <th>Away_team_Toronto</th>\n",
       "      <th>Away_team_Vancouver</th>\n",
       "    </tr>\n",
       "  </thead>\n",
       "  <tbody>\n",
       "    <tr>\n",
       "      <th>0</th>\n",
       "      <td>0</td>\n",
       "      <td>67</td>\n",
       "      <td>1.97</td>\n",
       "      <td>48</td>\n",
       "      <td>1.41</td>\n",
       "      <td>71.3</td>\n",
       "      <td>20.0</td>\n",
       "      <td>82.5</td>\n",
       "      <td>20.0</td>\n",
       "      <td>0</td>\n",
       "      <td>...</td>\n",
       "      <td>0</td>\n",
       "      <td>0</td>\n",
       "      <td>0</td>\n",
       "      <td>0</td>\n",
       "      <td>0</td>\n",
       "      <td>0</td>\n",
       "      <td>0</td>\n",
       "      <td>0</td>\n",
       "      <td>0</td>\n",
       "      <td>0</td>\n",
       "    </tr>\n",
       "    <tr>\n",
       "      <th>1</th>\n",
       "      <td>1</td>\n",
       "      <td>46</td>\n",
       "      <td>1.35</td>\n",
       "      <td>43</td>\n",
       "      <td>1.26</td>\n",
       "      <td>64.4</td>\n",
       "      <td>28.6</td>\n",
       "      <td>73.2</td>\n",
       "      <td>0.0</td>\n",
       "      <td>0</td>\n",
       "      <td>...</td>\n",
       "      <td>0</td>\n",
       "      <td>0</td>\n",
       "      <td>0</td>\n",
       "      <td>0</td>\n",
       "      <td>0</td>\n",
       "      <td>0</td>\n",
       "      <td>0</td>\n",
       "      <td>0</td>\n",
       "      <td>0</td>\n",
       "      <td>1</td>\n",
       "    </tr>\n",
       "    <tr>\n",
       "      <th>2</th>\n",
       "      <td>1</td>\n",
       "      <td>67</td>\n",
       "      <td>1.97</td>\n",
       "      <td>43</td>\n",
       "      <td>1.26</td>\n",
       "      <td>70.3</td>\n",
       "      <td>9.1</td>\n",
       "      <td>70.7</td>\n",
       "      <td>0.0</td>\n",
       "      <td>0</td>\n",
       "      <td>...</td>\n",
       "      <td>0</td>\n",
       "      <td>0</td>\n",
       "      <td>0</td>\n",
       "      <td>0</td>\n",
       "      <td>0</td>\n",
       "      <td>0</td>\n",
       "      <td>0</td>\n",
       "      <td>0</td>\n",
       "      <td>0</td>\n",
       "      <td>0</td>\n",
       "    </tr>\n",
       "    <tr>\n",
       "      <th>3</th>\n",
       "      <td>0</td>\n",
       "      <td>53</td>\n",
       "      <td>1.56</td>\n",
       "      <td>34</td>\n",
       "      <td>1.00</td>\n",
       "      <td>65.8</td>\n",
       "      <td>25.0</td>\n",
       "      <td>75.9</td>\n",
       "      <td>28.6</td>\n",
       "      <td>0</td>\n",
       "      <td>...</td>\n",
       "      <td>0</td>\n",
       "      <td>0</td>\n",
       "      <td>0</td>\n",
       "      <td>0</td>\n",
       "      <td>0</td>\n",
       "      <td>0</td>\n",
       "      <td>0</td>\n",
       "      <td>0</td>\n",
       "      <td>1</td>\n",
       "      <td>0</td>\n",
       "    </tr>\n",
       "    <tr>\n",
       "      <th>4</th>\n",
       "      <td>1</td>\n",
       "      <td>56</td>\n",
       "      <td>1.65</td>\n",
       "      <td>49</td>\n",
       "      <td>1.44</td>\n",
       "      <td>69.6</td>\n",
       "      <td>30.0</td>\n",
       "      <td>72.7</td>\n",
       "      <td>28.6</td>\n",
       "      <td>0</td>\n",
       "      <td>...</td>\n",
       "      <td>0</td>\n",
       "      <td>0</td>\n",
       "      <td>0</td>\n",
       "      <td>0</td>\n",
       "      <td>0</td>\n",
       "      <td>0</td>\n",
       "      <td>0</td>\n",
       "      <td>0</td>\n",
       "      <td>0</td>\n",
       "      <td>0</td>\n",
       "    </tr>\n",
       "  </tbody>\n",
       "</table>\n",
       "<p>5 rows × 65 columns</p>\n",
       "</div>"
      ],
      "text/plain": [
       "   Result  hometeam_pts  hometeam_ppg  awayteam_pts  awayteam_ppg  \\\n",
       "0       0            67          1.97            48          1.41   \n",
       "1       1            46          1.35            43          1.26   \n",
       "2       1            67          1.97            43          1.26   \n",
       "3       0            53          1.56            34          1.00   \n",
       "4       1            56          1.65            49          1.44   \n",
       "\n",
       "   Away_G_save%  Away_p_save%  Home_G_save%  Home_p_save%  \\\n",
       "0          71.3          20.0          82.5          20.0   \n",
       "1          64.4          28.6          73.2           0.0   \n",
       "2          70.3           9.1          70.7           0.0   \n",
       "3          65.8          25.0          75.9          28.6   \n",
       "4          69.6          30.0          72.7          28.6   \n",
       "\n",
       "   Home_team_Atlanta Utd  ...  Away_team_New York RB  Away_team_Orlando City  \\\n",
       "0                      0  ...                      0                       0   \n",
       "1                      0  ...                      0                       0   \n",
       "2                      0  ...                      0                       0   \n",
       "3                      0  ...                      0                       0   \n",
       "4                      0  ...                      0                       0   \n",
       "\n",
       "   Away_team_Philadelphia  Away_team_Portland  Away_team_Real Salt Lake  \\\n",
       "0                       0                   0                         0   \n",
       "1                       0                   0                         0   \n",
       "2                       0                   0                         0   \n",
       "3                       0                   0                         0   \n",
       "4                       0                   0                         0   \n",
       "\n",
       "   Away_team_SJ Earthquakes  Away_team_Seattle  Away_team_Sporting KC  \\\n",
       "0                         0                  0                      0   \n",
       "1                         0                  0                      0   \n",
       "2                         0                  0                      0   \n",
       "3                         0                  0                      0   \n",
       "4                         0                  0                      0   \n",
       "\n",
       "   Away_team_Toronto  Away_team_Vancouver  \n",
       "0                  0                    0  \n",
       "1                  0                    1  \n",
       "2                  0                    0  \n",
       "3                  1                    0  \n",
       "4                  0                    0  \n",
       "\n",
       "[5 rows x 65 columns]"
      ]
     },
     "execution_count": 28,
     "metadata": {},
     "output_type": "execute_result"
    }
   ],
   "source": [
    "msl_encoded.head()"
   ]
  },
  {
   "cell_type": "code",
   "execution_count": 29,
   "id": "3a21d747",
   "metadata": {},
   "outputs": [],
   "source": [
    "X = msl_encoded.drop(['Result'], axis=1)\n",
    "y = msl_encoded['Result']"
   ]
  },
  {
   "cell_type": "code",
   "execution_count": 30,
   "id": "9fbaf03f",
   "metadata": {},
   "outputs": [],
   "source": [
    "pca = PCA(n_components=3)\n",
    "X_reduced = pca.fit_transform(X)"
   ]
  },
  {
   "cell_type": "code",
   "execution_count": 31,
   "id": "3f1257ad",
   "metadata": {},
   "outputs": [],
   "source": [
    "X_train, X_test, y_train, y_test = train_test_split(X_reduced, y, test_size=0.1, random_state=42)"
   ]
  },
  {
   "cell_type": "code",
   "execution_count": 33,
   "id": "fd65b11c",
   "metadata": {},
   "outputs": [],
   "source": [
    "from sklearn.svm import SVC"
   ]
  },
  {
   "cell_type": "code",
   "execution_count": 34,
   "id": "ff16997a",
   "metadata": {},
   "outputs": [
    {
     "data": {
      "text/html": [
       "<style>#sk-container-id-1 {color: black;background-color: white;}#sk-container-id-1 pre{padding: 0;}#sk-container-id-1 div.sk-toggleable {background-color: white;}#sk-container-id-1 label.sk-toggleable__label {cursor: pointer;display: block;width: 100%;margin-bottom: 0;padding: 0.3em;box-sizing: border-box;text-align: center;}#sk-container-id-1 label.sk-toggleable__label-arrow:before {content: \"▸\";float: left;margin-right: 0.25em;color: #696969;}#sk-container-id-1 label.sk-toggleable__label-arrow:hover:before {color: black;}#sk-container-id-1 div.sk-estimator:hover label.sk-toggleable__label-arrow:before {color: black;}#sk-container-id-1 div.sk-toggleable__content {max-height: 0;max-width: 0;overflow: hidden;text-align: left;background-color: #f0f8ff;}#sk-container-id-1 div.sk-toggleable__content pre {margin: 0.2em;color: black;border-radius: 0.25em;background-color: #f0f8ff;}#sk-container-id-1 input.sk-toggleable__control:checked~div.sk-toggleable__content {max-height: 200px;max-width: 100%;overflow: auto;}#sk-container-id-1 input.sk-toggleable__control:checked~label.sk-toggleable__label-arrow:before {content: \"▾\";}#sk-container-id-1 div.sk-estimator input.sk-toggleable__control:checked~label.sk-toggleable__label {background-color: #d4ebff;}#sk-container-id-1 div.sk-label input.sk-toggleable__control:checked~label.sk-toggleable__label {background-color: #d4ebff;}#sk-container-id-1 input.sk-hidden--visually {border: 0;clip: rect(1px 1px 1px 1px);clip: rect(1px, 1px, 1px, 1px);height: 1px;margin: -1px;overflow: hidden;padding: 0;position: absolute;width: 1px;}#sk-container-id-1 div.sk-estimator {font-family: monospace;background-color: #f0f8ff;border: 1px dotted black;border-radius: 0.25em;box-sizing: border-box;margin-bottom: 0.5em;}#sk-container-id-1 div.sk-estimator:hover {background-color: #d4ebff;}#sk-container-id-1 div.sk-parallel-item::after {content: \"\";width: 100%;border-bottom: 1px solid gray;flex-grow: 1;}#sk-container-id-1 div.sk-label:hover label.sk-toggleable__label {background-color: #d4ebff;}#sk-container-id-1 div.sk-serial::before {content: \"\";position: absolute;border-left: 1px solid gray;box-sizing: border-box;top: 0;bottom: 0;left: 50%;z-index: 0;}#sk-container-id-1 div.sk-serial {display: flex;flex-direction: column;align-items: center;background-color: white;padding-right: 0.2em;padding-left: 0.2em;position: relative;}#sk-container-id-1 div.sk-item {position: relative;z-index: 1;}#sk-container-id-1 div.sk-parallel {display: flex;align-items: stretch;justify-content: center;background-color: white;position: relative;}#sk-container-id-1 div.sk-item::before, #sk-container-id-1 div.sk-parallel-item::before {content: \"\";position: absolute;border-left: 1px solid gray;box-sizing: border-box;top: 0;bottom: 0;left: 50%;z-index: -1;}#sk-container-id-1 div.sk-parallel-item {display: flex;flex-direction: column;z-index: 1;position: relative;background-color: white;}#sk-container-id-1 div.sk-parallel-item:first-child::after {align-self: flex-end;width: 50%;}#sk-container-id-1 div.sk-parallel-item:last-child::after {align-self: flex-start;width: 50%;}#sk-container-id-1 div.sk-parallel-item:only-child::after {width: 0;}#sk-container-id-1 div.sk-dashed-wrapped {border: 1px dashed gray;margin: 0 0.4em 0.5em 0.4em;box-sizing: border-box;padding-bottom: 0.4em;background-color: white;}#sk-container-id-1 div.sk-label label {font-family: monospace;font-weight: bold;display: inline-block;line-height: 1.2em;}#sk-container-id-1 div.sk-label-container {text-align: center;}#sk-container-id-1 div.sk-container {/* jupyter's `normalize.less` sets `[hidden] { display: none; }` but bootstrap.min.css set `[hidden] { display: none !important; }` so we also need the `!important` here to be able to override the default hidden behavior on the sphinx rendered scikit-learn.org. See: https://github.com/scikit-learn/scikit-learn/issues/21755 */display: inline-block !important;position: relative;}#sk-container-id-1 div.sk-text-repr-fallback {display: none;}</style><div id=\"sk-container-id-1\" class=\"sk-top-container\"><div class=\"sk-text-repr-fallback\"><pre>SVC(kernel=&#x27;linear&#x27;, random_state=42)</pre><b>In a Jupyter environment, please rerun this cell to show the HTML representation or trust the notebook. <br />On GitHub, the HTML representation is unable to render, please try loading this page with nbviewer.org.</b></div><div class=\"sk-container\" hidden><div class=\"sk-item\"><div class=\"sk-estimator sk-toggleable\"><input class=\"sk-toggleable__control sk-hidden--visually\" id=\"sk-estimator-id-1\" type=\"checkbox\" checked><label for=\"sk-estimator-id-1\" class=\"sk-toggleable__label sk-toggleable__label-arrow\">SVC</label><div class=\"sk-toggleable__content\"><pre>SVC(kernel=&#x27;linear&#x27;, random_state=42)</pre></div></div></div></div></div>"
      ],
      "text/plain": [
       "SVC(kernel='linear', random_state=42)"
      ]
     },
     "execution_count": 34,
     "metadata": {},
     "output_type": "execute_result"
    }
   ],
   "source": [
    "# Train an SVM classifier on the training set\n",
    "svm = SVC(kernel='linear', random_state=42)\n",
    "svm.fit(X_train, y_train)"
   ]
  },
  {
   "cell_type": "code",
   "execution_count": 36,
   "id": "02b9025b",
   "metadata": {},
   "outputs": [],
   "source": [
    "from sklearn.metrics import accuracy_score"
   ]
  },
  {
   "cell_type": "code",
   "execution_count": 37,
   "id": "777d2f26",
   "metadata": {},
   "outputs": [
    {
     "name": "stdout",
     "output_type": "stream",
     "text": [
      "Accuracy: 0.4787234042553192\n"
     ]
    }
   ],
   "source": [
    "# Evaluate the SVM classifier on the test set\n",
    "y_pred = svm.predict(X_test)\n",
    "accuracy = accuracy_score(y_test, y_pred)\n",
    "print('Accuracy:', accuracy)"
   ]
  },
  {
   "cell_type": "code",
   "execution_count": 38,
   "id": "b3a1a126",
   "metadata": {},
   "outputs": [],
   "source": [
    "#the Accuracyis 48 % on test data"
   ]
  },
  {
   "cell_type": "code",
   "execution_count": null,
   "id": "03708bec",
   "metadata": {},
   "outputs": [],
   "source": []
  },
  {
   "cell_type": "code",
   "execution_count": 39,
   "id": "d45cd03a",
   "metadata": {},
   "outputs": [],
   "source": [
    "#Hyperparameter tunning"
   ]
  },
  {
   "cell_type": "code",
   "execution_count": 40,
   "id": "f91cb2fa",
   "metadata": {},
   "outputs": [],
   "source": [
    "from sklearn.model_selection import RandomizedSearchCV\n",
    "from sklearn.svm import SVC"
   ]
  },
  {
   "cell_type": "code",
   "execution_count": 41,
   "id": "5fc77ca5",
   "metadata": {},
   "outputs": [],
   "source": [
    "# define the hyperparameter grid to search over\n",
    "param_dist = {'C': np.logspace(-3, 3, 7), \n",
    "              'kernel': ['linear', 'rbf'], \n",
    "              'gamma': np.logspace(-3, 3, 7),\n",
    "              'class_weight': ['balanced', None]}"
   ]
  },
  {
   "cell_type": "code",
   "execution_count": 42,
   "id": "521f73c6",
   "metadata": {},
   "outputs": [],
   "source": [
    "# define the SVM model\n",
    "model = SVC()"
   ]
  },
  {
   "cell_type": "code",
   "execution_count": 43,
   "id": "27437dd7",
   "metadata": {},
   "outputs": [],
   "source": [
    "# define the randomized search object\n",
    "random_search = RandomizedSearchCV(estimator=model, \n",
    "                                   param_distributions=param_dist, \n",
    "                                   n_iter=10, \n",
    "                                   scoring='accuracy', \n",
    "                                   n_jobs=-1, \n",
    "                                   cv=5)"
   ]
  },
  {
   "cell_type": "code",
   "execution_count": 44,
   "id": "5106b9e3",
   "metadata": {},
   "outputs": [
    {
     "data": {
      "text/html": [
       "<style>#sk-container-id-2 {color: black;background-color: white;}#sk-container-id-2 pre{padding: 0;}#sk-container-id-2 div.sk-toggleable {background-color: white;}#sk-container-id-2 label.sk-toggleable__label {cursor: pointer;display: block;width: 100%;margin-bottom: 0;padding: 0.3em;box-sizing: border-box;text-align: center;}#sk-container-id-2 label.sk-toggleable__label-arrow:before {content: \"▸\";float: left;margin-right: 0.25em;color: #696969;}#sk-container-id-2 label.sk-toggleable__label-arrow:hover:before {color: black;}#sk-container-id-2 div.sk-estimator:hover label.sk-toggleable__label-arrow:before {color: black;}#sk-container-id-2 div.sk-toggleable__content {max-height: 0;max-width: 0;overflow: hidden;text-align: left;background-color: #f0f8ff;}#sk-container-id-2 div.sk-toggleable__content pre {margin: 0.2em;color: black;border-radius: 0.25em;background-color: #f0f8ff;}#sk-container-id-2 input.sk-toggleable__control:checked~div.sk-toggleable__content {max-height: 200px;max-width: 100%;overflow: auto;}#sk-container-id-2 input.sk-toggleable__control:checked~label.sk-toggleable__label-arrow:before {content: \"▾\";}#sk-container-id-2 div.sk-estimator input.sk-toggleable__control:checked~label.sk-toggleable__label {background-color: #d4ebff;}#sk-container-id-2 div.sk-label input.sk-toggleable__control:checked~label.sk-toggleable__label {background-color: #d4ebff;}#sk-container-id-2 input.sk-hidden--visually {border: 0;clip: rect(1px 1px 1px 1px);clip: rect(1px, 1px, 1px, 1px);height: 1px;margin: -1px;overflow: hidden;padding: 0;position: absolute;width: 1px;}#sk-container-id-2 div.sk-estimator {font-family: monospace;background-color: #f0f8ff;border: 1px dotted black;border-radius: 0.25em;box-sizing: border-box;margin-bottom: 0.5em;}#sk-container-id-2 div.sk-estimator:hover {background-color: #d4ebff;}#sk-container-id-2 div.sk-parallel-item::after {content: \"\";width: 100%;border-bottom: 1px solid gray;flex-grow: 1;}#sk-container-id-2 div.sk-label:hover label.sk-toggleable__label {background-color: #d4ebff;}#sk-container-id-2 div.sk-serial::before {content: \"\";position: absolute;border-left: 1px solid gray;box-sizing: border-box;top: 0;bottom: 0;left: 50%;z-index: 0;}#sk-container-id-2 div.sk-serial {display: flex;flex-direction: column;align-items: center;background-color: white;padding-right: 0.2em;padding-left: 0.2em;position: relative;}#sk-container-id-2 div.sk-item {position: relative;z-index: 1;}#sk-container-id-2 div.sk-parallel {display: flex;align-items: stretch;justify-content: center;background-color: white;position: relative;}#sk-container-id-2 div.sk-item::before, #sk-container-id-2 div.sk-parallel-item::before {content: \"\";position: absolute;border-left: 1px solid gray;box-sizing: border-box;top: 0;bottom: 0;left: 50%;z-index: -1;}#sk-container-id-2 div.sk-parallel-item {display: flex;flex-direction: column;z-index: 1;position: relative;background-color: white;}#sk-container-id-2 div.sk-parallel-item:first-child::after {align-self: flex-end;width: 50%;}#sk-container-id-2 div.sk-parallel-item:last-child::after {align-self: flex-start;width: 50%;}#sk-container-id-2 div.sk-parallel-item:only-child::after {width: 0;}#sk-container-id-2 div.sk-dashed-wrapped {border: 1px dashed gray;margin: 0 0.4em 0.5em 0.4em;box-sizing: border-box;padding-bottom: 0.4em;background-color: white;}#sk-container-id-2 div.sk-label label {font-family: monospace;font-weight: bold;display: inline-block;line-height: 1.2em;}#sk-container-id-2 div.sk-label-container {text-align: center;}#sk-container-id-2 div.sk-container {/* jupyter's `normalize.less` sets `[hidden] { display: none; }` but bootstrap.min.css set `[hidden] { display: none !important; }` so we also need the `!important` here to be able to override the default hidden behavior on the sphinx rendered scikit-learn.org. See: https://github.com/scikit-learn/scikit-learn/issues/21755 */display: inline-block !important;position: relative;}#sk-container-id-2 div.sk-text-repr-fallback {display: none;}</style><div id=\"sk-container-id-2\" class=\"sk-top-container\"><div class=\"sk-text-repr-fallback\"><pre>RandomizedSearchCV(cv=5, estimator=SVC(), n_jobs=-1,\n",
       "                   param_distributions={&#x27;C&#x27;: array([1.e-03, 1.e-02, 1.e-01, 1.e+00, 1.e+01, 1.e+02, 1.e+03]),\n",
       "                                        &#x27;class_weight&#x27;: [&#x27;balanced&#x27;, None],\n",
       "                                        &#x27;gamma&#x27;: array([1.e-03, 1.e-02, 1.e-01, 1.e+00, 1.e+01, 1.e+02, 1.e+03]),\n",
       "                                        &#x27;kernel&#x27;: [&#x27;linear&#x27;, &#x27;rbf&#x27;]},\n",
       "                   scoring=&#x27;accuracy&#x27;)</pre><b>In a Jupyter environment, please rerun this cell to show the HTML representation or trust the notebook. <br />On GitHub, the HTML representation is unable to render, please try loading this page with nbviewer.org.</b></div><div class=\"sk-container\" hidden><div class=\"sk-item sk-dashed-wrapped\"><div class=\"sk-label-container\"><div class=\"sk-label sk-toggleable\"><input class=\"sk-toggleable__control sk-hidden--visually\" id=\"sk-estimator-id-2\" type=\"checkbox\" ><label for=\"sk-estimator-id-2\" class=\"sk-toggleable__label sk-toggleable__label-arrow\">RandomizedSearchCV</label><div class=\"sk-toggleable__content\"><pre>RandomizedSearchCV(cv=5, estimator=SVC(), n_jobs=-1,\n",
       "                   param_distributions={&#x27;C&#x27;: array([1.e-03, 1.e-02, 1.e-01, 1.e+00, 1.e+01, 1.e+02, 1.e+03]),\n",
       "                                        &#x27;class_weight&#x27;: [&#x27;balanced&#x27;, None],\n",
       "                                        &#x27;gamma&#x27;: array([1.e-03, 1.e-02, 1.e-01, 1.e+00, 1.e+01, 1.e+02, 1.e+03]),\n",
       "                                        &#x27;kernel&#x27;: [&#x27;linear&#x27;, &#x27;rbf&#x27;]},\n",
       "                   scoring=&#x27;accuracy&#x27;)</pre></div></div></div><div class=\"sk-parallel\"><div class=\"sk-parallel-item\"><div class=\"sk-item\"><div class=\"sk-label-container\"><div class=\"sk-label sk-toggleable\"><input class=\"sk-toggleable__control sk-hidden--visually\" id=\"sk-estimator-id-3\" type=\"checkbox\" ><label for=\"sk-estimator-id-3\" class=\"sk-toggleable__label sk-toggleable__label-arrow\">estimator: SVC</label><div class=\"sk-toggleable__content\"><pre>SVC()</pre></div></div></div><div class=\"sk-serial\"><div class=\"sk-item\"><div class=\"sk-estimator sk-toggleable\"><input class=\"sk-toggleable__control sk-hidden--visually\" id=\"sk-estimator-id-4\" type=\"checkbox\" ><label for=\"sk-estimator-id-4\" class=\"sk-toggleable__label sk-toggleable__label-arrow\">SVC</label><div class=\"sk-toggleable__content\"><pre>SVC()</pre></div></div></div></div></div></div></div></div></div></div>"
      ],
      "text/plain": [
       "RandomizedSearchCV(cv=5, estimator=SVC(), n_jobs=-1,\n",
       "                   param_distributions={'C': array([1.e-03, 1.e-02, 1.e-01, 1.e+00, 1.e+01, 1.e+02, 1.e+03]),\n",
       "                                        'class_weight': ['balanced', None],\n",
       "                                        'gamma': array([1.e-03, 1.e-02, 1.e-01, 1.e+00, 1.e+01, 1.e+02, 1.e+03]),\n",
       "                                        'kernel': ['linear', 'rbf']},\n",
       "                   scoring='accuracy')"
      ]
     },
     "execution_count": 44,
     "metadata": {},
     "output_type": "execute_result"
    }
   ],
   "source": [
    "# perform the randomized search\n",
    "random_search.fit(X_train, y_train)"
   ]
  },
  {
   "cell_type": "code",
   "execution_count": 45,
   "id": "f557b5bd",
   "metadata": {},
   "outputs": [
    {
     "name": "stdout",
     "output_type": "stream",
     "text": [
      "Best Hyperparameters:  {'kernel': 'linear', 'gamma': 10.0, 'class_weight': None, 'C': 100.0}\n",
      "Best Score:  0.48394618202310513\n"
     ]
    }
   ],
   "source": [
    "# print the best hyperparameters and corresponding score\n",
    "print('Best Hyperparameters: ', random_search.best_params_)\n",
    "print('Best Score: ', random_search.best_score_)"
   ]
  },
  {
   "cell_type": "code",
   "execution_count": null,
   "id": "178e7a00",
   "metadata": {},
   "outputs": [],
   "source": []
  }
 ],
 "metadata": {
  "kernelspec": {
   "display_name": "Python 3 (ipykernel)",
   "language": "python",
   "name": "python3"
  },
  "language_info": {
   "codemirror_mode": {
    "name": "ipython",
    "version": 3
   },
   "file_extension": ".py",
   "mimetype": "text/x-python",
   "name": "python",
   "nbconvert_exporter": "python",
   "pygments_lexer": "ipython3",
   "version": "3.9.12"
  }
 },
 "nbformat": 4,
 "nbformat_minor": 5
}
